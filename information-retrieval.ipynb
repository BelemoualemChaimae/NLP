{
  "nbformat": 4,
  "nbformat_minor": 0,
  "metadata": {
    "colab": {
      "name": "IR.ipynb",
      "provenance": [],
      "collapsed_sections": [],
      "authorship_tag": "ABX9TyPdcz9f88I5vpK5Fnus9ECv",
      "include_colab_link": true
    },
    "kernelspec": {
      "name": "python3",
      "display_name": "Python 3"
    },
    "accelerator": "GPU"
  },
  "cells": [
    {
      "cell_type": "markdown",
      "metadata": {
        "id": "view-in-github",
        "colab_type": "text"
      },
      "source": [
        "<a href=\"https://colab.research.google.com/github/BelemoualemChaimae/NLP/blob/main/information-retrieval.ipynb\" target=\"_parent\"><img src=\"https://colab.research.google.com/assets/colab-badge.svg\" alt=\"Open In Colab\"/></a>"
      ]
    },
    {
      "cell_type": "code",
      "metadata": {
        "colab": {
          "base_uri": "https://localhost:8080/"
        },
        "id": "5qkox6x89Htz",
        "outputId": "c276b0e6-7613-4e90-9a7f-58be38a21240"
      },
      "source": [
        "!wget https://msmarco.blob.core.windows.net/msmarcoranking/msmarco-docs.tsv.gz\n",
        "!wget https://msmarco.blob.core.windows.net/msmarcoranking/msmarco-doctrain-queries.tsv.gz\n",
        "!wget https://msmarco.blob.core.windows.net/msmarcoranking/msmarco-doctrain-top100.gz\n",
        "\t\n",
        "!gzip -d msmarco-docs.tsv.gz\n",
        "!gzip -d msmarco-doctrain-queries.tsv.gz\n",
        "!gzip -d msmarco-doctrain-top100.gz\n"
      ],
      "execution_count": null,
      "outputs": [
        {
          "output_type": "stream",
          "text": [
            "--2021-02-02 20:14:11--  https://msmarco.blob.core.windows.net/msmarcoranking/msmarco-docs.tsv.gz\n",
            "Resolving msmarco.blob.core.windows.net (msmarco.blob.core.windows.net)... 40.112.152.16\n",
            "Connecting to msmarco.blob.core.windows.net (msmarco.blob.core.windows.net)|40.112.152.16|:443... connected.\n",
            "HTTP request sent, awaiting response... 200 OK\n",
            "Length: 8446274598 (7.9G) [application/x-gzip]\n",
            "Saving to: ‘msmarco-docs.tsv.gz’\n",
            "\n",
            "msmarco-docs.tsv.gz 100%[===================>]   7.87G  14.9MB/s    in 11m 25s \n",
            "\n",
            "2021-02-02 20:25:37 (11.8 MB/s) - ‘msmarco-docs.tsv.gz’ saved [8446274598/8446274598]\n",
            "\n",
            "--2021-02-02 20:25:37--  https://msmarco.blob.core.windows.net/msmarcoranking/msmarco-doctrain-queries.tsv.gz\n",
            "Resolving msmarco.blob.core.windows.net (msmarco.blob.core.windows.net)... 40.112.152.16\n",
            "Connecting to msmarco.blob.core.windows.net (msmarco.blob.core.windows.net)|40.112.152.16|:443... connected.\n",
            "HTTP request sent, awaiting response... 200 OK\n",
            "Length: 6457962 (6.2M) [application/x-gzip]\n",
            "Saving to: ‘msmarco-doctrain-queries.tsv.gz’\n",
            "\n",
            "msmarco-doctrain-qu 100%[===================>]   6.16M  18.3MB/s    in 0.3s    \n",
            "\n",
            "2021-02-02 20:25:37 (18.3 MB/s) - ‘msmarco-doctrain-queries.tsv.gz’ saved [6457962/6457962]\n",
            "\n",
            "--2021-02-02 20:25:37--  https://msmarco.blob.core.windows.net/msmarcoranking/msmarco-doctrain-top100.gz\n",
            "Resolving msmarco.blob.core.windows.net (msmarco.blob.core.windows.net)... 40.112.152.16\n",
            "Connecting to msmarco.blob.core.windows.net (msmarco.blob.core.windows.net)|40.112.152.16|:443... connected.\n",
            "HTTP request sent, awaiting response... 200 OK\n",
            "Length: 403564127 (385M) [application/x-gzip]\n",
            "Saving to: ‘msmarco-doctrain-top100.gz’\n",
            "\n",
            "msmarco-doctrain-to 100%[===================>] 384.87M  15.6MB/s    in 34s     \n",
            "\n",
            "2021-02-02 20:26:12 (11.2 MB/s) - ‘msmarco-doctrain-top100.gz’ saved [403564127/403564127]\n",
            "\n"
          ],
          "name": "stdout"
        }
      ]
    },
    {
      "cell_type": "code",
      "metadata": {
        "id": "LG1wBgxLKYho",
        "colab": {
          "base_uri": "https://localhost:8080/"
        },
        "outputId": "08835d92-2979-4719-e472-7d6e4e0f4dd0"
      },
      "source": [
        "!gzip -d msmarco-docs.tsv.gz"
      ],
      "execution_count": null,
      "outputs": [
        {
          "output_type": "stream",
          "text": [
            "gzip: msmarco-docs.tsv.gz: No such file or directory\n"
          ],
          "name": "stdout"
        }
      ]
    },
    {
      "cell_type": "code",
      "metadata": {
        "colab": {
          "base_uri": "https://localhost:8080/"
        },
        "id": "nekxEVOfJHtx",
        "outputId": "cfeb366e-4ff3-4abf-afe7-54bdee4f81de"
      },
      "source": [
        "!pip install dask "
      ],
      "execution_count": null,
      "outputs": [
        {
          "output_type": "stream",
          "text": [
            "Requirement already satisfied: dask in /usr/local/lib/python3.6/dist-packages (2.12.0)\n"
          ],
          "name": "stdout"
        }
      ]
    },
    {
      "cell_type": "code",
      "metadata": {
        "id": "JqkAzROkI__M"
      },
      "source": [
        "import pandas as pd\n",
        "import numpy as np\n"
      ],
      "execution_count": null,
      "outputs": []
    },
    {
      "cell_type": "code",
      "metadata": {
        "colab": {
          "base_uri": "https://localhost:8080/",
          "height": 207
        },
        "id": "7rUCmuW5JWJH",
        "outputId": "823d1dd1-ef6b-4391-ee93-1026a9946785"
      },
      "source": [
        "queries_train=pd.read_table('msmarco-doctrain-queries.tsv',header=None)\n",
        "queries_train.columns=['qid','query']\n",
        "print('Shape=>',queries_train.shape)\n",
        "queries_train.head()"
      ],
      "execution_count": null,
      "outputs": [
        {
          "output_type": "stream",
          "text": [
            "Shape=> (367013, 2)\n"
          ],
          "name": "stdout"
        },
        {
          "output_type": "execute_result",
          "data": {
            "text/html": [
              "<div>\n",
              "<style scoped>\n",
              "    .dataframe tbody tr th:only-of-type {\n",
              "        vertical-align: middle;\n",
              "    }\n",
              "\n",
              "    .dataframe tbody tr th {\n",
              "        vertical-align: top;\n",
              "    }\n",
              "\n",
              "    .dataframe thead th {\n",
              "        text-align: right;\n",
              "    }\n",
              "</style>\n",
              "<table border=\"1\" class=\"dataframe\">\n",
              "  <thead>\n",
              "    <tr style=\"text-align: right;\">\n",
              "      <th></th>\n",
              "      <th>qid</th>\n",
              "      <th>query</th>\n",
              "    </tr>\n",
              "  </thead>\n",
              "  <tbody>\n",
              "    <tr>\n",
              "      <th>0</th>\n",
              "      <td>1185869</td>\n",
              "      <td>)what was the immediate impact of the success ...</td>\n",
              "    </tr>\n",
              "    <tr>\n",
              "      <th>1</th>\n",
              "      <td>1185868</td>\n",
              "      <td>_________ justice is designed to repair the ha...</td>\n",
              "    </tr>\n",
              "    <tr>\n",
              "      <th>2</th>\n",
              "      <td>1183785</td>\n",
              "      <td>elegxo meaning</td>\n",
              "    </tr>\n",
              "    <tr>\n",
              "      <th>3</th>\n",
              "      <td>645590</td>\n",
              "      <td>what does physical medicine do</td>\n",
              "    </tr>\n",
              "    <tr>\n",
              "      <th>4</th>\n",
              "      <td>186154</td>\n",
              "      <td>feeding rice cereal how many times per day</td>\n",
              "    </tr>\n",
              "  </tbody>\n",
              "</table>\n",
              "</div>"
            ],
            "text/plain": [
              "       qid                                              query\n",
              "0  1185869  )what was the immediate impact of the success ...\n",
              "1  1185868  _________ justice is designed to repair the ha...\n",
              "2  1183785                                     elegxo meaning\n",
              "3   645590                     what does physical medicine do\n",
              "4   186154         feeding rice cereal how many times per day"
            ]
          },
          "metadata": {
            "tags": []
          },
          "execution_count": 6
        }
      ]
    },
    {
      "cell_type": "code",
      "metadata": {
        "colab": {
          "base_uri": "https://localhost:8080/",
          "height": 207
        },
        "id": "f6tnAd60JigC",
        "outputId": "0be92be5-20b1-40ff-f905-e021da877332"
      },
      "source": [
        "queries=queries_train.sample(n=2000,random_state=42).reset_index(drop=True)\n",
        "print('Shape=>',queries.shape)\n",
        "queries.head()"
      ],
      "execution_count": null,
      "outputs": [
        {
          "output_type": "stream",
          "text": [
            "Shape=> (2000, 2)\n"
          ],
          "name": "stdout"
        },
        {
          "output_type": "execute_result",
          "data": {
            "text/html": [
              "<div>\n",
              "<style scoped>\n",
              "    .dataframe tbody tr th:only-of-type {\n",
              "        vertical-align: middle;\n",
              "    }\n",
              "\n",
              "    .dataframe tbody tr th {\n",
              "        vertical-align: top;\n",
              "    }\n",
              "\n",
              "    .dataframe thead th {\n",
              "        text-align: right;\n",
              "    }\n",
              "</style>\n",
              "<table border=\"1\" class=\"dataframe\">\n",
              "  <thead>\n",
              "    <tr style=\"text-align: right;\">\n",
              "      <th></th>\n",
              "      <th>qid</th>\n",
              "      <th>query</th>\n",
              "    </tr>\n",
              "  </thead>\n",
              "  <tbody>\n",
              "    <tr>\n",
              "      <th>0</th>\n",
              "      <td>687888</td>\n",
              "      <td>what is a jpe</td>\n",
              "    </tr>\n",
              "    <tr>\n",
              "      <th>1</th>\n",
              "      <td>480210</td>\n",
              "      <td>price for asphalt driveway</td>\n",
              "    </tr>\n",
              "    <tr>\n",
              "      <th>2</th>\n",
              "      <td>591004</td>\n",
              "      <td>what causes pressure skin bruising</td>\n",
              "    </tr>\n",
              "    <tr>\n",
              "      <th>3</th>\n",
              "      <td>260536</td>\n",
              "      <td>how long drive from flagstaff to grand canyon</td>\n",
              "    </tr>\n",
              "    <tr>\n",
              "      <th>4</th>\n",
              "      <td>39422</td>\n",
              "      <td>average number of bowel movements per day for ...</td>\n",
              "    </tr>\n",
              "  </tbody>\n",
              "</table>\n",
              "</div>"
            ],
            "text/plain": [
              "      qid                                              query\n",
              "0  687888                                      what is a jpe\n",
              "1  480210                         price for asphalt driveway\n",
              "2  591004                 what causes pressure skin bruising\n",
              "3  260536      how long drive from flagstaff to grand canyon\n",
              "4   39422  average number of bowel movements per day for ..."
            ]
          },
          "metadata": {
            "tags": []
          },
          "execution_count": 7
        }
      ]
    },
    {
      "cell_type": "code",
      "metadata": {
        "colab": {
          "base_uri": "https://localhost:8080/",
          "height": 207
        },
        "id": "f3BwEgRAQCJb",
        "outputId": "2a94fa42-0d3d-40ed-d27f-8fa35c07e657"
      },
      "source": [
        "# Creating Training Set of Queries\n",
        "training_queries=queries.iloc[:1000]\n",
        "print('Shape=>',training_queries.shape)\n",
        "training_queries.head()"
      ],
      "execution_count": null,
      "outputs": [
        {
          "output_type": "stream",
          "text": [
            "Shape=> (1000, 2)\n"
          ],
          "name": "stdout"
        },
        {
          "output_type": "execute_result",
          "data": {
            "text/html": [
              "<div>\n",
              "<style scoped>\n",
              "    .dataframe tbody tr th:only-of-type {\n",
              "        vertical-align: middle;\n",
              "    }\n",
              "\n",
              "    .dataframe tbody tr th {\n",
              "        vertical-align: top;\n",
              "    }\n",
              "\n",
              "    .dataframe thead th {\n",
              "        text-align: right;\n",
              "    }\n",
              "</style>\n",
              "<table border=\"1\" class=\"dataframe\">\n",
              "  <thead>\n",
              "    <tr style=\"text-align: right;\">\n",
              "      <th></th>\n",
              "      <th>qid</th>\n",
              "      <th>query</th>\n",
              "    </tr>\n",
              "  </thead>\n",
              "  <tbody>\n",
              "    <tr>\n",
              "      <th>0</th>\n",
              "      <td>687888</td>\n",
              "      <td>what is a jpe</td>\n",
              "    </tr>\n",
              "    <tr>\n",
              "      <th>1</th>\n",
              "      <td>480210</td>\n",
              "      <td>price for asphalt driveway</td>\n",
              "    </tr>\n",
              "    <tr>\n",
              "      <th>2</th>\n",
              "      <td>591004</td>\n",
              "      <td>what causes pressure skin bruising</td>\n",
              "    </tr>\n",
              "    <tr>\n",
              "      <th>3</th>\n",
              "      <td>260536</td>\n",
              "      <td>how long drive from flagstaff to grand canyon</td>\n",
              "    </tr>\n",
              "    <tr>\n",
              "      <th>4</th>\n",
              "      <td>39422</td>\n",
              "      <td>average number of bowel movements per day for ...</td>\n",
              "    </tr>\n",
              "  </tbody>\n",
              "</table>\n",
              "</div>"
            ],
            "text/plain": [
              "      qid                                              query\n",
              "0  687888                                      what is a jpe\n",
              "1  480210                         price for asphalt driveway\n",
              "2  591004                 what causes pressure skin bruising\n",
              "3  260536      how long drive from flagstaff to grand canyon\n",
              "4   39422  average number of bowel movements per day for ..."
            ]
          },
          "metadata": {
            "tags": []
          },
          "execution_count": 8
        }
      ]
    },
    {
      "cell_type": "code",
      "metadata": {
        "colab": {
          "base_uri": "https://localhost:8080/",
          "height": 207
        },
        "id": "hrBP6OBRSSbH",
        "outputId": "97b846de-2eb3-46e5-d61e-8f6f69922032"
      },
      "source": [
        "# Creating Testing Set of Queries\n",
        "testing_queries=queries.iloc[1000:]\n",
        "print('Shape=>',testing_queries.shape)\n",
        "testing_queries.head()"
      ],
      "execution_count": null,
      "outputs": [
        {
          "output_type": "stream",
          "text": [
            "Shape=> (1000, 2)\n"
          ],
          "name": "stdout"
        },
        {
          "output_type": "execute_result",
          "data": {
            "text/html": [
              "<div>\n",
              "<style scoped>\n",
              "    .dataframe tbody tr th:only-of-type {\n",
              "        vertical-align: middle;\n",
              "    }\n",
              "\n",
              "    .dataframe tbody tr th {\n",
              "        vertical-align: top;\n",
              "    }\n",
              "\n",
              "    .dataframe thead th {\n",
              "        text-align: right;\n",
              "    }\n",
              "</style>\n",
              "<table border=\"1\" class=\"dataframe\">\n",
              "  <thead>\n",
              "    <tr style=\"text-align: right;\">\n",
              "      <th></th>\n",
              "      <th>qid</th>\n",
              "      <th>query</th>\n",
              "    </tr>\n",
              "  </thead>\n",
              "  <tbody>\n",
              "    <tr>\n",
              "      <th>1000</th>\n",
              "      <td>807599</td>\n",
              "      <td>what is the axis mundi?</td>\n",
              "    </tr>\n",
              "    <tr>\n",
              "      <th>1001</th>\n",
              "      <td>990945</td>\n",
              "      <td>where is pratt kansas</td>\n",
              "    </tr>\n",
              "    <tr>\n",
              "      <th>1002</th>\n",
              "      <td>48210</td>\n",
              "      <td>backordered definition</td>\n",
              "    </tr>\n",
              "    <tr>\n",
              "      <th>1003</th>\n",
              "      <td>894254</td>\n",
              "      <td>what show did simon baker play in</td>\n",
              "    </tr>\n",
              "    <tr>\n",
              "      <th>1004</th>\n",
              "      <td>165579</td>\n",
              "      <td>does dna replication in mitosis and meiosis</td>\n",
              "    </tr>\n",
              "  </tbody>\n",
              "</table>\n",
              "</div>"
            ],
            "text/plain": [
              "         qid                                        query\n",
              "1000  807599                      what is the axis mundi?\n",
              "1001  990945                        where is pratt kansas\n",
              "1002   48210                       backordered definition\n",
              "1003  894254            what show did simon baker play in\n",
              "1004  165579  does dna replication in mitosis and meiosis"
            ]
          },
          "metadata": {
            "tags": []
          },
          "execution_count": 9
        }
      ]
    },
    {
      "cell_type": "code",
      "metadata": {
        "colab": {
          "base_uri": "https://localhost:8080/",
          "height": 207
        },
        "id": "bu7alpzrSYsM",
        "outputId": "ec9d07b1-12ec-4ebf-dcf2-5056f1554d51"
      },
      "source": [
        "train_top100=pd.read_table('/content/msmarco-doctrain-top100',delimiter=' ',header=None)\n",
        "train_top100.columns=['qid','Q0','docid','rank','score','runstring']\n",
        "print('Shape=>',train_top100.shape)\n",
        "train_top100.head()"
      ],
      "execution_count": null,
      "outputs": [
        {
          "output_type": "stream",
          "text": [
            "Shape=> (36701116, 6)\n"
          ],
          "name": "stdout"
        },
        {
          "output_type": "execute_result",
          "data": {
            "text/html": [
              "<div>\n",
              "<style scoped>\n",
              "    .dataframe tbody tr th:only-of-type {\n",
              "        vertical-align: middle;\n",
              "    }\n",
              "\n",
              "    .dataframe tbody tr th {\n",
              "        vertical-align: top;\n",
              "    }\n",
              "\n",
              "    .dataframe thead th {\n",
              "        text-align: right;\n",
              "    }\n",
              "</style>\n",
              "<table border=\"1\" class=\"dataframe\">\n",
              "  <thead>\n",
              "    <tr style=\"text-align: right;\">\n",
              "      <th></th>\n",
              "      <th>qid</th>\n",
              "      <th>Q0</th>\n",
              "      <th>docid</th>\n",
              "      <th>rank</th>\n",
              "      <th>score</th>\n",
              "      <th>runstring</th>\n",
              "    </tr>\n",
              "  </thead>\n",
              "  <tbody>\n",
              "    <tr>\n",
              "      <th>0</th>\n",
              "      <td>1185869</td>\n",
              "      <td>Q0</td>\n",
              "      <td>D59221</td>\n",
              "      <td>1</td>\n",
              "      <td>-4.80433</td>\n",
              "      <td>IndriQueryLikelihood</td>\n",
              "    </tr>\n",
              "    <tr>\n",
              "      <th>1</th>\n",
              "      <td>1185869</td>\n",
              "      <td>Q0</td>\n",
              "      <td>D59220</td>\n",
              "      <td>2</td>\n",
              "      <td>-4.92127</td>\n",
              "      <td>IndriQueryLikelihood</td>\n",
              "    </tr>\n",
              "    <tr>\n",
              "      <th>2</th>\n",
              "      <td>1185869</td>\n",
              "      <td>Q0</td>\n",
              "      <td>D2192591</td>\n",
              "      <td>3</td>\n",
              "      <td>-5.05215</td>\n",
              "      <td>IndriQueryLikelihood</td>\n",
              "    </tr>\n",
              "    <tr>\n",
              "      <th>3</th>\n",
              "      <td>1185869</td>\n",
              "      <td>Q0</td>\n",
              "      <td>D2777518</td>\n",
              "      <td>4</td>\n",
              "      <td>-5.05486</td>\n",
              "      <td>IndriQueryLikelihood</td>\n",
              "    </tr>\n",
              "    <tr>\n",
              "      <th>4</th>\n",
              "      <td>1185869</td>\n",
              "      <td>Q0</td>\n",
              "      <td>D2371978</td>\n",
              "      <td>5</td>\n",
              "      <td>-5.07048</td>\n",
              "      <td>IndriQueryLikelihood</td>\n",
              "    </tr>\n",
              "  </tbody>\n",
              "</table>\n",
              "</div>"
            ],
            "text/plain": [
              "       qid  Q0     docid  rank    score             runstring\n",
              "0  1185869  Q0    D59221     1 -4.80433  IndriQueryLikelihood\n",
              "1  1185869  Q0    D59220     2 -4.92127  IndriQueryLikelihood\n",
              "2  1185869  Q0  D2192591     3 -5.05215  IndriQueryLikelihood\n",
              "3  1185869  Q0  D2777518     4 -5.05486  IndriQueryLikelihood\n",
              "4  1185869  Q0  D2371978     5 -5.07048  IndriQueryLikelihood"
            ]
          },
          "metadata": {
            "tags": []
          },
          "execution_count": 10
        }
      ]
    },
    {
      "cell_type": "code",
      "metadata": {
        "colab": {
          "base_uri": "https://localhost:8080/",
          "height": 207
        },
        "id": "HSFHsq9FSptr",
        "outputId": "da970b7a-95a4-4ea4-ab62-4b7380a766b7"
      },
      "source": [
        "# Reducing train_top100 for training\n",
        "training_ranked100=train_top100[train_top100['qid'].isin(training_queries['qid'].unique())].reset_index(drop=True)\n",
        "print('Shape=>',training_ranked100.shape)\n",
        "training_ranked100.head()"
      ],
      "execution_count": null,
      "outputs": [
        {
          "output_type": "stream",
          "text": [
            "Shape=> (100000, 6)\n"
          ],
          "name": "stdout"
        },
        {
          "output_type": "execute_result",
          "data": {
            "text/html": [
              "<div>\n",
              "<style scoped>\n",
              "    .dataframe tbody tr th:only-of-type {\n",
              "        vertical-align: middle;\n",
              "    }\n",
              "\n",
              "    .dataframe tbody tr th {\n",
              "        vertical-align: top;\n",
              "    }\n",
              "\n",
              "    .dataframe thead th {\n",
              "        text-align: right;\n",
              "    }\n",
              "</style>\n",
              "<table border=\"1\" class=\"dataframe\">\n",
              "  <thead>\n",
              "    <tr style=\"text-align: right;\">\n",
              "      <th></th>\n",
              "      <th>qid</th>\n",
              "      <th>Q0</th>\n",
              "      <th>docid</th>\n",
              "      <th>rank</th>\n",
              "      <th>score</th>\n",
              "      <th>runstring</th>\n",
              "    </tr>\n",
              "  </thead>\n",
              "  <tbody>\n",
              "    <tr>\n",
              "      <th>0</th>\n",
              "      <td>310290</td>\n",
              "      <td>Q0</td>\n",
              "      <td>D579750</td>\n",
              "      <td>1</td>\n",
              "      <td>-5.11498</td>\n",
              "      <td>IndriQueryLikelihood</td>\n",
              "    </tr>\n",
              "    <tr>\n",
              "      <th>1</th>\n",
              "      <td>310290</td>\n",
              "      <td>Q0</td>\n",
              "      <td>D579754</td>\n",
              "      <td>2</td>\n",
              "      <td>-5.57703</td>\n",
              "      <td>IndriQueryLikelihood</td>\n",
              "    </tr>\n",
              "    <tr>\n",
              "      <th>2</th>\n",
              "      <td>310290</td>\n",
              "      <td>Q0</td>\n",
              "      <td>D2380815</td>\n",
              "      <td>3</td>\n",
              "      <td>-5.84852</td>\n",
              "      <td>IndriQueryLikelihood</td>\n",
              "    </tr>\n",
              "    <tr>\n",
              "      <th>3</th>\n",
              "      <td>310290</td>\n",
              "      <td>Q0</td>\n",
              "      <td>D822566</td>\n",
              "      <td>4</td>\n",
              "      <td>-5.95002</td>\n",
              "      <td>IndriQueryLikelihood</td>\n",
              "    </tr>\n",
              "    <tr>\n",
              "      <th>4</th>\n",
              "      <td>310290</td>\n",
              "      <td>Q0</td>\n",
              "      <td>D2249695</td>\n",
              "      <td>5</td>\n",
              "      <td>-6.08326</td>\n",
              "      <td>IndriQueryLikelihood</td>\n",
              "    </tr>\n",
              "  </tbody>\n",
              "</table>\n",
              "</div>"
            ],
            "text/plain": [
              "      qid  Q0     docid  rank    score             runstring\n",
              "0  310290  Q0   D579750     1 -5.11498  IndriQueryLikelihood\n",
              "1  310290  Q0   D579754     2 -5.57703  IndriQueryLikelihood\n",
              "2  310290  Q0  D2380815     3 -5.84852  IndriQueryLikelihood\n",
              "3  310290  Q0   D822566     4 -5.95002  IndriQueryLikelihood\n",
              "4  310290  Q0  D2249695     5 -6.08326  IndriQueryLikelihood"
            ]
          },
          "metadata": {
            "tags": []
          },
          "execution_count": 11
        }
      ]
    },
    {
      "cell_type": "code",
      "metadata": {
        "colab": {
          "base_uri": "https://localhost:8080/",
          "height": 207
        },
        "id": "Bqy3oYXVTL7b",
        "outputId": "8a781516-fd7d-421e-ad27-b17021bd2f7c"
      },
      "source": [
        "# Reducing train_top100 for testing\n",
        "testing_ranked100=train_top100[train_top100['qid'].isin(testing_queries['qid'].unique())].reset_index(drop=True)\n",
        "print('Shape=>',testing_ranked100.shape)\n",
        "testing_ranked100.head()"
      ],
      "execution_count": null,
      "outputs": [
        {
          "output_type": "stream",
          "text": [
            "Shape=> (100000, 6)\n"
          ],
          "name": "stdout"
        },
        {
          "output_type": "execute_result",
          "data": {
            "text/html": [
              "<div>\n",
              "<style scoped>\n",
              "    .dataframe tbody tr th:only-of-type {\n",
              "        vertical-align: middle;\n",
              "    }\n",
              "\n",
              "    .dataframe tbody tr th {\n",
              "        vertical-align: top;\n",
              "    }\n",
              "\n",
              "    .dataframe thead th {\n",
              "        text-align: right;\n",
              "    }\n",
              "</style>\n",
              "<table border=\"1\" class=\"dataframe\">\n",
              "  <thead>\n",
              "    <tr style=\"text-align: right;\">\n",
              "      <th></th>\n",
              "      <th>qid</th>\n",
              "      <th>Q0</th>\n",
              "      <th>docid</th>\n",
              "      <th>rank</th>\n",
              "      <th>score</th>\n",
              "      <th>runstring</th>\n",
              "    </tr>\n",
              "  </thead>\n",
              "  <tbody>\n",
              "    <tr>\n",
              "      <th>0</th>\n",
              "      <td>1164761</td>\n",
              "      <td>Q0</td>\n",
              "      <td>D3261512</td>\n",
              "      <td>1</td>\n",
              "      <td>-4.92320</td>\n",
              "      <td>IndriQueryLikelihood</td>\n",
              "    </tr>\n",
              "    <tr>\n",
              "      <th>1</th>\n",
              "      <td>1164761</td>\n",
              "      <td>Q0</td>\n",
              "      <td>D1529569</td>\n",
              "      <td>2</td>\n",
              "      <td>-5.01292</td>\n",
              "      <td>IndriQueryLikelihood</td>\n",
              "    </tr>\n",
              "    <tr>\n",
              "      <th>2</th>\n",
              "      <td>1164761</td>\n",
              "      <td>Q0</td>\n",
              "      <td>D3444265</td>\n",
              "      <td>3</td>\n",
              "      <td>-5.03616</td>\n",
              "      <td>IndriQueryLikelihood</td>\n",
              "    </tr>\n",
              "    <tr>\n",
              "      <th>3</th>\n",
              "      <td>1164761</td>\n",
              "      <td>Q0</td>\n",
              "      <td>D1313045</td>\n",
              "      <td>4</td>\n",
              "      <td>-5.09482</td>\n",
              "      <td>IndriQueryLikelihood</td>\n",
              "    </tr>\n",
              "    <tr>\n",
              "      <th>4</th>\n",
              "      <td>1164761</td>\n",
              "      <td>Q0</td>\n",
              "      <td>D1058999</td>\n",
              "      <td>5</td>\n",
              "      <td>-5.18936</td>\n",
              "      <td>IndriQueryLikelihood</td>\n",
              "    </tr>\n",
              "  </tbody>\n",
              "</table>\n",
              "</div>"
            ],
            "text/plain": [
              "       qid  Q0     docid  rank    score             runstring\n",
              "0  1164761  Q0  D3261512     1 -4.92320  IndriQueryLikelihood\n",
              "1  1164761  Q0  D1529569     2 -5.01292  IndriQueryLikelihood\n",
              "2  1164761  Q0  D3444265     3 -5.03616  IndriQueryLikelihood\n",
              "3  1164761  Q0  D1313045     4 -5.09482  IndriQueryLikelihood\n",
              "4  1164761  Q0  D1058999     5 -5.18936  IndriQueryLikelihood"
            ]
          },
          "metadata": {
            "tags": []
          },
          "execution_count": 12
        }
      ]
    },
    {
      "cell_type": "code",
      "metadata": {
        "colab": {
          "base_uri": "https://localhost:8080/",
          "height": 305
        },
        "id": "xWBUJWtkTc1l",
        "outputId": "4bdeec48-2695-40a4-ea17-2ae36de815ce"
      },
      "source": [
        "# Labelling Top 10 as 1 and last 10 as 0\n",
        "rel=list(range(1,11))\n",
        "nonrel=list(range(91,101))\n",
        "training_ranked100['rel']=training_ranked100['rank'].apply(lambda x: 1 if x in rel else ( 0 if x in nonrel else np.nan))\n",
        "testing_ranked100['rel']=testing_ranked100['rank'].apply(lambda x: 1 if x in rel else ( 0 if x in nonrel else np.nan))\n",
        "\n",
        "# Result set for Training\n",
        "training_result=training_ranked100.dropna()\n",
        "training_result['rel']=training_result['rel'].astype(int)\n",
        "print('Shape=>',training_result.shape)\n",
        "training_result.head()\n"
      ],
      "execution_count": null,
      "outputs": [
        {
          "output_type": "stream",
          "text": [
            "Shape=> (20000, 7)\n"
          ],
          "name": "stdout"
        },
        {
          "output_type": "stream",
          "text": [
            "/usr/local/lib/python3.6/dist-packages/ipykernel_launcher.py:9: SettingWithCopyWarning: \n",
            "A value is trying to be set on a copy of a slice from a DataFrame.\n",
            "Try using .loc[row_indexer,col_indexer] = value instead\n",
            "\n",
            "See the caveats in the documentation: https://pandas.pydata.org/pandas-docs/stable/user_guide/indexing.html#returning-a-view-versus-a-copy\n",
            "  if __name__ == '__main__':\n"
          ],
          "name": "stderr"
        },
        {
          "output_type": "execute_result",
          "data": {
            "text/html": [
              "<div>\n",
              "<style scoped>\n",
              "    .dataframe tbody tr th:only-of-type {\n",
              "        vertical-align: middle;\n",
              "    }\n",
              "\n",
              "    .dataframe tbody tr th {\n",
              "        vertical-align: top;\n",
              "    }\n",
              "\n",
              "    .dataframe thead th {\n",
              "        text-align: right;\n",
              "    }\n",
              "</style>\n",
              "<table border=\"1\" class=\"dataframe\">\n",
              "  <thead>\n",
              "    <tr style=\"text-align: right;\">\n",
              "      <th></th>\n",
              "      <th>qid</th>\n",
              "      <th>Q0</th>\n",
              "      <th>docid</th>\n",
              "      <th>rank</th>\n",
              "      <th>score</th>\n",
              "      <th>runstring</th>\n",
              "      <th>rel</th>\n",
              "    </tr>\n",
              "  </thead>\n",
              "  <tbody>\n",
              "    <tr>\n",
              "      <th>0</th>\n",
              "      <td>310290</td>\n",
              "      <td>Q0</td>\n",
              "      <td>D579750</td>\n",
              "      <td>1</td>\n",
              "      <td>-5.11498</td>\n",
              "      <td>IndriQueryLikelihood</td>\n",
              "      <td>1</td>\n",
              "    </tr>\n",
              "    <tr>\n",
              "      <th>1</th>\n",
              "      <td>310290</td>\n",
              "      <td>Q0</td>\n",
              "      <td>D579754</td>\n",
              "      <td>2</td>\n",
              "      <td>-5.57703</td>\n",
              "      <td>IndriQueryLikelihood</td>\n",
              "      <td>1</td>\n",
              "    </tr>\n",
              "    <tr>\n",
              "      <th>2</th>\n",
              "      <td>310290</td>\n",
              "      <td>Q0</td>\n",
              "      <td>D2380815</td>\n",
              "      <td>3</td>\n",
              "      <td>-5.84852</td>\n",
              "      <td>IndriQueryLikelihood</td>\n",
              "      <td>1</td>\n",
              "    </tr>\n",
              "    <tr>\n",
              "      <th>3</th>\n",
              "      <td>310290</td>\n",
              "      <td>Q0</td>\n",
              "      <td>D822566</td>\n",
              "      <td>4</td>\n",
              "      <td>-5.95002</td>\n",
              "      <td>IndriQueryLikelihood</td>\n",
              "      <td>1</td>\n",
              "    </tr>\n",
              "    <tr>\n",
              "      <th>4</th>\n",
              "      <td>310290</td>\n",
              "      <td>Q0</td>\n",
              "      <td>D2249695</td>\n",
              "      <td>5</td>\n",
              "      <td>-6.08326</td>\n",
              "      <td>IndriQueryLikelihood</td>\n",
              "      <td>1</td>\n",
              "    </tr>\n",
              "  </tbody>\n",
              "</table>\n",
              "</div>"
            ],
            "text/plain": [
              "      qid  Q0     docid  rank    score             runstring  rel\n",
              "0  310290  Q0   D579750     1 -5.11498  IndriQueryLikelihood    1\n",
              "1  310290  Q0   D579754     2 -5.57703  IndriQueryLikelihood    1\n",
              "2  310290  Q0  D2380815     3 -5.84852  IndriQueryLikelihood    1\n",
              "3  310290  Q0   D822566     4 -5.95002  IndriQueryLikelihood    1\n",
              "4  310290  Q0  D2249695     5 -6.08326  IndriQueryLikelihood    1"
            ]
          },
          "metadata": {
            "tags": []
          },
          "execution_count": 13
        }
      ]
    },
    {
      "cell_type": "code",
      "metadata": {
        "colab": {
          "base_uri": "https://localhost:8080/",
          "height": 305
        },
        "id": "sds2T5dqXPfm",
        "outputId": "d8db6603-b8c3-4395-bf35-8081d67667d0"
      },
      "source": [
        "# Result set for Testing\n",
        "testing_result=testing_ranked100.dropna()\n",
        "testing_result['rel']=testing_result['rel'].astype(int)\n",
        "print('Shape=>',testing_result.shape)\n",
        "testing_result.head()"
      ],
      "execution_count": null,
      "outputs": [
        {
          "output_type": "stream",
          "text": [
            "Shape=> (20000, 7)\n"
          ],
          "name": "stdout"
        },
        {
          "output_type": "stream",
          "text": [
            "/usr/local/lib/python3.6/dist-packages/ipykernel_launcher.py:3: SettingWithCopyWarning: \n",
            "A value is trying to be set on a copy of a slice from a DataFrame.\n",
            "Try using .loc[row_indexer,col_indexer] = value instead\n",
            "\n",
            "See the caveats in the documentation: https://pandas.pydata.org/pandas-docs/stable/user_guide/indexing.html#returning-a-view-versus-a-copy\n",
            "  This is separate from the ipykernel package so we can avoid doing imports until\n"
          ],
          "name": "stderr"
        },
        {
          "output_type": "execute_result",
          "data": {
            "text/html": [
              "<div>\n",
              "<style scoped>\n",
              "    .dataframe tbody tr th:only-of-type {\n",
              "        vertical-align: middle;\n",
              "    }\n",
              "\n",
              "    .dataframe tbody tr th {\n",
              "        vertical-align: top;\n",
              "    }\n",
              "\n",
              "    .dataframe thead th {\n",
              "        text-align: right;\n",
              "    }\n",
              "</style>\n",
              "<table border=\"1\" class=\"dataframe\">\n",
              "  <thead>\n",
              "    <tr style=\"text-align: right;\">\n",
              "      <th></th>\n",
              "      <th>qid</th>\n",
              "      <th>Q0</th>\n",
              "      <th>docid</th>\n",
              "      <th>rank</th>\n",
              "      <th>score</th>\n",
              "      <th>runstring</th>\n",
              "      <th>rel</th>\n",
              "    </tr>\n",
              "  </thead>\n",
              "  <tbody>\n",
              "    <tr>\n",
              "      <th>0</th>\n",
              "      <td>1164761</td>\n",
              "      <td>Q0</td>\n",
              "      <td>D3261512</td>\n",
              "      <td>1</td>\n",
              "      <td>-4.92320</td>\n",
              "      <td>IndriQueryLikelihood</td>\n",
              "      <td>1</td>\n",
              "    </tr>\n",
              "    <tr>\n",
              "      <th>1</th>\n",
              "      <td>1164761</td>\n",
              "      <td>Q0</td>\n",
              "      <td>D1529569</td>\n",
              "      <td>2</td>\n",
              "      <td>-5.01292</td>\n",
              "      <td>IndriQueryLikelihood</td>\n",
              "      <td>1</td>\n",
              "    </tr>\n",
              "    <tr>\n",
              "      <th>2</th>\n",
              "      <td>1164761</td>\n",
              "      <td>Q0</td>\n",
              "      <td>D3444265</td>\n",
              "      <td>3</td>\n",
              "      <td>-5.03616</td>\n",
              "      <td>IndriQueryLikelihood</td>\n",
              "      <td>1</td>\n",
              "    </tr>\n",
              "    <tr>\n",
              "      <th>3</th>\n",
              "      <td>1164761</td>\n",
              "      <td>Q0</td>\n",
              "      <td>D1313045</td>\n",
              "      <td>4</td>\n",
              "      <td>-5.09482</td>\n",
              "      <td>IndriQueryLikelihood</td>\n",
              "      <td>1</td>\n",
              "    </tr>\n",
              "    <tr>\n",
              "      <th>4</th>\n",
              "      <td>1164761</td>\n",
              "      <td>Q0</td>\n",
              "      <td>D1058999</td>\n",
              "      <td>5</td>\n",
              "      <td>-5.18936</td>\n",
              "      <td>IndriQueryLikelihood</td>\n",
              "      <td>1</td>\n",
              "    </tr>\n",
              "  </tbody>\n",
              "</table>\n",
              "</div>"
            ],
            "text/plain": [
              "       qid  Q0     docid  rank    score             runstring  rel\n",
              "0  1164761  Q0  D3261512     1 -4.92320  IndriQueryLikelihood    1\n",
              "1  1164761  Q0  D1529569     2 -5.01292  IndriQueryLikelihood    1\n",
              "2  1164761  Q0  D3444265     3 -5.03616  IndriQueryLikelihood    1\n",
              "3  1164761  Q0  D1313045     4 -5.09482  IndriQueryLikelihood    1\n",
              "4  1164761  Q0  D1058999     5 -5.18936  IndriQueryLikelihood    1"
            ]
          },
          "metadata": {
            "tags": []
          },
          "execution_count": 14
        }
      ]
    },
    {
      "cell_type": "code",
      "metadata": {
        "colab": {
          "base_uri": "https://localhost:8080/"
        },
        "id": "I16QJHEcjzUB",
        "outputId": "102b330d-f32f-4f98-87a1-2e401d59638c"
      },
      "source": [
        "!pip install dask[dataframe]"
      ],
      "execution_count": null,
      "outputs": [
        {
          "output_type": "stream",
          "text": [
            "Requirement already satisfied: dask[dataframe] in /usr/local/lib/python3.6/dist-packages (2.12.0)\n",
            "Collecting partd>=0.3.10; extra == \"dataframe\"\n",
            "  Downloading https://files.pythonhosted.org/packages/44/e1/68dbe731c9c067655bff1eca5b7d40c20ca4b23fd5ec9f3d17e201a6f36b/partd-1.1.0-py3-none-any.whl\n",
            "Requirement already satisfied: numpy>=1.13.0; extra == \"dataframe\" in /usr/local/lib/python3.6/dist-packages (from dask[dataframe]) (1.19.5)\n",
            "Collecting fsspec>=0.6.0; extra == \"dataframe\"\n",
            "\u001b[?25l  Downloading https://files.pythonhosted.org/packages/ec/80/72ac0982cc833945fada4b76c52f0f65435ba4d53bc9317d1c70b5f7e7d5/fsspec-0.8.5-py3-none-any.whl (98kB)\n",
            "\u001b[K     |████████████████████████████████| 102kB 6.9MB/s \n",
            "\u001b[?25hRequirement already satisfied: toolz>=0.7.3; extra == \"dataframe\" in /usr/local/lib/python3.6/dist-packages (from dask[dataframe]) (0.11.1)\n",
            "Requirement already satisfied: pandas>=0.23.0; extra == \"dataframe\" in /usr/local/lib/python3.6/dist-packages (from dask[dataframe]) (1.1.5)\n",
            "Collecting locket\n",
            "  Downloading https://files.pythonhosted.org/packages/50/b8/e789e45b9b9c2db75e9d9e6ceb022c8d1d7e49b2c085ce8c05600f90a96b/locket-0.2.1-py2.py3-none-any.whl\n",
            "Requirement already satisfied: pytz>=2017.2 in /usr/local/lib/python3.6/dist-packages (from pandas>=0.23.0; extra == \"dataframe\"->dask[dataframe]) (2018.9)\n",
            "Requirement already satisfied: python-dateutil>=2.7.3 in /usr/local/lib/python3.6/dist-packages (from pandas>=0.23.0; extra == \"dataframe\"->dask[dataframe]) (2.8.1)\n",
            "Requirement already satisfied: six>=1.5 in /usr/local/lib/python3.6/dist-packages (from python-dateutil>=2.7.3->pandas>=0.23.0; extra == \"dataframe\"->dask[dataframe]) (1.15.0)\n",
            "Installing collected packages: locket, partd, fsspec\n",
            "Successfully installed fsspec-0.8.5 locket-0.2.1 partd-1.1.0\n"
          ],
          "name": "stdout"
        }
      ]
    },
    {
      "cell_type": "code",
      "metadata": {
        "id": "GQj9tCNAkpch"
      },
      "source": [
        "import dask.dataframe as dd\n"
      ],
      "execution_count": null,
      "outputs": []
    },
    {
      "cell_type": "code",
      "metadata": {
        "colab": {
          "base_uri": "https://localhost:8080/"
        },
        "id": "jS2unTFrvNjr",
        "outputId": "e1ede998-a27c-404a-886a-f627f317a54a"
      },
      "source": [
        "!pip install dask[complete]"
      ],
      "execution_count": null,
      "outputs": [
        {
          "output_type": "stream",
          "text": [
            "Requirement already satisfied: dask[complete] in /usr/local/lib/python3.6/dist-packages (2.12.0)\n",
            "Requirement already satisfied: fsspec>=0.6.0; extra == \"complete\" in /usr/local/lib/python3.6/dist-packages (from dask[complete]) (0.8.5)\n",
            "Requirement already satisfied: cloudpickle>=0.2.1; extra == \"complete\" in /usr/local/lib/python3.6/dist-packages (from dask[complete]) (1.3.0)\n",
            "Requirement already satisfied: toolz>=0.7.3; extra == \"complete\" in /usr/local/lib/python3.6/dist-packages (from dask[complete]) (0.11.1)\n",
            "Requirement already satisfied: bokeh>=1.0.0; extra == \"complete\" in /usr/local/lib/python3.6/dist-packages (from dask[complete]) (2.1.1)\n",
            "Requirement already satisfied: pandas>=0.23.0; extra == \"complete\" in /usr/local/lib/python3.6/dist-packages (from dask[complete]) (1.1.5)\n",
            "Requirement already satisfied: PyYaml; extra == \"complete\" in /usr/local/lib/python3.6/dist-packages (from dask[complete]) (3.13)\n",
            "Requirement already satisfied: numpy>=1.13.0; extra == \"complete\" in /usr/local/lib/python3.6/dist-packages (from dask[complete]) (1.19.5)\n",
            "Collecting distributed>=2.0; extra == \"complete\"\n",
            "\u001b[?25l  Downloading https://files.pythonhosted.org/packages/50/e1/8915f302d72b2703af58b765371be0e4e6f2ec43356c1d947ff1b1c215e8/distributed-2021.1.1-py3-none-any.whl (672kB)\n",
            "\u001b[K     |████████████████████████████████| 675kB 7.6MB/s \n",
            "\u001b[?25hRequirement already satisfied: partd>=0.3.10; extra == \"complete\" in /usr/local/lib/python3.6/dist-packages (from dask[complete]) (1.1.0)\n",
            "Requirement already satisfied: tornado>=5.1 in /usr/local/lib/python3.6/dist-packages (from bokeh>=1.0.0; extra == \"complete\"->dask[complete]) (5.1.1)\n",
            "Requirement already satisfied: Jinja2>=2.7 in /usr/local/lib/python3.6/dist-packages (from bokeh>=1.0.0; extra == \"complete\"->dask[complete]) (2.11.2)\n",
            "Requirement already satisfied: packaging>=16.8 in /usr/local/lib/python3.6/dist-packages (from bokeh>=1.0.0; extra == \"complete\"->dask[complete]) (20.8)\n",
            "Requirement already satisfied: python-dateutil>=2.1 in /usr/local/lib/python3.6/dist-packages (from bokeh>=1.0.0; extra == \"complete\"->dask[complete]) (2.8.1)\n",
            "Requirement already satisfied: pillow>=4.0 in /usr/local/lib/python3.6/dist-packages (from bokeh>=1.0.0; extra == \"complete\"->dask[complete]) (7.0.0)\n",
            "Requirement already satisfied: typing-extensions>=3.7.4 in /usr/local/lib/python3.6/dist-packages (from bokeh>=1.0.0; extra == \"complete\"->dask[complete]) (3.7.4.3)\n",
            "Requirement already satisfied: pytz>=2017.2 in /usr/local/lib/python3.6/dist-packages (from pandas>=0.23.0; extra == \"complete\"->dask[complete]) (2018.9)\n",
            "Requirement already satisfied: msgpack>=0.6.0 in /usr/local/lib/python3.6/dist-packages (from distributed>=2.0; extra == \"complete\"->dask[complete]) (1.0.2)\n",
            "Requirement already satisfied: tblib>=1.6.0 in /usr/local/lib/python3.6/dist-packages (from distributed>=2.0; extra == \"complete\"->dask[complete]) (1.7.0)\n",
            "Requirement already satisfied: setuptools in /usr/local/lib/python3.6/dist-packages (from distributed>=2.0; extra == \"complete\"->dask[complete]) (53.0.0)\n",
            "Requirement already satisfied: zict>=0.1.3 in /usr/local/lib/python3.6/dist-packages (from distributed>=2.0; extra == \"complete\"->dask[complete]) (2.0.0)\n",
            "Requirement already satisfied: psutil>=5.0 in /usr/local/lib/python3.6/dist-packages (from distributed>=2.0; extra == \"complete\"->dask[complete]) (5.4.8)\n",
            "Collecting contextvars; python_version < \"3.7\"\n",
            "  Downloading https://files.pythonhosted.org/packages/83/96/55b82d9f13763be9d672622e1b8106c85acb83edd7cc2fa5bc67cd9877e9/contextvars-2.4.tar.gz\n",
            "Requirement already satisfied: click>=6.6 in /usr/local/lib/python3.6/dist-packages (from distributed>=2.0; extra == \"complete\"->dask[complete]) (7.1.2)\n",
            "Requirement already satisfied: sortedcontainers!=2.0.0,!=2.0.1 in /usr/local/lib/python3.6/dist-packages (from distributed>=2.0; extra == \"complete\"->dask[complete]) (2.3.0)\n",
            "Requirement already satisfied: locket in /usr/local/lib/python3.6/dist-packages (from partd>=0.3.10; extra == \"complete\"->dask[complete]) (0.2.1)\n",
            "Requirement already satisfied: MarkupSafe>=0.23 in /usr/local/lib/python3.6/dist-packages (from Jinja2>=2.7->bokeh>=1.0.0; extra == \"complete\"->dask[complete]) (1.1.1)\n",
            "Requirement already satisfied: pyparsing>=2.0.2 in /usr/local/lib/python3.6/dist-packages (from packaging>=16.8->bokeh>=1.0.0; extra == \"complete\"->dask[complete]) (2.4.7)\n",
            "Requirement already satisfied: six>=1.5 in /usr/local/lib/python3.6/dist-packages (from python-dateutil>=2.1->bokeh>=1.0.0; extra == \"complete\"->dask[complete]) (1.15.0)\n",
            "Requirement already satisfied: heapdict in /usr/local/lib/python3.6/dist-packages (from zict>=0.1.3->distributed>=2.0; extra == \"complete\"->dask[complete]) (1.0.1)\n",
            "Collecting immutables>=0.9\n",
            "\u001b[?25l  Downloading https://files.pythonhosted.org/packages/99/e0/ea6fd4697120327d26773b5a84853f897a68e33d3f9376b00a8ff96e4f63/immutables-0.14-cp36-cp36m-manylinux1_x86_64.whl (98kB)\n",
            "\u001b[K     |████████████████████████████████| 102kB 11.5MB/s \n",
            "\u001b[?25hBuilding wheels for collected packages: contextvars\n",
            "  Building wheel for contextvars (setup.py) ... \u001b[?25l\u001b[?25hdone\n",
            "  Created wheel for contextvars: filename=contextvars-2.4-cp36-none-any.whl size=7667 sha256=57f592e0d000353279efb906638bb7fd08d5ed3263e41dcea64e65e8683f8f6c\n",
            "  Stored in directory: /root/.cache/pip/wheels/a5/7d/68/1ebae2668bda2228686e3c1cf16f2c2384cea6e9334ad5f6de\n",
            "Successfully built contextvars\n",
            "\u001b[31mERROR: distributed 2021.1.1 has requirement cloudpickle>=1.5.0, but you'll have cloudpickle 1.3.0 which is incompatible.\u001b[0m\n",
            "\u001b[31mERROR: distributed 2021.1.1 has requirement dask>=2020.12.0, but you'll have dask 2.12.0 which is incompatible.\u001b[0m\n",
            "Installing collected packages: immutables, contextvars, distributed\n",
            "  Found existing installation: distributed 1.25.3\n",
            "    Uninstalling distributed-1.25.3:\n",
            "      Successfully uninstalled distributed-1.25.3\n",
            "Successfully installed contextvars-2.4 distributed-2021.1.1 immutables-0.14\n"
          ],
          "name": "stdout"
        }
      ]
    },
    {
      "cell_type": "code",
      "metadata": {
        "colab": {
          "base_uri": "https://localhost:8080/",
          "height": 191
        },
        "id": "0lDQaOgNXb-B",
        "outputId": "b5af276f-0aa8-4649-ddab-fdfda624bc78"
      },
      "source": [
        "df=dd.read_table('/content/msmarco-docs.tsv',header=None)\n",
        "df.columns=['docid','url','title','body']\n",
        "df.head()"
      ],
      "execution_count": null,
      "outputs": [
        {
          "output_type": "execute_result",
          "data": {
            "text/html": [
              "<div>\n",
              "<style scoped>\n",
              "    .dataframe tbody tr th:only-of-type {\n",
              "        vertical-align: middle;\n",
              "    }\n",
              "\n",
              "    .dataframe tbody tr th {\n",
              "        vertical-align: top;\n",
              "    }\n",
              "\n",
              "    .dataframe thead th {\n",
              "        text-align: right;\n",
              "    }\n",
              "</style>\n",
              "<table border=\"1\" class=\"dataframe\">\n",
              "  <thead>\n",
              "    <tr style=\"text-align: right;\">\n",
              "      <th></th>\n",
              "      <th>docid</th>\n",
              "      <th>url</th>\n",
              "      <th>title</th>\n",
              "      <th>body</th>\n",
              "    </tr>\n",
              "  </thead>\n",
              "  <tbody>\n",
              "    <tr>\n",
              "      <th>0</th>\n",
              "      <td>D1555982</td>\n",
              "      <td>https://answers.yahoo.com/question/index?qid=2...</td>\n",
              "      <td>The hot glowing surfaces of stars emit energy ...</td>\n",
              "      <td>Science &amp; Mathematics Physics The hot glowing ...</td>\n",
              "    </tr>\n",
              "    <tr>\n",
              "      <th>1</th>\n",
              "      <td>D301595</td>\n",
              "      <td>http://childparenting.about.com/od/physicalemo...</td>\n",
              "      <td>Developmental Milestones and Your 8-Year-Old C...</td>\n",
              "      <td>School-Age Kids Growth &amp; Development Developme...</td>\n",
              "    </tr>\n",
              "    <tr>\n",
              "      <th>2</th>\n",
              "      <td>D1359209</td>\n",
              "      <td>http://visihow.com/Check_for_Lice_Nits</td>\n",
              "      <td>Check for Lice Nits</td>\n",
              "      <td>Check for Lice Nits Edited by Mian Sheilette O...</td>\n",
              "    </tr>\n",
              "    <tr>\n",
              "      <th>3</th>\n",
              "      <td>D2147834</td>\n",
              "      <td>http://www.nytimes.com/2010/01/05/business/glo...</td>\n",
              "      <td>Dubai Opens a Tower to Beat All</td>\n",
              "      <td>Global Business Dubai Opens a Tower to Beat Al...</td>\n",
              "    </tr>\n",
              "    <tr>\n",
              "      <th>4</th>\n",
              "      <td>D1568809</td>\n",
              "      <td>http://www.realtor.com/realestateandhomes-sear...</td>\n",
              "      <td>Coulterville, CA Real Estate &amp; Homes for Sale</td>\n",
              "      <td>Coulterville, CA Real Estate &amp; Homes for Sale4...</td>\n",
              "    </tr>\n",
              "  </tbody>\n",
              "</table>\n",
              "</div>"
            ],
            "text/plain": [
              "      docid  ...                                               body\n",
              "0  D1555982  ...  Science & Mathematics Physics The hot glowing ...\n",
              "1   D301595  ...  School-Age Kids Growth & Development Developme...\n",
              "2  D1359209  ...  Check for Lice Nits Edited by Mian Sheilette O...\n",
              "3  D2147834  ...  Global Business Dubai Opens a Tower to Beat Al...\n",
              "4  D1568809  ...  Coulterville, CA Real Estate & Homes for Sale4...\n",
              "\n",
              "[5 rows x 4 columns]"
            ]
          },
          "metadata": {
            "tags": []
          },
          "execution_count": 18
        }
      ]
    },
    {
      "cell_type": "code",
      "metadata": {
        "id": "259EU5TiduKm",
        "colab": {
          "base_uri": "https://localhost:8080/",
          "height": 207
        },
        "outputId": "c049e37d-7328-49f7-8212-abfbef82cc12"
      },
      "source": [
        "def create_corpus(result):\n",
        "  unique_docid=result['docid'].unique()\n",
        "  condition=df['docid'].isin(unique_docid)\n",
        "  corpus=df[condition].reset_index(drop=True)\n",
        "  corpus=corpus.drop(columns='url')\n",
        "  print('Number of Rows=>',len(corpus))\n",
        "  return corpus\n",
        "\n",
        "training_corpus=create_corpus(training_result)\n",
        "training_corpus.head()"
      ],
      "execution_count": null,
      "outputs": [
        {
          "output_type": "stream",
          "text": [
            "Number of Rows=> 19505\n"
          ],
          "name": "stdout"
        },
        {
          "output_type": "execute_result",
          "data": {
            "text/html": [
              "<div>\n",
              "<style scoped>\n",
              "    .dataframe tbody tr th:only-of-type {\n",
              "        vertical-align: middle;\n",
              "    }\n",
              "\n",
              "    .dataframe tbody tr th {\n",
              "        vertical-align: top;\n",
              "    }\n",
              "\n",
              "    .dataframe thead th {\n",
              "        text-align: right;\n",
              "    }\n",
              "</style>\n",
              "<table border=\"1\" class=\"dataframe\">\n",
              "  <thead>\n",
              "    <tr style=\"text-align: right;\">\n",
              "      <th></th>\n",
              "      <th>docid</th>\n",
              "      <th>title</th>\n",
              "      <th>body</th>\n",
              "    </tr>\n",
              "  </thead>\n",
              "  <tbody>\n",
              "    <tr>\n",
              "      <th>0</th>\n",
              "      <td>D297612</td>\n",
              "      <td>Fair Oaks, CA County Of Sacramento</td>\n",
              "      <td>Home Fair Oaks, CA County Of Sacramento Fair O...</td>\n",
              "    </tr>\n",
              "    <tr>\n",
              "      <th>1</th>\n",
              "      <td>D1036761</td>\n",
              "      <td>What airport is the closest to downtown London?</td>\n",
              "      <td>Answers.com ® Wiki Answers ® Categories Travel...</td>\n",
              "    </tr>\n",
              "    <tr>\n",
              "      <th>2</th>\n",
              "      <td>D2025493</td>\n",
              "      <td>York County, South Carolina Genealogy</td>\n",
              "      <td>navigation search United States South Carolina...</td>\n",
              "    </tr>\n",
              "    <tr>\n",
              "      <th>3</th>\n",
              "      <td>D2214523</td>\n",
              "      <td>The Natural Habitat of Wolves</td>\n",
              "      <td>Wolves are members of the canine family, but t...</td>\n",
              "    </tr>\n",
              "    <tr>\n",
              "      <th>4</th>\n",
              "      <td>D1881859</td>\n",
              "      <td>Franking Privilege Law and Legal Definition</td>\n",
              "      <td>Franking Privilege Law and Legal Definition Fr...</td>\n",
              "    </tr>\n",
              "  </tbody>\n",
              "</table>\n",
              "</div>"
            ],
            "text/plain": [
              "      docid  ...                                               body\n",
              "0   D297612  ...  Home Fair Oaks, CA County Of Sacramento Fair O...\n",
              "1  D1036761  ...  Answers.com ® Wiki Answers ® Categories Travel...\n",
              "2  D2025493  ...  navigation search United States South Carolina...\n",
              "3  D2214523  ...  Wolves are members of the canine family, but t...\n",
              "4  D1881859  ...  Franking Privilege Law and Legal Definition Fr...\n",
              "\n",
              "[5 rows x 3 columns]"
            ]
          },
          "metadata": {
            "tags": []
          },
          "execution_count": 19
        }
      ]
    },
    {
      "cell_type": "code",
      "metadata": {
        "colab": {
          "base_uri": "https://localhost:8080/",
          "height": 207
        },
        "id": "_-SAvFRDXbfC",
        "outputId": "0d5167bc-0e4b-4d0a-89ec-95e6b6893828"
      },
      "source": [
        "testing_corpus=create_corpus(testing_result)\n",
        "testing_corpus.head()"
      ],
      "execution_count": null,
      "outputs": [
        {
          "output_type": "stream",
          "text": [
            "Number of Rows=> 19570\n"
          ],
          "name": "stdout"
        },
        {
          "output_type": "execute_result",
          "data": {
            "text/html": [
              "<div>\n",
              "<style scoped>\n",
              "    .dataframe tbody tr th:only-of-type {\n",
              "        vertical-align: middle;\n",
              "    }\n",
              "\n",
              "    .dataframe tbody tr th {\n",
              "        vertical-align: top;\n",
              "    }\n",
              "\n",
              "    .dataframe thead th {\n",
              "        text-align: right;\n",
              "    }\n",
              "</style>\n",
              "<table border=\"1\" class=\"dataframe\">\n",
              "  <thead>\n",
              "    <tr style=\"text-align: right;\">\n",
              "      <th></th>\n",
              "      <th>docid</th>\n",
              "      <th>title</th>\n",
              "      <th>body</th>\n",
              "    </tr>\n",
              "  </thead>\n",
              "  <tbody>\n",
              "    <tr>\n",
              "      <th>0</th>\n",
              "      <td>D1911483</td>\n",
              "      <td>My Doctor Online The Permanente Medical Group</td>\n",
              "      <td>Abnormal Vaginal Bleeding in Midlife and Beyon...</td>\n",
              "    </tr>\n",
              "    <tr>\n",
              "      <th>1</th>\n",
              "      <td>D2378859</td>\n",
              "      <td>How many decibels can a human hear in?</td>\n",
              "      <td>Answers.com ® Wiki Answers ® Categories Scienc...</td>\n",
              "    </tr>\n",
              "    <tr>\n",
              "      <th>2</th>\n",
              "      <td>D2981241</td>\n",
              "      <td>What do you call a group of lions?</td>\n",
              "      <td>Lions Vocabulary of the English Language Word ...</td>\n",
              "    </tr>\n",
              "    <tr>\n",
              "      <th>3</th>\n",
              "      <td>D2337005</td>\n",
              "      <td>Peripheral Vascular Surgery-Chapter 32</td>\n",
              "      <td>165 terms alexandriamartinez19Peripheral Vascu...</td>\n",
              "    </tr>\n",
              "    <tr>\n",
              "      <th>4</th>\n",
              "      <td>D2078142</td>\n",
              "      <td>What are all the literary devices? List them p...</td>\n",
              "      <td>Education &amp; Reference Homework Help What are a...</td>\n",
              "    </tr>\n",
              "  </tbody>\n",
              "</table>\n",
              "</div>"
            ],
            "text/plain": [
              "      docid  ...                                               body\n",
              "0  D1911483  ...  Abnormal Vaginal Bleeding in Midlife and Beyon...\n",
              "1  D2378859  ...  Answers.com ® Wiki Answers ® Categories Scienc...\n",
              "2  D2981241  ...  Lions Vocabulary of the English Language Word ...\n",
              "3  D2337005  ...  165 terms alexandriamartinez19Peripheral Vascu...\n",
              "4  D2078142  ...  Education & Reference Homework Help What are a...\n",
              "\n",
              "[5 rows x 3 columns]"
            ]
          },
          "metadata": {
            "tags": []
          },
          "execution_count": 20
        }
      ]
    },
    {
      "cell_type": "code",
      "metadata": {
        "colab": {
          "base_uri": "https://localhost:8080/"
        },
        "id": "wcoRkZj0fZyT",
        "outputId": "d2a428dc-ff24-4de1-857a-f64af57e2d3d"
      },
      "source": [
        "temp_doc=training_corpus.partitions[1]\n",
        "temp_doc=temp_doc.compute()\n",
        "temp_doc=temp_doc.sample(1)\n",
        "print('Title \\n',temp_doc['title'].values[0])\n",
        "print('Body:\\n',temp_doc.body.values[0])"
      ],
      "execution_count": null,
      "outputs": [
        {
          "output_type": "stream",
          "text": [
            "Title \n",
            " .\n",
            "Body:\n",
            " View Location Examples Your local forecast office is Binghamton, NYNews Headlines SKYWARN (Weather Spotters) Spring Training schedule!What we are talking about. Additional Headlines Hazardous Weather Conditions Hazardous Weather Outlook En Español Share |Current conditions at Cortland County-Chase Field (KN03)Lat: 42.59°N Lon: 76.21°W Elev: 1198ft. Fog/Mist27°F-3°CHumidity 100%Wind Speed Calm Barometer 30.00 in Dewpoint 27°F (-3°C)Visibility 5.00 mi Last update 12 Apr 4:15 am EDTMore Information: Local Forecast Office More Local Wx3 Day History Mobile Weather Hourly Weather Forecast Extended Forecast for Cortland NYToday Rain Likely High: 50 °FTonight Chance Rain then Mostly Cloudy Low: 42 °FFriday Chance Showers High: 60 °FFriday Night Slight Chance Showers Low: 44 °FSaturday Chance Showers High: 54 °FSaturday Night Showers Likely Low: 39 °FSunday Showers Likely High: 54 °FSunday Night Showers Low: 43 °FMonday Showers High: 49 °FDetailed Forecast Today Rain likely, mainly after 11am. Cloudy, with a high near 50. Light southeast wind becoming south 9 to 14 mph in the morning. Winds could gust as high as 24 mph. Chance of precipitation is 70%. New precipitation amounts between a tenth and quarter of an inch possible. Tonight A chance of rain before 10pm, then a slight chance of showers after 5am. Cloudy, then gradually becoming partly cloudy, with a low around 42. Southwest wind 8 to 14 mph becoming northwest after midnight. Chance of precipitation is 30%. New precipitation amounts of less than a tenth of an inch possible. Friday A chance of showers, mainly between 7am and 2pm. Mostly cloudy, with a high near 60. Calm wind becoming south around 5 mph in the afternoon. Chance of precipitation is 40%. New precipitation amounts of less than a tenth of an inch possible. Friday Night A slight chance of showers after 8pm. Mostly cloudy, with a low around 44. Light south wind. Chance of precipitation is 20%. Saturday A chance of showers. Mostly cloudy, with a high near 54. Calm wind becoming west around 5 mph in the afternoon. Chance of precipitation is 50%. Saturday Night Showers likely. Cloudy, with a low around 39. Chance of precipitation is 60%. Sunday Showers likely. Cloudy, with a high near 54. Chance of precipitation is 70%. Sunday Night Showers. Low around 43. Chance of precipitation is 90%. Monday Showers. High near 49. Chance of precipitation is 80%. Monday Night A chance of rain showers before 2am, then a chance of snow showers. Mostly cloudy, with a low around 29. Chance of precipitation is 40%. Tuesday A chance of rain and snow showers. Mostly cloudy, with a high near 39. Chance of precipitation is 40%. Tuesday Night Mostly cloudy, with a low around 28. Wednesday A chance of showers. Partly sunny, with a high near 46. Chance of precipitation is 30%. Additional Forecasts and Information Zone Area Forecast for Cortland County, NYForecast Discussion Printable Forecast Text Only Forecast Hourly Weather Forecast Tabular Forecast Air Quality Forecasts International System of Units About Point Forecasts River and Lake Forecasts AHPSHazardous Weather Outlook Local Climate Climate Averages and Records Climate Resources Climate Prediction NWS Binghamton, NY Homepage Central NY/Northeast PA Conditions Regional Weather Conditions NYRegional Weather Conditions PAClick Map For Forecast Disclaimer Point Forecast: Cortland NY 42.61°N 76.18°W (Elev. 1240 ft)Last Update: 3:16 am EDT Apr 12, 2018Forecast Valid: 4am EDT Apr 12, 2018-6pm EDT Apr 18, 2018Forecast Discussion Additional Resources Radar & Satellite Image Hourly Weather Forecast National Digital Forecast Database High Temperature Chance of Precipitation \n"
          ],
          "name": "stdout"
        }
      ]
    },
    {
      "cell_type": "code",
      "metadata": {
        "colab": {
          "base_uri": "https://localhost:8080/",
          "height": 76
        },
        "id": "HbhrabSTwnNF",
        "outputId": "e38152a9-7d2f-4510-b4c5-0a7273e02d95"
      },
      "source": [
        "temp_doc.head()"
      ],
      "execution_count": null,
      "outputs": [
        {
          "output_type": "execute_result",
          "data": {
            "text/html": [
              "<div>\n",
              "<style scoped>\n",
              "    .dataframe tbody tr th:only-of-type {\n",
              "        vertical-align: middle;\n",
              "    }\n",
              "\n",
              "    .dataframe tbody tr th {\n",
              "        vertical-align: top;\n",
              "    }\n",
              "\n",
              "    .dataframe thead th {\n",
              "        text-align: right;\n",
              "    }\n",
              "</style>\n",
              "<table border=\"1\" class=\"dataframe\">\n",
              "  <thead>\n",
              "    <tr style=\"text-align: right;\">\n",
              "      <th></th>\n",
              "      <th>docid</th>\n",
              "      <th>title</th>\n",
              "      <th>body</th>\n",
              "    </tr>\n",
              "  </thead>\n",
              "  <tbody>\n",
              "    <tr>\n",
              "      <th>22</th>\n",
              "      <td>D508614</td>\n",
              "      <td>.</td>\n",
              "      <td>View Location Examples Your local forecast off...</td>\n",
              "    </tr>\n",
              "  </tbody>\n",
              "</table>\n",
              "</div>"
            ],
            "text/plain": [
              "      docid title                                               body\n",
              "22  D508614     .  View Location Examples Your local forecast off..."
            ]
          },
          "metadata": {
            "tags": []
          },
          "execution_count": 22
        }
      ]
    },
    {
      "cell_type": "code",
      "metadata": {
        "colab": {
          "base_uri": "https://localhost:8080/",
          "height": 76
        },
        "id": "oTmO9ZzAjeiK",
        "outputId": "423f3c42-4ee9-4b49-cbba-cccee1f18a18"
      },
      "source": [
        "temp_doc.head()"
      ],
      "execution_count": null,
      "outputs": [
        {
          "output_type": "execute_result",
          "data": {
            "text/html": [
              "<div>\n",
              "<style scoped>\n",
              "    .dataframe tbody tr th:only-of-type {\n",
              "        vertical-align: middle;\n",
              "    }\n",
              "\n",
              "    .dataframe tbody tr th {\n",
              "        vertical-align: top;\n",
              "    }\n",
              "\n",
              "    .dataframe thead th {\n",
              "        text-align: right;\n",
              "    }\n",
              "</style>\n",
              "<table border=\"1\" class=\"dataframe\">\n",
              "  <thead>\n",
              "    <tr style=\"text-align: right;\">\n",
              "      <th></th>\n",
              "      <th>docid</th>\n",
              "      <th>title</th>\n",
              "      <th>body</th>\n",
              "    </tr>\n",
              "  </thead>\n",
              "  <tbody>\n",
              "    <tr>\n",
              "      <th>22</th>\n",
              "      <td>D508614</td>\n",
              "      <td>.</td>\n",
              "      <td>View Location Examples Your local forecast off...</td>\n",
              "    </tr>\n",
              "  </tbody>\n",
              "</table>\n",
              "</div>"
            ],
            "text/plain": [
              "      docid title                                               body\n",
              "22  D508614     .  View Location Examples Your local forecast off..."
            ]
          },
          "metadata": {
            "tags": []
          },
          "execution_count": 23
        }
      ]
    },
    {
      "cell_type": "code",
      "metadata": {
        "id": "gmSntALox_pE"
      },
      "source": [
        "#Pre processing sreps \n",
        "\n",
        "import re\n",
        "\n",
        "# Lowercasing the text\n",
        "training_corpus['cleaned']=training_corpus['body'].apply(lambda x:x.lower(), meta=('Object'))\n",
        "testing_corpus['cleaned']=testing_corpus['body'].apply(lambda x:x.lower(), meta=('Object'))"
      ],
      "execution_count": null,
      "outputs": []
    },
    {
      "cell_type": "code",
      "metadata": {
        "colab": {
          "base_uri": "https://localhost:8080/"
        },
        "id": "sfAfVsBWDniv",
        "outputId": "064400d9-5520-4b31-8adc-c1cccab50beb"
      },
      "source": [
        "tet=training_corpus.partitions[1]\n",
        "tet=tet.compute()\n",
        "tet=tet.sample(1)\n",
        "print('ClenedBody=>',tet['cleaned'].values[0])\n",
        "print('IS THERE ANY # ------- Let Check ! ')\n",
        "print('Body:\\n',tet.body.values[0])"
      ],
      "execution_count": null,
      "outputs": [
        {
          "output_type": "stream",
          "text": [
            "ClenedBody=> from wikipedia, the free encyclopedianavigation search [ hide]this article has multiple issues. please help improve it or discuss these issues on the talk page. ( learn how and when to remove these template messages)this article may contain an excessive amount of intricate detail that may only interest a specific audience. (july 2016)this article describes a work or element of fiction in a primarily in-universe style. (july 2016)in j. k. rowling 's harry potter series, magic is depicted as a supernatural force that can be used to override the usual laws of nature. many fictional magical creatures exist in the series, while ordinary creatures sometimes exhibit new magical properties in the novel's world. objects, too, can be enhanced or imbued with magical property. the small percentage of humans who are able to perform magic are referred to as witches and wizards, in contrast to the non-magical muggles. in humans, magic or the lack thereof is an inborn attribute. it is inherited, carried on \"dominant resilient genes\". [1] magic is the norm for the children of magical couples and less common in those of muggles. exceptions exist: those unable to do magic who are born to magical parents are known as squibs, whereas a witch or wizard born to muggle parents is known as a muggle-born, or by the derogatory term \"mudblood\". while muggle-borns are quite common, squibs are extremely rare. rowling based many magical elements of the harry potter universe on real-world mythology and magic. she has described this as \"a way of giving texture to the world\". [2] the books present the idea that the muggle interpretation of these stories is a distorted version of what goes on in the wizarding world. the magic of harry potter became the subject of a 2017 british library exhibition and accompanying documentary. the exhibition, entitled harry potter: a history of magic, is the first at the british library to feature a living author as its subject. [3]contents [ hide ]1 using magic1.1 spellcasting2 the limits of magic2.1 death2.2 principal exceptions to gamp's law of elemental transfiguration2.3 emotion3 magical abilities3.1 animagi3.2 metamorphmagi3.3 parseltongue3.4 seers3.5 legilimency and occlumency3.6 apparition and disapparition3.7 other teleportation3.8 veela charm3.9 magical resistance4 subjects at hogwarts4.1 transfiguration4.2 defence against the dark arts4.3 charms4.4 potions4.5 astronomy4.6 history of magic4.7 herbology4.8 arithmancy4.9 study of ancient runes4.10 divination4.11 care of magical creatures4.12 muggle studies4.13 alchemy4.14 flying4.15 apparition5 spell-like effects5.1 unbreakable vow5.2 priori incantatem6 dark arts6.1 unforgivable curses6.2 dark mark6.3 inferius6.4 horcrux7 portraits7.1 portraits in the headmaster's office7.2 the fat lady7.3 photographs8 references9 further reading10 external links using magic [ edit]witches and wizards need training to learn how to control their magic. with young and untrained children, magic will manifest itself subconsciously in moments of strong apprehension, fear, anger and sadness. [4] for example, harry potter once made his hair grow back after a bad haircut, set a boa constrictor on his cousin dudley at the london zoo, and made aunt marge inflate to an enormous size. while this reaction is usually uncontrollable, as an untrained child, lord voldemort was able to make things move without touching them, make animals do what he wanted without training them, make \"bad things happen to people\" who annoyed him, or make them hurt if he wanted to. [5] in addition, lily potter was able to guide and control the blooming of a flower by wanting to. almost all magic is done with the use of a wand. on the subject of wandless magic, rowling says: [6]“ you can do unfocused and uncontrolled magic without a wand (for instance when harry blows up aunt marge) but to do really good spells, yes, you need a wand. ”a wizard or witch is only at their best when using their own wand. when using another's wand, one's spells are not as strong as they normally would be. [hp1]within the books, technical details of magic are obscure. of harry's lessons, only those involving magical creatures, potions or divination are given in any detail. severus snape once told harry potter that \"time and space matter in magic\" during harry's first occlumency lesson in harry potter and the order of the phoenix and albus dumbledore told harry after finding the magically concealed boat to reach the locket horcrux that \"magic always leaves traces, sometimes very distinctive traces.\" [hp6]spellcasting [ edit]spells are the every-purpose tools of a wizard or witch; short bursts of magic used to accomplish single specialised tasks such as opening locks or creating fire. typically casting requires an incantation, most often in a modified form of latin (see dog latin ), and gesturing with a wand. however, rowling has revealed that particularly talented wizards can cast spells without the aid of wand, although magic produced with one is generally more precise and powerful. [7] spells can also be cast non-verbally, but with a magical wand. this special technique is taught in the sixth year of study at hogwarts and requires the caster to concentrate on the incantation. some spells (e.g. levicorpus) are apparently designed to be used non-verbally. while most magic shown in the books requires the caster to use their voice, some do not (and this may depend on the witch or wizard). dumbledore has been known to do impressive feats of magic without speaking, such as conjuring enough squashy purple sleeping bags to accommodate the entire student population [hp3] or during his duel with voldemort towards the end of order of the phoenix. it is possible to use a wand without holding it. in order of the phoenix, harry himself performs lumos to light his wand when it is lying on the ground somewhere near him. [hp5] additionally, animagi and metamorphmagi do not need wands to undergo their transformations. spells are divided into rough categories, such as \" charms \", \" curses \", \"hexes\", or \" jinxes \". although offensive and potentially dangerous curses exist in number, three are considered usable only for great evil, which earns them the special classification of \" unforgivable curses \". the limits of magic [ edit]before publishing the first harry potter novel, rowling spent five years establishing the limitations of magic—determining what it could and could not do. \"the most important thing to decide when you're creating a fantasy world,\" she said in 2000, \"is what the characters can't do.\" for instance, while it is possible to conjure things out of thin air, it is far more tricky to create something that fits an exact specification rather than a general one; moreover, any objects so conjured tend not to last. [8]death [ edit]rowling has described death as the most important theme in the books. [9] consequently, as dumbledore states in harry potter and the goblet of fire, there is no spell that can truly bring the dead back to life. while corpses can be transformed into obedient inferi on a living wizard's command, they are little more than zombies with no soul or will of their own. however, there are some methods of communicating with the dead, though with limited results. for example, all hogwarts headmasters appear in a portrait when they die, allowing consultation by future generations. it is also possible through the rare priori incantatem effect to converse with ghost-like \"shadows\" of magically murdered people. the resurrection stone also allows one to talk to the dead, but those brought back by the stone are not corporeal, nor do they wish to be disturbed from their peaceful rest. throughout the series, this limit is continually mentioned, and wizards try to transcend it at their own folly. likewise, it is not possible to make oneself immortal unless one makes use of an object of great power to sustain life, such as the philosopher's stone or horcruxes. if one were to possess the three deathly hallows, it is fabled that they would possess the tools to become the \"master of death\". however, it is hinted that to be a true \"master of death\" is to be willing to accept that death is inevitable. other methods of extending life include drinking unicorn blood, which will keep a person alive even if death is imminent, but at the terrible price of being cursed forever. being magical can contribute to one's longevity, as there are several characters in the series who are unusually long-lived (such as griselda marchbanks, who was an invigilator during albus dumbledore's o. w. l examinations). it is revealed by nearly headless nick in the fifth book that all witches and wizards have the choice of becoming ghosts upon dying; however, it is described as \"a pale imitation of life\". snape states that a ghost is merely \"the imprint of a departed soul left upon the earth\". death is studied at the department of mysteries in a chamber containing an enigmatic veil, which rowling has described as \"the divide between life and death\". with regard to what is on the other side, she elaborated: \"do i believe you go on? yes, i do believe you go on. i do believe in an afterlife, although i'm absolutely doubt-ridden and always have been but there you are.\" [10] sirius falls through this veil in order of the phoenix after he is hit with a curse from bellatrix. principal exceptions to gamp's law of elemental transfiguration [ edit]the principal exceptions to gamp's law of elemental transfiguration is a magical theory mentioned by hermione and later repeated by ron in the final book. she explains that food is one of these: witches or wizards can cook and prepare food using magic, and even multiply it, but not create it out of nothing. there are numerous examples in the series of food appearing to have been conjured from nothing, such as the sudden materialisation of ingredients in the pots of molly weasley's kitchen and when professor mc gonagall creates a self-refilling plate of sandwiches for harry and ron in chamber of secrets. in all cases, these events can be reasonably explained as food either being multiplied or transported from elsewhere. one example of the latter is banqueting at hogwarts—the food is prepared by elves in the kitchens and laid onto four replica tables, directly below the actual house tables in the great hall. the food is then magically transported to the tables. this is the only exception mentioned explicitly in the series. however, rowling herself has stated once in an interview that money is something wizards cannot simply materialise out of thin air, [8] or the economic system of the wizarding world would then be gravely flawed and disrupted. while the philosopher's stone does permit alchemy, this is portrayed as an extremely rare, even unique, object, whose owner does not exploit its powers. emotion [ edit]as explained earlier, young untrained wizards can trigger uncontrolled magic when they are in the state of heightened emotions. but emotions also affect trained witches and wizards and their magical abilities. for instance, in half-blood prince, a heartbroken nymphadora tonks temporarily loses her power as a metamorphmagus when remus lupin starts distancing himself from her. the form of her patronus changes to reflect her depression. another example is merope gaunt, who only demonstrated any magical ability when removed from her father's oppression, but then lost it again when her husband abandoned her. several magical spells require the use of certain emotions when casting them. the patronus charm, for example, requires the caster to concentrate on a happy memory. (force of will, under extenuating circumstances, helps a lot. an example of this is when harry is able to conjure a corporeal patronus when sirius is in danger of being administered the dementor's kiss.) [hp3] another example is the cruciatus curse, which causes immense pain; as harry discovers during a duel with bellatrix lestrange, effective use of this forbidden dark magic requires sadistic desires. [hp5]love (in its broadest meaning) is depicted as a particularly powerful form of magic. according to dumbledore, love is a \"force that is at once more wonderful and more terrible than death, than human intelligence, than forces of nature.\" [hp5] lily's voluntary sacrifice on harry's behalf saves him from voldemort as a baby, and harry makes a similar sacrifice to save his friends at the end of deathly hallows. [hp7] a certain key prophecy in the series describes harry as having \"power the dark lord knows not\", referencing his capacity for love. [hp5]true love is impossible to create magically; amortentia, a love potion, can only create a powerful sense of infatuation and obsession. magical abilities [ edit]the following is a list of special abilities that a wizard or witch in the harry potter universe may have. animagi [ edit]an animagus ( portmanteau of animal and magus) is a witch or wizard who can turn into a particular animal or magical creature at will. this ability is not innate: it must be acquired by magical means. all animagi must register at a central authority by law, though a number of characters are revealed over the course of the series to have remained unregistered illegally: james potter, sirius black, peter pettigrew and rita skeeter. animagi transformation can be performed wandlessly. sirius and peter are left wandless for over 10 years, but both retain the ability with no apparent ill effects. when animagi transform, they take on the appearance of a normal animal. however, in harry potter and the prisoner of azkaban, it is noted that ron's pet rat scabbers (later revealed as peter pettigrew's animagus form) has lived over twelve years when only expected to live three. also, an animagus in animal form retains the ability to think like a human, which is the principal difference between being an animagus and being transfigured into an animal. otherwise, they would forget that they were a wizard and be trapped, unknowingly, in this form unless transformed back by another wizard. characteristics of an animagus' human form can manifest themselves in the animal transformation; for example, the markings around mc gonagall's eyes as a cat resemble her glasses. when an animagus registers, they must record all the defining physical traits of their animal form so that the ministry can identify them. each animagus has a specific animal form, and cannot transform into any other animal. the animal cannot be chosen: it is uniquely suited to that individual's personality, and in most cases the animagus will change into the same animal used in the person's patronus charm. [11]explicit emphasis is placed in the books on the differences between animagi and werewolves. animagi have full control over their transformations and retain their minds, whereas werewolves' transformations are involuntary and include severe changes in personality. after the person has transformed into a werewolf, he no longer remembers who he is; he would kill his best friend if he got anywhere near him. a werewolf only responds to the call of his own kind. the only way that a werewolf can retain his sanity, intelligence and memory while transformed is using the wolfsbane potion. metamorphmagi [ edit]a metamorphmagus (a portmanteau of metamorph and magus) is a witch or wizard born with the innate ability to change some or all of their appearance at will. the talent cannot be acquired; a witch or wizard who has it must be born with it. nymphadora tonks and her son, teddy lupin are currently the only known metamorphmagi in the series; it is a very rare ability, possibly hereditary. tonks is known to change her hair colour and style according to her mood. she even appears as an old woman on occasion. she can also change her nose appearance, as she does when eating with the weasley family to entertain ginny and hermione. her son, teddy lupin, also inherited this trait, as his hair is mentioned repeatedly changing colour. the extent of these appearance-altering abilities and the limits thereof are not entirely clear. according to rowling, a metamorphmagus can alter his or her appearance completely, for instance, from black to white, young to old, handsome to plain and so on. [12] in one example, tonks changes her facial appearance by reshaping her nose into \"a beaklike protuberance like snape's\", to \"something resembling a button mushroom\", and \"one like a pig snout\" which reminded harry of his cousin dudley. [13] the emotional state of a metamorphmagus can affect their abilities. parseltongue [ edit]parseltongue is the language of snakes. it is often associated with dark magic, although dumbledore stated that it is not necessarily an evil quality. those possessing the ability to speak it (\" parselmouths \") occur very rarely. people apparently acquire the skill through learning or via a method of xenoglossia, such as through genetic inheritance (or by use of dark or dangerous magic). harry was a parselmouth until the age of 18. harry potter and the chamber of secrets explains this was because of voldemort's passing on some of his abilities to harry the night he tried to kill him. deathly hallows reveals that a part of voldemort's soul within harry grants him this ability, which is later destroyed leaving harry stripped of the ability. [14]other known parselmouths include salazar slytherin and his descendants, including the gaunts and voldemort. dumbledore can also understand parseltongue; however, he learned it and did not naturally possess the ability. [15] in half-blood prince he repeats morfin gaunt's words \"the big house over the way\", which were spoken in parseltongue. ron uses parseltongue in the final book to reopen the chamber of secrets, but he is only imitating the sound of a phrase harry used earlier in the book. rowling borrowed the term from \"an old word for someone who has a problem with the mouth, like a hare lip \". [16]professor francis nolan, professor of phonetics at university of cambridge, designed the version of parseltongue used in the films as an ergative-absolutive language featuring geminate consonants and vso word order. it has a high frequency of fricative and pharyngeal consonants to acoustically approximate the physiology of a snake. [ citation needed]seers [ edit]a seer is a witch or wizard with the clairvoyant ability to predict future events. the predictions given through this ability can sometimes be self-fulfilling prophecies, and dumbledore states in order of the phoenix that not all of them come true, depending on the choices made by those mentioned. this would seem to indicate that a seer predicts possible or likely events, at least in some cases. in the hall of prophecy at the department of mysteries, thousands upon thousands of glass spheres are imbued with records of prophecies made by seers. only a person mentioned in a prophecy can safely retrieve it; anyone else who tries to do so will be driven insane. according to mc gonagall, true seers are extremely rare. sybill trelawney is the only seer portrayed in the books, although it is mentioned that sybill's great-great-grandmother, cassandra trelawney, was a renowned seer in her day. trelawney is considered an \"old fraud\" by her students, and is sacked by dolores umbridge in the fifth book for it. however, she has twice made true prophecies. sybill trelawney is noted to never remember that she has made a prophecy when it is a true one. she speaks in a hoarse voice, and only if a wizard is present will anyone know about it. legilimency and occlumency [ edit]legilimency is the magical skill of extracting feelings and memories from another person's mind—a form of magical \" telepathy \" (although snape, an able practitioner of the art, dismisses the colloquial term \"mind-reading\", as a drastic oversimplification). it also allows one to convey visions or memories to another person, whether real or imaginary. a witch or wizard possessing this skill is called a legilimens, and can, for example, detect lies and deceit in another person, witness memories in another person's past, or \"plant\" false visions in another's mind. the counter-skill to legilimency is occlumency (and its user, known as an occlumens ), by which one can compartmentalize one's emotions, or prevent a legilimens from discovering thoughts or memories which contradict one's spoken words or actions. an advanced form of occlumency is planting false temporary memories inside an occlumens' own head while blocking all other true memories, so if a legilimens, even a highly skilled one, were to attempt to read the mind, he or she would find false memories only and believe everything was right. the skills are first elaborated in order of the phoenix. legilimency and occlumency are not part of the normal curriculum at hogwarts, and most students would graduate without learning them. voldemort, snape, and dumbledore are all known to be skilled in legilimency and occlumency. voldemort is said to be the master of legilimency by snape, as he, in almost all cases, immediately knows if someone lied to him. in addition, in deathly hallows, voldemort repeatedly uses legilimency to interrogate his victims. voldemort practices occlumency throughout the period of half-blood prince to deny harry access to his thoughts and emotions. however, in deathly hallows, voldemort repeatedly loses grip, resulting in occasional but very powerful burst of thoughts, visions and emotions to be sent to harry. throughout the books, snape is repeatedly said to be highly skilled in occlumency. [17] this is how snape was able to lie to voldemort for years. even before order of the phoenix, harry repeatedly gets the impression that snape can read minds. bellatrix lestrange and draco also have skill in occlumency, since bellatrix was clearly said to have taught draco to shield his thoughts from snape. [hp6]during the order of phoenix snape is instructed by dumbledore to give harry lessons in occlumency. whether as a result of snape's poor instruction, or poor aptitude on harry's part, harry did not make any progress. (only once did harry manage to overcome snape with the use of occlumency.) [18] in deathly hallows, harry finally masters occlumency—shutting his mind to voldemort—when dobby dies. he realises that his grief—or as dumbledore calls it, love—is what can block out the dark lord. queenie goldstein, in fantastic beasts and where to find them, is shown to be a proficient legilimens, as she was easily able to read the minds of jacob kowalski and others in the film, as well as sense and hear them through their thoughts. however, she says she has problems with brits like newt scamander, because of the accent. apparition and disapparition [ edit]apparition is a magical form of teleportation, through which a witch or wizard can disappear (\" disapparate \") from one location and reappear (\" apparate \") in another. it is sometimes accompanied by a distinctive cracking or popping sound, though the most skilled wizards can apparate \"so suddenly and silently\" that they seem to have \"popped out of the ground\" (dumbledore). the act is also accompanied by a very unpleasant squeezing sensation, as though being sent through a tight rubber tube, according to harry. [hp6]the ministry of magic licenses apparition. a witch or wizard must be 17 years old or older and have a licence to apparate as a means of transportation in much the same way real-world governments require individuals to have a licence to drive a motor vehicle. students at hogwarts may attend ministry-administered apparition lessons during their sixth year, and take their examination once they turn seventeen. it is shown that although it is possible to apparate without a licence, it is not usually done (unless in lessons) and is illegal. in deathly hallows, harry does not possess a licence, but since his trace has been lifted, the ministry is likely unaware that he does it. learning to apparate is difficult, and students run the risk of splinching —being physically split between the origin and destination—which requires the assistance of the ministry's accidental magic reversal squad to undo properly, although essence of dittany can also mend certain wounds. splinching is quite common during lessons, and can be uncomfortable (and at times rather gruesome) depending on the body parts splinched, but is ultimately harmless if properly reversed. it is implied that though ron can apparate, he isn't terribly skilled at it, seeing as he splinches himself at least three times (once losing half an eyebrow, two fingernails and part of his arm. ); harry and hermione both pick up the skill quickly in comparison. as explained in the half-blood prince, there is no word spell to apparate or disapparate, but the caster has to concentrate on the location on which he has to apparate, needs to be fully focused on the spell, and also has to \"feel\" it through the whole body. it has been indicated that it is considered rude to apparate directly into a private area, such as a home. dumbledore states in half-blood prince that it would be \"quite as rude as kicking down the front door\". for this reason, and for reasons of security, many homes have anti-apparition spells protecting them from uninvited intrusions. the accepted way to travel to a home is to apparate to a nearby location and continue to the final destination on foot. apparition is considered unreliable over long distances, and even experienced users of the technique sometimes prefer other means of transport, such as broomsticks. rowling has stated that apparating over long distances depends on the skill of the wizard, and \"cross-continental apparition would almost certainly result in severe injury or death.\" [19] indeed, even the prodigiously skilled lord voldemort elects to fly back to england after visiting the far-flung nurmengard. for reasons of security, the grounds and buildings of hogwarts are protected by ancient anti-apparition and anti-disapparition spells, which prevent humans from apparating on the school grounds. there is also a spell that prevents individuals from disapparating, which dumbledore places on the death eaters captured at the ministry in order of the phoenix; a sister spell, which allows one to apparate into a location but prevents them from disapparating out of it, is cast by the death eaters in hogsmeade in concordance with the caterwauling charm. dumbledore is the only person who can both apparate and disapparate from the school grounds, since he is the headmaster. a witch or wizard can use side-along apparition to take others with them during apparition. dumbledore successfully transports harry this way several times in half-blood prince, and notably, harry's first non-lesson attempt at the skill is the side-along apparition with the weakened dumbledore when they return from the seaside cave. in the order of the phoenix film, death eaters and order members apparate and disapparate in clouds of smoke. death eaters appear and disappear in black smoke, order members in white. in the film, both sides also appear to be able to \"half-apparate\" in which their bodies were made out of smoke, giving them the ability to fly. interestingly, both times fred and george apparated and disapparated, they did it with a pop as in the books. in the books, the words \"apparate\" and \"disapparate\", like many other neologisms used by rowling, are capitalised, whereas established english words such as \"jinx\" and \"hex\" are not. the words themselves are most likely derived from the french apparaître and disparaître, meaning 'to appear' and 'to disappear'. another possible derivation is from the english word \"apparition\", meaning \"a supernatural appearance of a person or thing; anything that appears, especially something remarkable or startling; an act of appearing\", which comes from the latin \"apparitio\", meaning attendance. \"disapparate\" probably comes from the same word but with the prefix: \"dis-\" expressing negation or reversal. other teleportation [ edit]some magical creatures have their own forms of instantaneous travel, such as a house elf's ability to teleport or a phoenix's ability to appear and disappear in a burst of flame. unlike wizards, these creatures are not restricted by anti-apparition magic. dobby, kreacher and the rest of the house-elf population can apparate within the hogwarts grounds, as is demonstrated on multiple occasions, most notably when dobby visits harry in the hospital wing, and when dobby and kreacher are summoned by harry and assigned to tail draco malfoy. fawkes disapparates from the headmaster's office at hogwarts along with dumbledore when the latter manages to evade arrest at the hands of ministry officials in order of the phoenix. some magical devices like the floo network, portkeys and vanishing cabinets also provide forms of magical teleportation. veela charm [ edit]an ability attributed to veela and those of veela heritage, such as fleur delacour. it is used to charm males, much like the sirens in the odyssey. men who are exposed to it over time become more resistant to it, although the veela charm takes full effect if the veela surprises the man, as noted by ron in half-blood prince. as shown in goblet of fire, veela hair can be used as cores to create magical wands. according to famed wandmaker mr. ollivander, these wands are a little \"temperamental\". magical resistance [ edit]this refers to a certain degree of immunity against hexes and spells found in powerful creatures such as trolls, dragons, and giants. hagrid is resistant to certain spells, like the stunning spell, due to his giant blood. this type of resistance is not insurmountable; if enough stunning spells, for example, are fired at a creature with magical resistance at once, the creature may still be rendered unconscious. also, wizards and witches can resist certain spells with the power of their own sheer will, such as harry did in goblet of fire, when barty crouch jr. disguised as alastor moody tried to control harry with the imperius curse and harry resisted. subjects at hogwarts [ edit]at hogwarts, students must study a core group of subjects for the first two years, after which they must choose between several electives. during their final two years, students are permitted to take more specialized subjects such as alchemy. transfiguration, defence against the dark arts, charms, potions, astronomy, history of magic, and herbology are compulsory subjects for the first five years, as well as flying lessons. at the end of their second year, students are required to add at least two optional subjects to their syllabus for the start of the third year. the five choices are arithmancy, muggle studies, divination, study of ancient runes and care of magical creatures. very specialised subjects such as alchemy are sometimes offered in the final two years, if there is sufficient demand. there is a total of twelve named professors at hogwarts, each specializing in one of these subjects. transfiguration [ edit]transfiguration is essentially the art of changing the properties of an object. [20] transfiguration is a theory-based subject, including topics such as \"switching spells\" (altering only a part of some object, such as when hagrid gave dudley a pig tail); vanishing spells (causing an object to completely disappear); [oot p ch.13] and conjuring spells (creating objects out of thin air). [oot p ch.13] it is possible to change inanimate objects into animate ones and vice versa—minerva mc gonagall, the class's teacher, transfigures her desk into a pig and back in philosopher's stone. [ps ch.8]defence against the dark arts [ edit]defence against the dark arts, commonly shortened to d. a. d. a., [21] is the class that teaches students defensive techniques to defend against the dark arts, and to be protected from dark creatures. in harry potter and the deathly hallows, with death-eaters in charge of the school, the subject is renamed the dark arts, and involves pupils practicing the cruciatus curse on those who have earned detentions. [dh ch.29] the subject has an extraordinarily high turnover of staff members—throughout the series no defence against the dark arts teacher has retained the post for more than one school year. harry is exceptionally skilled in this subject. during the period the story takes place, the class is taught by quirinus quirrell ( book one ), gilderoy lockhart ( book two ), remus lupin ( book three ), bartemius crouch jr impersonating alastor \"mad-eye\" moody ( book four ), dolores umbridge ( book five ), severus snape ( book six ), and amycus carrow ( book seven ). hagrid suggests in harry potter and the chamber of secrets that \"they're startin' ter think the job's jinxed. no one's lasted long for a while now.\" in half-blood prince, dumbledore suggests that voldemort cursed the position because his application for it was rejected. [hbp ch.20] the existence of the jinx was eventually confirmed by rowling. the position had also been coveted by snape, but he was denied the position as well. snape was finally appointed d. a. d. a. professor in half-blood prince. rowling announced in an interview that once voldemort had died, the jinx he placed on the office was lifted and a permanent professor had been teaching the subject between the end of deathly hallows and the epilogue, set nineteen years afterwards. furthermore, she imagines that harry potter occasionally comes to the class to give lectures on the subject. [22]charms [ edit]charms is the class that teaches how to develop incantations for the uses of bewitchment. rowling has described charms as a type of magic spell concerned with giving an object new and unexpected properties. [20] charms classes are described as notoriously noisy and chaotic, as the lessons are largely practical. [oot p ch.18] many of the exposition sequences in the books are set in charms classes, which are on the second floor of hogwarts. the class is taught by filius flitwick. potions [ edit]further information: potions in harry potter potions is described as the art of creating mixtures with magical effects. it requires the correct mixing and stirring of ingredients at the right times and temperatures. as to the question of whether a muggle could brew a potion, given the correct magical ingredients, rowling has said, \"potions seems, on the face of it, to be the most muggle-friendly subject. but there does come a point in which you need to do more than stir.\" [23] rowling later confirmed on pottermore that \"there is always some element of wandwork necessary to make a potion.\" [24] snape's lessons are depicted as unhappy, oppressing times set in a gloomy dungeon in the basement of the castle, whilst slughorn's, who replaces snape as potions master, are shown as more cheerful and even fun at times. astronomy [ edit]astronomy classes take place in the astronomy tower, the tallest tower in hogwarts, and are taught by professor aurora sinistra. lessons involve observations of the night skies with telescopes. no astronomy lessons are shown in the books, but they are frequently referenced. rowling describes one of harry's astronomy exams in harry potter and the order of the phoenix. also, bits of the astronomy tower are seen throughout the film series, such as hp2 and hp3, and featured in half-blood prince, as the place where dumbledore died, and seen in deathly hallows. known student homework activities include learning the names of stars, constellations and planets, and their location, movements, and environments. history of magic [ edit]history of magic is the study of magical history. cuthbert binns ' lessons are depicted as some of the most boring at hogwarts. they are only lectures, given without pause, about significant events in wizarding history. topics have included goblin rebellions, giant wars, and the origins of wizarding secrecy. this is the only class at hogwarts that is taught by a ghost, as the professor never noticed he had died and simply continued teaching as if nothing had changed. herbology [ edit]herbology is the study of magical plants and how to take care of, utilise and combat them. there are at least three greenhouses described in the books, holding a variety of magical plants. herbology is also the only subject neville excels in. the epilogue to deathly hallows explains that he later replaces professor sprout as the herbology teacher. arithmancy [ edit]arithmancy is a branch of magic concerned with the magical properties of numbers. as neither harry nor ron take this class; almost nothing is known about it. it is, however, a favourite subject of hermione. arithmancy is reportedly difficult, as it requires memorising or working with many charts. in order of the phoenix, it is mentioned that the study of arithmancy is required to become a curse-breaker for gringotts. the subject is taught by professor septima vector. study of ancient runes [ edit]study of ancient runes, more commonly known as ancient runes, is a generally theoretical subject that studies the ancient runic scripts. because only hermione studies it, little else is known about this subject, taught by professor bathsheba babbling. [25] in deathly hallows dumbledore bequeaths his copy of the tales of beedle the bard, which is written in ancient runes, to hermione. divination [ edit]divination is the art of predicting the future. various methods are described, including tea leaves, fire omens, crystal balls, palmistry, cartomancy (including the reading of conventional playing cards and the tarot ), astrology, and dream interpretations. divination is described by professor mc gonagall as \"one of the most imprecise branches of magic\". [pa ch.6] supporters of the subject claim that it is an inexact science that requires innate gifts such as the \"inner eye\". those opposed claim that the subject is irrelevant and fraudulent. harry is first taught divination by professor trelawney, and then later by firenze after trelawney is sacked by dolores umbridge in harry's fifth year. in the sixth (and presumably seventh) year, firenze and professor trelawney share divination classes, divided by year. care of magical creatures [ edit]care of magical creatures is the class which instructs students on how to care for magical beasts. classes are held outside the castle. in harry's first two years, the class is taken by professor silvanus kettleburn who then retires \"in order to enjoy more time with his remaining limbs\". dumbledore then recruits the gamekeeper rubeus hagrid to accept a teaching position along with his gamekeeping duties. although hagrid is obviously very experienced and knowledgeable, he doesn't \"have a normal person's view of what's dangerous\", an example being that the care of magical creatures students were required to get a literally ferocious textbook called the \"monster book of monsters\", and so consistently misjudges the risk that the animals he uses in his lessons pose to his students [pa ch.6] [gf ch.13], which sometimes results in chaos. when hagrid is absent, his lessons are taken over by wilhelmina grubbly-plank, a witch and an acquaintance of dumbledore's. muggle studies [ edit]muggle studies is a class which involves the study of the muggle (non-magical) culture \"from a wizarding point of view.\" the only need for witches and wizards to learn about muggle ways and means is to ensure they can blend in with muggles while needing to do so (for example, at the 1994 quidditch world cup). as the class is only mentioned as being taken by hermione, and for just one year, little is known about its curriculum. in the opening chapter of the final book, voldemort murders professor charity burbage because she portrays muggles in a positive light and is opposed to limiting wizardry to only people of pure-blood origins. for the rest of the academic year covered by deathly hallows, the death eater alecto carrow teaches muggle studies. however, her lessons (which are made compulsory) mainly describe muggles and muggle-borns as subhuman and worthy of persecution. alchemy [ edit]alchemy classes are not mentioned in the harry potter series; however, rowling has used alchemy as an example of a 'specialized' subject offered when there is sufficient demand. alchemy is a philosophical tradition searching for the philosopher's stone, which is said to have the power to turn base metals into gold and to contain the elixir of life, which makes or keeps the drinker young and immortal. as mentioned in harry potter and the philosopher's stone, nicholas flamel created a philosopher's stone, but it was destroyed at the end of harry's first year. flying [ edit]flying is the class that teaches the use of broomsticks made for the use of flying and is taught only to hogwarts first years by rolanda hooch. the subject is the only one that requires physicality. the only flying lesson depicted in the harry potter series is in harry potter and the philosopher's stone. apparition [ edit]apparition is an optional class for those in the sixth and seventh years at hogwarts, in preparation for obtaining their licence. in harry's sixth year, wilkie twycross, a ministry of magic apparition instructor, teaches the lessons. magical enchantments on hogwarts castle and grounds prevent apparition and disapparition inside the castle; however half-blood prince explains that these protections are temporarily relaxed within the great hall for short periods to permit students to practice. students are warned, though, that they will not be able to apparate outside of the great hall and that it would be unwise to try. spell-like effects [ edit]unbreakable vow [ edit]the unbreakable vow is a voluntary agreement made between two witches or wizards. it must be performed with a witness (\"bonder\") on hand, holding their wand on the agreeing persons' linked hands to bind them with magic as a tongue of flame. the vow is not literally \"unbreakable\" as the person taking it is still able to go back on his or her word, but doing so will cause instant death. the unbreakable vow was first introduced in half-blood prince, in which snape made a promise to narcissa malfoy to protect draco, with bellatrix as the \"bonder\", as her son attempted to fulfil the dark lord's task, and for snape to fulfil the task if something should prevent draco from doing it. another example in half-blood prince occurs when ron tells harry how fred and george tried to make him undertake an unbreakable vow, but because of their father's intervention, they did not succeed. priori incantatem [ edit]priori incantatem, or the reverse spell effect, is used to detect the spells cast by a wand. the spells cast by the wand will emerge in smoky or ghost-like replicas in reverse order, with the latest spell emerging first. it is first encountered in goblet of fire when the house elf winky is found holding harry's wand. this spell is used to reveal that it was indeed harry's wand that cast the dark mark. in harry potter and the half blood prince, it is revealed that the teenage voldemort murdered his father and grandparents using his uncle morfin's wand, knowing that, when examined, the wand would incriminate morfin as the murderer. in deathly hallows, harry fears that a priori incantatem spell will be used on hermione's wand after the death eaters get hold of it. this would reveal that she had accidentally broken his holly-and-phoenix-feather wand when a curse misfired and they both narrowly escaped voldemort earlier. as a result, the protection of the shared cores was lost and, worse still, this would now be made known to voldemort. during the final duel between harry and voldemort, the latter mentions that he knows that the holly and phoenix wand is destroyed, implying that the priori incantatem has indeed been performed on hermione's wand, as they had feared. forcing two wands that share the source of their cores to do battle can also cause a more potent form of priori incantatem. the tips of the two wands will connect, forming a thick golden \"thread\" of energy, and the two wands' masters fight a battle of wills. the loser's wand will regurgitate shadows of spells that it has cast in reverse order. this phenomenon occurs during the duel between harry and voldemort at the end of goblet of fire. their simultaneous spells (harry and voldemort cast \"expelliarmus\" and \"avada kedavra\" respectively) trigger the threads, and as voldemort loses the battle of wills, his wand regurgitates, in reverse order, echoes of the people his wand had last murdered: cedric diggory; frank bryce; bertha jorkins; as well as harry's parents. harry was previously informed by mr. ollivander that the holly wand that \"chose\" harry was the \"brother\" of the yew wand that gave him the lightning-shaped scar on his forehead, although the significance of this was not discussed then. dumbledore later reveals to harry that his and voldemort's wands both contain a tail feather given by dumbledore's pet phoenix, fawkes. dark arts [ edit]the dark arts are magical spells and practices that are usually used for malicious purposes. practitioners of dark arts are referred to as dark witches or wizards. the most prominent of these is voldemort, known to them as the dark lord. his followers, known as death eaters, practice the dark arts while doing his bidding. the type of spells characteristic of dark arts are known as curses, [26] which usually cause harm to the target. all, to a certain degree, are in some circumstances justifiable. the motivation of the caster affects a curse's result. this is most notable in the case of cruciatus: when cast by harry, angered by the death of his godfather at bellatrix's hands and desiring to punish her, it causes a short moment of pain. as bellatrix herself comments, righteous anger does not allow the spell to work for long. when cast by figures such as voldemort, who desire to inflict pain for its own sake, it causes intense agony that can last as long as the dark witch or wizard desires. use of dark magic can corrupt the soul and body; voldemort has used such magic in his quest to prolong his life and obtain great power. the dark arts also cause voldemort to look deformed and inhuman, a side effect of splitting his soul into horcruxes. according to snape, the dark arts \"are many, varied, ever-changing and eternal... unfixed, mutating, indestructible\". [27] in magical dueling, there are any number of spells that may be used to attack, immobilise, or disarm an opponent without causing pain or lasting harm; however, spells such as the cruciatus curse or sectumsempra, judged to be dark by reliable authorities, wound or seriously distress a victim in some way. dark spells can be classified into three groups: jinxes, hexes & curses. in the wizarding world, use of the dark arts is strongly stigmatised and even illegal; however, these spells are prevalent enough that even before the rise of voldemort, many schools, (including hogwarts), taught defence against the dark arts as a standard subject. techniques include anti-curses and simple spells to disable or disarm attackers or fight off certain creatures. some schools, such as durmstrang, teach dark magic. a dark arts class is also taught at hogwarts while it is under death eater control. unforgivable curses [ edit]the unforgivable curses are some of the most powerful known dark arts spells. they were first classified as unforgivable in 1717. used by the books' villains, such as voldemort and the death eaters and in some cases the ministry of magic, their use inspires horror and great fear amongst others. the curses are so named because their use is forbidden and unforgivable in the wizarding world and is punishable by a life sentence in azkaban. the only exception is if a person is proved to have done them under the influence of mind control. these curses are thus very rarely used openly. the unforgivable curses include: avada kedavra, the killing curse. the curse is used for murder. this is one of the most powerful curses. normally, it cannot be stopped or deflected, but it can be dodged or obstructed with a physical object. the spell causes immediate, painless death, and cannot be reversed. casting it requires immense magical power, so much so that the combined power of an entire class of 4th year students is not sufficient for it. the curse, when summoned, is shown as a bright green light (a bolt or beam of green light in the films). harry potter is the only person known to have survived (twice), nullified (once) and deflected (once) this curse. crucio, the cruciatus curse. the curse is used for torturing a person by causing them physical pain and agony. the strength of the curse is determined by the person who casts it. the curse is so powerful that it can even torture a person to the point that they are exhausted to death, or in a more sadistic case, it causes permanent amnesia and insanity (the case of neville's parents, who were tortured by bellatrix lestrange). effective casting requires the caster to have sadistic desires. harry finds out in order of the phoenix while attempting to use the cruciatus curse on bellatrix that the caster must truly want their victim to suffer for the spell to work, and that his righteous anger is not enough. the curse, when summoned, is shown in a bright-faded blue light (though it is usually invisible or even a red bolt of light in the films). when hogwarts was under death eater control, the dark arts teacher forced the students in his class to use the cruciatus curse on students who had been assigned detention. imperio, the imperius curse. the curse is used for mind control or hypnosis and can force the victim to do things he/she would be unwilling to do or even incapable of under normal circumstances. the strength (and also the duration) of the curse is determined by the determination of the person who cast it, as well as by the level of resistance offered by the victim. the curse, when summoned, is shown in a bright haze (while it was either invisible or green, mist-like haze in the films). harry potter resisted an imperius curse cast by voldemort. the use of the unforgivable curses was authorised against voldemort and his followers by bartemius crouch sr, during the first wizarding war. (shortly after his resurrection, voldemort names two death eaters \"killed by aurors \".) in addition, in deathly hallows, the unforgivable curses are used liberally by good characters, ranging from professor mc gonagall with the imperius curse, to harry effectively using the cruciatus curse. he also uses the imperius curse on a goblin and a suspicious death eater during their disguised attack upon gringotts bank. dark mark [ edit]the dark mark is the symbol of voldemort and the death eaters and takes the form of a skull with a snake coming out of the mouth in place of a tongue. the mark is cast into the sky by death eaters whenever they have murdered someone. the spell used by death eaters to conjure the mark is morsmordre. it first appears in goblet of fire and is described as a \"colossal skull, composed of what looked like emerald stars, with a serpent protruding from its mouth like a tongue\". once in the sky it was \"blazing in a haze of greenish smoke\". dark marks are also branded on the left forearm of the closest followers of voldemort. the mark serves as a connection between voldemort and each who bears it; he can summon them by touching his mark, causing it and those of his followers to burn and change colour. death eaters can summon voldemort in the same fashion. following voldemort's ultimate defeat, the dark marks on his death eaters fade into a scar \"similar\" to harry's. [14] in the books, the dark mark is described as green; however, in the films, it was only green at the quidditch world cup. in all other film appearances it has been grey. inferius [ edit]distinguish from infernus. an inferius (plural: inferi) is a corpse controlled through a dark wizard's spells. an inferius is not alive, but a dead body that has been bewitched into acting like a puppet for the witch or wizard; this manifests itself as a white mist in the controlled corpse's eyes. they cannot think for themselves: they are created to perform a specific duty assigned by the dark wizard who commands them, and as seen in the inferi guarding voldemort's horcrux in a seaside cave, remain idle until their task can be performed. this task is then thoughtlessly carried out, whether or not it will produce any result. inferi are difficult to harm by magic; however, they can be repelled by fire or any other forms of heat or light, as the inferi in voldemort's cave had never been exposed to either of these elements. when defeated, they return to their idle state. inferi are considered dangerous and frightening enough by the magical world that impersonating an inferius (as mundungus fletcher does in half-blood prince) is an offence worthy of imprisonment in azkaban. the ministry of magic fears that voldemort is killing enough people to make an army of inferi: as they are dead, they are very difficult to stop. when voldemort was hiding one of his horcruxes in the past, he filled a lake in a cave with many inferi, which were to attack and drown anyone but voldemort who came into the cavern and took the locket. when harry and dumbledore took the locket, the inferi attacked harry; dumbledore repelled them with a rope of fire. it is also revealed that the inferi almost killed kreacher after he drank from the basin to help voldemort hide his horcruxes, but having been ordered to return to his master after his task with voldemort was complete, he was able to apparate out of the cave. these inferi later killed regulus black when he stole the horcrux and ordered kreacher to destroy it. in latin, the word inferus (plural: inferi) means \"below\", often referring in the plural to \"the gods below\" (see di inferi) or the spirits of the dead. [28] inferius is a neuter singular form of inferior, a comparative adjective meaning \"lower\". [28] [29]horcrux [ edit]see also: magical objects in harry potter § horcruxes a horcrux is an object created using dark magic to attain effective immortality. the concept is first introduced in the sixth novel, harry potter and the half-blood prince, although horcruxes are present in earlier novels without being described or expanded upon. to create a horcrux, a witch or wizard must first prepare the chosen object [30] in a ritual which is referred to as only “too horrible to go into detail about”. following the preparation of the object, the witch or wizard must then take a life, an act which splits the soul. following that, further dark rituals are required in order to remove the soul shard from the maker and place it into the prepared object. once this is done, the horcrux becomes impervious to almost all forms of destruction, requiring extremely powerful magic or substances to do so. ordinarily, when one's body is killed, the soul departs for the next world. if, however, the body of a horcrux owner is killed, that portion of his soul which had remained in his body will not pass on to the next world, but will rather exist in a non-corporeal form capable of being resurrected by another wizard. if all of someone's horcruxes are destroyed, then his soul's only anchor in the material world would be his body, the destruction of which would then cause his final death. portraits [ edit]in the harry potter series the subjects of magical portraits (even those of characters that are dead) can move, interact with living observers, speak and demonstrate apparent emotion and personality. some can even move to other portraits to visit each other, or relay messages, or (if more than one painting of the subject exists) move between separate locations by way of their portraits. an example of this is phineas nigellus black, who has a painting in the headmaster's office and at number 12 grimmauld place. many such portraits are found on the walls of hogwarts. some portraits are used to conceal the entrance of a room or passageway. for example, the fat lady's portrait covers the entrance to the gryffindor common room, and she can swing the portrait open when given the correct password or close to prevent entry. in harry potter and the deathly hallows, there is a portrait of ariana dumbledore in the room of requirement that conceals a secret passageway to the hog's head. there is also a painting of a large fruit bowl in front of the hogwarts kitchen, which will swing open if the pear is tickled to reveal a hidden door. portraits are enchanted to move by the artist, but the degree to which they can interact with others depends on the power of the subject. [31] rowling has commented that a portrait is merely a faint imprint of the deceased subject, imitating their basic personality and thought patterns. they are therefore \"not as fully realised as ghosts\". [32] in harry potter and the cursed child the portrait of albus dumbledore describes himself as only \"paint and memory\" and professor mc gonagall (his successor as headteacher of hogwarts) comments that, although she speaks to dumbledore to help her in making decisions, she is careful to remember that \"portraits don't represent even half of their subjects\". portraits in the headmaster's office [ edit]the portraits in the headmaster's office depict all the former heads of hogwarts, with the exception of dolores umbridge. they advise the headmaster and are \"honour-bound to give service to the present headmaster\" (according to armando dippet). rowling has explained that portraits of past headteachers tend to be more realistic than most, as the subject in question usually imparts knowledge and teaches them how to behave before their death. [31]the fat lady [ edit]the portrait of the fat lady covers the door to gryffindor tower. she will open it (sometimes grudgingly) when the correct password is uttered. she is often upset after being awoken, and is sometimes seen drunk with her best friend, violet. the fat lady has no other known name -- even the unfailingly polite albus dumbledore refers to her only as \"the fat lady\" -- and it may be that she does not represent a real person but is instead an invention of her portrait's artist. in philosopher's stone, she leaves her portrait in the middle of the night, locking harry, ron, hermione, and neville out of gryffindor tower, forcing them to run across the school. luckily for them, when they return, she has returned to her portrait, allowing them to escape into gryffindor tower. in prisoner of azkaban, sirius black slashes the fat lady's portrait when she won't let him in without a password and it is some time before she dares to guard gryffindor tower again. after her portrait is restored, she requests protection in case someone tries to attack her portrait again. thus, two security trolls are hired. in half blood prince, she gets so annoyed with harry's late return that she pretends the password has changed and tries to call him back when he heads off to talk to dumbledore. when harry later confirms dumbledore's death, she lets out a sob and, for the only time in the series, she opens without the password for harry in her grief. in the first film the fat lady is played by elizabeth spriggs, and by dawn french in the third film. photographs [ edit]wizarding photographs of people have similar properties to magical painted portraits: the figures within move about or even sometimes leave the frame. they appear in wizard newspapers and other print media, as well as on chocolate frog cards. [hp1] colin creevey mentions in chamber of secrets that a boy in his dormitory said that if he develops the film from his muggle camera 'in the right potion', the pictures will move. [33] however, unlike portraits, figures in wizarding pictures cannot speak and display little sentience. it appears that they do have some knowledge of current events, as in order of the phoenix, the family photograph on arthur's desk shows everyone except percy \"who appeared to have walked out of it\", [34] mirroring the deterioration of percy's relationship with his family. it is also mentioned that in a photo taken by colin creevey of gilderoy lockhart and harry, harry's picture had walked out and was resisting all of lockhart's efforts to pull him back in. references [ edit]^ \"faq jkrowling.com\". archived from the original on 21 july 2011. retrieved 8 may 2017.^ harry potter: a history of magic. 28 october 2017. bbc.^ flood, alison (8 august 2016). \"harry potter's 20th birthday to be marked with british library show\". the guardian. retrieved 30 november 2017.^ \"j. k rowling official site\". archived from the original on 26 september 2011. retrieved 27 february 2008.^ [hp6], chapter 13^ \"2001: accio quote!, the largest archive of j. k rowling interviews on the web\". archived from the original on 27 august 2008. retrieved 27 february 2008.^ \"history of magic in north america\". pottermore. retrieved 5 may 2017.^ a b \"jkr quotes about \"the rules\" of harry potter's wizarding world:\". retrieved 27 february 2008.^ harry potter and me. accio quote. 28 december 2001. bbc.^ anelli, melissa. \"more about that veil\". harry, a history. archived from the original on 20 november 2008. retrieved 8 may 2017.^ rowling, j. k. pottermore presents: short stories from hogwarts of heroism, hardship and dangerous hobbies. pottermore. isbn 978-1-78110-628-0.^ \"j. k. rowling's official site, rumour section\". archived from the original on 2011.^ rowling, j. k.: \"harry potter and the order of the phoenix\", page 85. scholastic, 2003^ a b \"j. k. rowling web chat transcript\". archived from the original on 8 july 2012.^ \"transcript of jk rowling web chat—harry potter beyond\". archived from the original on 21 february 2008. retrieved 27 february 2008.^ \"j. k rowling at the royal albert hall 26 june 2003\". retrieved 27 february 2008.^ prince, alan (2011). the true story of severus snape: an essay about harry potter's most disputed character, p. 52.^ [hp5], chapter 26^ rowling, j. k. \"welcome to my new website!\". jkrowling.com. retrieved 5 may 2017.^ a b 1998: accio quote!, the largest archive of j. k. rowling quotes on the web, quick-quote.quill.org^ rowling, j. k. (2005). \"silver and opals\". harry potter and the half-blood prince. bloomsbury. isbn 0747581088.^ brown, jen (24 july 2007). \"stop your sobbing! more potter to come\". todayshow.com. nbc. retrieved 24 july 2007.^ 2006: accio quote!, the largest archive of j. k. rowling interviews on the web, quick-quote.quill.org^ \"potions\". pottermore. retrieved 5 may 2017.^ steve vander ark. \"hp-lexicon.org\". hp-lexicon.org. retrieved 16 july 2011.^ j. k. rowling's official site archived 24 january 2008 at the wayback machine.^ [hp6], chapter 9^ a b lewis, charlton t.; short, charles (1879). \"q.v., inferus, as positive noun i. b, as comparative adjective ii. a\". a latin dictionary. oxford: clarendon press.^ morphology of inferius by the perseus project^ \" \" potter cast interviews j. k. rowling, part one.\" (2007), accio quote!\". www.accio-quote.org. retrieved 2017-12-31.^ a b rowling, j. k. \"hogwarts portraits\". pottermore. retrieved 9 may 2017.^ \"jk rowling at the edinburgh book festival\". j. k. rowling official web site. 15 august 2004. archived from the original on 21 july 2011.^ [hp2], chapter 6^ [hp5], chapter 7further reading [ edit]highfield, roger (2002). the science of harry potter: how magic really works. new york: viking. isbn 978-0-670-03153-5. teare, elizabeth (2002). \"harry potter and the technology of magic\". in whited, lana a. the ivory tower and harry potter: perspectives on a literary phenomenon. columbia, missouri: university of missouri press. pp. 29–342. isbn 978-0-8262-1549-9. black, sharon (2003). \"the magic of harry potter: symbols and heroes of fantasy\". children's literature in education. 34 (3): 237–247. doi: 10.1023/a:1025314919836. external links [ edit]magic on harry potter wiki, an external wiki [ hide]v t e the harry potter series by j. k. rowling novels the philosopher's stone (1997) the chamber of secrets (1998) the prisoner of azkaban (1999)the goblet of fire (2000) the order of the phoenix (2003) the half-blood prince (2005) the deathly hallows (2007)film series films the philosopher's stone (2001) the chamber of secrets (2002) the prisoner of azkaban (2004)the goblet of fire (2005) the order of the phoenix (2007) the half-blood prince (2009)the deathly hallows – part 1 (2010) the deathly hallows – part 2 (2011)music the philosopher's stone the chamber of secrets the prisoner of azkaban the goblet of fire the order of the phoenix the half-blood prince the deathly hallows – part 1the deathly hallows – part 2related cast members production of the deathly hallows characters main harry potter ron weasley hermione granger lord voldemort albus dumbledore severus snape rubeus hagrid draco malfoy supporting ginny weasley fred and george weasley hogwarts staff order of the phoenix dumbledore's army death eaters fictional universe hogwarts magic magical creatures magical objects ministry of magic muggle places potions quidditch related works fantastic beasts and where to find them quidditch through the ages the tales of beedle the bard prequel pottermore the cursed child hogwarts: an incomplete and unreliable guide short stories from hogwarts of power, politics and pesky poltergeists short stories from hogwarts of heroism, hardship and dangerous hobbies games and toys quidditch world cup lego creator: harry potter lego harry potter: years 1–4 lego harry potter: years 5–7the philosopher's stone the chamber of secrets the prisoner of azkaban the goblet of fire the order of the phoenix the half-blood prince the deathly hallows – part 1 the deathly hallows – part 2book of spells book of potions trading card game lego harry potter hogwarts mystery wizards unite attractions the wizarding world of harry potter orlando japan hollywood dragon challenge flight of the hippogriff harry potter and the escape from gringotts harry potter and the forbidden journey hogwarts express harry potter movie magic experience warner bros. studio tour london fandom harry potter alliance the leaky cauldron muggle net leaky con wizard rock wrockstock severus snape and the marauders voldemort: origins of the heir my immortal related influences and analogues legal disputes parodies politics religious debates translation a very potter musical the harry potter lexicon the magical worlds of harry potter potter puppet pals portkey games book category portal categories: fictional superhuman features or abilities harry potter universe magic in fiction \n",
            "IS THERE ANY # ------- Let Check ! \n",
            "Body:\n",
            " From Wikipedia, the free encyclopedianavigation search [ hide]This article has multiple issues. Please help improve it or discuss these issues on the talk page. ( Learn how and when to remove these template messages)This article may contain an excessive amount of intricate detail that may only interest a specific audience. (July 2016)This article describes a work or element of fiction in a primarily in-universe style. (July 2016)In J. K. Rowling 's Harry Potter series, magic is depicted as a supernatural force that can be used to override the usual laws of nature. Many fictional magical creatures exist in the series, while ordinary creatures sometimes exhibit new magical properties in the novel's world. Objects, too, can be enhanced or imbued with magical property. The small percentage of humans who are able to perform magic are referred to as witches and wizards, in contrast to the non-magical muggles. In humans, magic or the lack thereof is an inborn attribute. It is inherited, carried on \"dominant resilient genes\". [1] Magic is the norm for the children of magical couples and less common in those of muggles. Exceptions exist: those unable to do magic who are born to magical parents are known as squibs, whereas a witch or wizard born to muggle parents is known as a muggle-born, or by the derogatory term \"mudblood\". While muggle-borns are quite common, squibs are extremely rare. Rowling based many magical elements of the Harry Potter universe on real-world mythology and magic. She has described this as \"a way of giving texture to the world\". [2] The books present the idea that the Muggle interpretation of these stories is a distorted version of what goes on in the wizarding world. The magic of Harry Potter became the subject of a 2017 British Library exhibition and accompanying documentary. The exhibition, entitled Harry Potter: A History of Magic, is the first at the British Library to feature a living author as its subject. [3]Contents [ hide ]1 Using magic1.1 Spellcasting2 The limits of magic2.1 Death2.2 Principal Exceptions to Gamp's Law of Elemental Transfiguration2.3 Emotion3 Magical abilities3.1 Animagi3.2 Metamorphmagi3.3 Parseltongue3.4 Seers3.5 Legilimency and Occlumency3.6 Apparition and Disapparition3.7 Other teleportation3.8 Veela charm3.9 Magical resistance4 Subjects at Hogwarts4.1 Transfiguration4.2 Defence Against the Dark Arts4.3 Charms4.4 Potions4.5 Astronomy4.6 History of Magic4.7 Herbology4.8 Arithmancy4.9 Study of Ancient Runes4.10 Divination4.11 Care of Magical Creatures4.12 Muggle Studies4.13 Alchemy4.14 Flying4.15 Apparition5 Spell-like effects5.1 Unbreakable Vow5.2 Priori Incantatem6 Dark Arts6.1 Unforgivable Curses6.2 Dark Mark6.3 Inferius6.4 Horcrux7 Portraits7.1 Portraits in the Headmaster's office7.2 The Fat Lady7.3 Photographs8 References9 Further reading10 External links Using magic [ edit]Witches and wizards need training to learn how to control their magic. With young and untrained children, magic will manifest itself subconsciously in moments of strong apprehension, fear, anger and sadness. [4] For example, Harry Potter once made his hair grow back after a bad haircut, set a boa constrictor on his cousin Dudley at the London Zoo, and made Aunt Marge inflate to an enormous size. While this reaction is usually uncontrollable, as an untrained child, Lord Voldemort was able to make things move without touching them, make animals do what he wanted without training them, make \"bad things happen to people\" who annoyed him, or make them hurt if he wanted to. [5] In addition, Lily Potter was able to guide and control the blooming of a flower by wanting to. Almost all magic is done with the use of a wand. On the subject of wandless magic, Rowling says: [6]“ You can do unfocused and uncontrolled magic without a wand (for instance when Harry blows up Aunt Marge) but to do really good spells, yes, you need a wand. ”A wizard or witch is only at their best when using their own wand. When using another's wand, one's spells are not as strong as they normally would be. [HP1]Within the books, technical details of magic are obscure. Of Harry's lessons, only those involving magical creatures, potions or divination are given in any detail. Severus Snape once told Harry Potter that \"Time and space matter in magic\" during Harry's first Occlumency lesson in Harry Potter and the Order of the Phoenix and Albus Dumbledore told Harry after finding the magically concealed boat to reach the locket Horcrux that \"Magic always leaves traces, sometimes very distinctive traces.\" [HP6]Spellcasting [ edit]Spells are the every-purpose tools of a wizard or witch; short bursts of magic used to accomplish single specialised tasks such as opening locks or creating fire. Typically casting requires an incantation, most often in a modified form of Latin (see Dog Latin ), and gesturing with a wand. However, Rowling has revealed that particularly talented wizards can cast spells without the aid of wand, although magic produced with one is generally more precise and powerful. [7] Spells can also be cast non-verbally, but with a magical wand. This special technique is taught in the sixth year of study at Hogwarts and requires the caster to concentrate on the incantation. Some spells (e.g. Levicorpus) are apparently designed to be used non-verbally. While most magic shown in the books requires the caster to use their voice, some do not (and this may depend on the witch or wizard). Dumbledore has been known to do impressive feats of magic without speaking, such as conjuring enough squashy purple sleeping bags to accommodate the entire student population [HP3] or during his duel with Voldemort towards the end of Order of the Phoenix. It is possible to use a wand without holding it. In Order of the Phoenix, Harry himself performs Lumos to light his wand when it is lying on the ground somewhere near him. [HP5] Additionally, Animagi and Metamorphmagi do not need wands to undergo their transformations. Spells are divided into rough categories, such as \" charms \", \" curses \", \"hexes\", or \" jinxes \". Although offensive and potentially dangerous curses exist in number, three are considered usable only for great evil, which earns them the special classification of \" Unforgivable Curses \". The limits of magic [ edit]Before publishing the first Harry Potter novel, Rowling spent five years establishing the limitations of magic—determining what it could and could not do. \"The most important thing to decide when you're creating a fantasy world,\" she said in 2000, \"is what the characters CAN'T do.\" For instance, while it is possible to conjure things out of thin air, it is far more tricky to create something that fits an exact specification rather than a general one; moreover, any objects so conjured tend not to last. [8]Death [ edit]Rowling has described death as the most important theme in the books. [9] Consequently, as Dumbledore states in Harry Potter and the Goblet of Fire, there is no spell that can truly bring the dead back to life. While corpses can be transformed into obedient Inferi on a living wizard's command, they are little more than zombies with no soul or will of their own. However, there are some methods of communicating with the dead, though with limited results. For example, all Hogwarts headmasters appear in a portrait when they die, allowing consultation by future generations. It is also possible through the rare Priori Incantatem effect to converse with ghost-like \"shadows\" of magically murdered people. The Resurrection Stone also allows one to talk to the dead, but those brought back by the Stone are not corporeal, nor do they wish to be disturbed from their peaceful rest. Throughout the series, this limit is continually mentioned, and wizards try to transcend it at their own folly. Likewise, it is not possible to make oneself immortal unless one makes use of an object of great power to sustain life, such as the Philosopher's Stone or horcruxes. If one were to possess the three Deathly Hallows, it is fabled that they would possess the tools to become the \"master of death\". However, it is hinted that to be a true \"master of death\" is to be willing to accept that death is inevitable. Other methods of extending life include drinking unicorn blood, which will keep a person alive even if death is imminent, but at the terrible price of being cursed forever. Being magical can contribute to one's longevity, as there are several characters in the series who are unusually long-lived (such as Griselda Marchbanks, who was an invigilator during Albus Dumbledore's O. W. L examinations). It is revealed by Nearly Headless Nick in the fifth book that all witches and wizards have the choice of becoming ghosts upon dying; however, it is described as \"a pale imitation of life\". Snape states that a ghost is merely \"the imprint of a departed soul left upon the earth\". Death is studied at the Department of Mysteries in a chamber containing an enigmatic veil, which Rowling has described as \"the divide between life and death\". With regard to what is on the other side, she elaborated: \"Do I believe you go on? Yes, I do believe you go on. I do believe in an afterlife, although I'm absolutely doubt-ridden and always have been but there you are.\" [10] Sirius falls through this veil in Order of the Phoenix after he is hit with a curse from Bellatrix. Principal Exceptions to Gamp's Law of Elemental Transfiguration [ edit]The Principal Exceptions to Gamp's Law of Elemental Transfiguration is a magical theory mentioned by Hermione and later repeated by Ron in the final book. She explains that food is one of these: witches or wizards can cook and prepare food using magic, and even multiply it, but not create it out of nothing. There are numerous examples in the series of food appearing to have been conjured from nothing, such as the sudden materialisation of ingredients in the pots of Molly Weasley's kitchen and when Professor Mc Gonagall creates a self-refilling plate of sandwiches for Harry and Ron in Chamber of Secrets. In all cases, these events can be reasonably explained as food either being multiplied or transported from elsewhere. One example of the latter is banqueting at Hogwarts—the food is prepared by elves in the kitchens and laid onto four replica tables, directly below the actual house tables in the Great Hall. The food is then magically transported to the tables. This is the only exception mentioned explicitly in the series. However, Rowling herself has stated once in an interview that money is something wizards cannot simply materialise out of thin air, [8] or the economic system of the wizarding world would then be gravely flawed and disrupted. While the Philosopher's Stone does permit alchemy, this is portrayed as an extremely rare, even unique, object, whose owner does not exploit its powers. Emotion [ edit]As explained earlier, young untrained wizards can trigger uncontrolled magic when they are in the state of heightened emotions. But emotions also affect trained witches and wizards and their magical abilities. For instance, in Half-Blood Prince, a heartbroken Nymphadora Tonks temporarily loses her power as a Metamorphmagus when Remus Lupin starts distancing himself from her. The form of her Patronus changes to reflect her depression. Another example is Merope Gaunt, who only demonstrated any magical ability when removed from her father's oppression, but then lost it again when her husband abandoned her. Several magical spells require the use of certain emotions when casting them. The Patronus charm, for example, requires the caster to concentrate on a happy memory. (Force of will, under extenuating circumstances, helps a lot. An example of this is when Harry is able to conjure a corporeal Patronus when Sirius is in danger of being administered the Dementor's Kiss.) [HP3] Another example is the Cruciatus Curse, which causes immense pain; as Harry discovers during a duel with Bellatrix Lestrange, effective use of this forbidden dark magic requires sadistic desires. [HP5]Love (in its broadest meaning) is depicted as a particularly powerful form of magic. According to Dumbledore, love is a \"force that is at once more wonderful and more terrible than death, than human intelligence, than forces of nature.\" [HP5] Lily's voluntary sacrifice on Harry's behalf saves him from Voldemort as a baby, and Harry makes a similar sacrifice to save his friends at the end of Deathly Hallows. [HP7] A certain key prophecy in the series describes Harry as having \"power the Dark Lord knows not\", referencing his capacity for love. [HP5]True love is impossible to create magically; Amortentia, a love potion, can only create a powerful sense of infatuation and obsession. Magical abilities [ edit]The following is a list of special abilities that a wizard or witch in the Harry Potter universe may have. Animagi [ edit]An Animagus ( portmanteau of animal and magus) is a witch or wizard who can turn into a particular animal or magical creature at will. This ability is not innate: it must be acquired by magical means. All Animagi must register at a central authority by law, though a number of characters are revealed over the course of the series to have remained unregistered illegally: James Potter, Sirius Black, Peter Pettigrew and Rita Skeeter. Animagi transformation can be performed wandlessly. Sirius and Peter are left wandless for over 10 years, but both retain the ability with no apparent ill effects. When Animagi transform, they take on the appearance of a normal animal. However, in Harry Potter and the Prisoner of Azkaban, it is noted that Ron's pet rat Scabbers (later revealed as Peter Pettigrew's Animagus form) has lived over twelve years when only expected to live three. Also, an Animagus in animal form retains the ability to think like a human, which is the principal difference between being an animagus and being transfigured into an animal. Otherwise, they would forget that they were a wizard and be trapped, unknowingly, in this form unless transformed back by another wizard. Characteristics of an Animagus' human form can manifest themselves in the animal transformation; for example, the markings around Mc Gonagall's eyes as a cat resemble her glasses. When an Animagus registers, they must record all the defining physical traits of their animal form so that the Ministry can identify them. Each Animagus has a specific animal form, and cannot transform into any other animal. The animal cannot be chosen: it is uniquely suited to that individual's personality, and in most cases the Animagus will change into the same animal used in the person's Patronus Charm. [11]Explicit emphasis is placed in the books on the differences between Animagi and werewolves. Animagi have full control over their transformations and retain their minds, whereas werewolves' transformations are involuntary and include severe changes in personality. After the person has transformed into a werewolf, he no longer remembers who he is; he would kill his best friend if he got anywhere near him. A werewolf only responds to the call of his own kind. The only way that a werewolf can retain his sanity, intelligence and memory while transformed is using the Wolfsbane Potion. Metamorphmagi [ edit]A Metamorphmagus (a portmanteau of metamorph and magus) is a witch or wizard born with the innate ability to change some or all of their appearance at will. The talent cannot be acquired; a witch or wizard who has it must be born with it. Nymphadora Tonks and her son, Teddy Lupin are currently the only known Metamorphmagi in the series; it is a very rare ability, possibly hereditary. Tonks is known to change her hair colour and style according to her mood. She even appears as an old woman on occasion. She can also change her nose appearance, as she does when eating with the Weasley family to entertain Ginny and Hermione. Her son, Teddy Lupin, also inherited this trait, as his hair is mentioned repeatedly changing colour. The extent of these appearance-altering abilities and the limits thereof are not entirely clear. According to Rowling, a Metamorphmagus can alter his or her appearance completely, for instance, from black to white, young to old, handsome to plain and so on. [12] In one example, Tonks changes her facial appearance by reshaping her nose into \"a beaklike protuberance like Snape's\", to \"something resembling a button mushroom\", and \"one like a pig snout\" which reminded Harry of his cousin Dudley. [13] The emotional state of a Metamorphmagus can affect their abilities. Parseltongue [ edit]Parseltongue is the language of snakes. It is often associated with Dark Magic, although Dumbledore stated that it is not necessarily an evil quality. Those possessing the ability to speak it (\" Parselmouths \") occur very rarely. People apparently acquire the skill through learning or via a method of xenoglossia, such as through genetic inheritance (or by use of Dark or dangerous Magic). Harry was a Parselmouth until the age of 18. Harry Potter and the Chamber of Secrets explains this was because of Voldemort's passing on some of his abilities to Harry the night he tried to kill him. Deathly Hallows reveals that a part of Voldemort's soul within Harry grants him this ability, which is later destroyed leaving Harry stripped of the ability. [14]Other known Parselmouths include Salazar Slytherin and his descendants, including the Gaunts and Voldemort. Dumbledore can also understand Parseltongue; however, he learned it and did not naturally possess the ability. [15] In Half-Blood Prince he repeats Morfin Gaunt's words \"the big house over the way\", which were spoken in Parseltongue. Ron uses Parseltongue in the final book to reopen the Chamber of Secrets, but he is only imitating the sound of a phrase Harry used earlier in the book. Rowling borrowed the term from \"an old word for someone who has a problem with the mouth, like a hare lip \". [16]Professor Francis Nolan, Professor of Phonetics at University of Cambridge, designed the version of Parseltongue used in the films as an ergative-absolutive language featuring geminate consonants and VSO word order. It has a high frequency of fricative and pharyngeal consonants to acoustically approximate the physiology of a snake. [ citation needed]Seers [ edit]A Seer is a witch or wizard with the clairvoyant ability to predict future events. The predictions given through this ability can sometimes be self-fulfilling prophecies, and Dumbledore states in Order of the Phoenix that not all of them come true, depending on the choices made by those mentioned. This would seem to indicate that a Seer predicts possible or likely events, at least in some cases. In the Hall of Prophecy at the Department of Mysteries, thousands upon thousands of glass spheres are imbued with records of prophecies made by Seers. Only a person mentioned in a prophecy can safely retrieve it; anyone else who tries to do so will be driven insane. According to Mc Gonagall, true Seers are extremely rare. Sybill Trelawney is the only Seer portrayed in the books, although it is mentioned that Sybill's great-great-grandmother, Cassandra Trelawney, was a renowned Seer in her day. Trelawney is considered an \"old fraud\" by her students, and is sacked by Dolores Umbridge in the fifth book for it. However, she has twice made true prophecies. Sybill Trelawney is noted to never remember that she has made a prophecy when it is a true one. She speaks in a hoarse voice, and only if a wizard is present will anyone know about it. Legilimency and Occlumency [ edit]Legilimency is the magical skill of extracting feelings and memories from another person's mind—a form of magical \" telepathy \" (although Snape, an able practitioner of the art, dismisses the colloquial term \"mind-reading\", as a drastic oversimplification). It also allows one to convey visions or memories to another person, whether real or imaginary. A witch or wizard possessing this skill is called a Legilimens, and can, for example, detect lies and deceit in another person, witness memories in another person's past, or \"plant\" false visions in another's mind. The counter-skill to Legilimency is Occlumency (and its user, known as an Occlumens ), by which one can compartmentalize one's emotions, or prevent a Legilimens from discovering thoughts or memories which contradict one's spoken words or actions. An advanced form of Occlumency is planting false temporary memories inside an Occlumens' own head while blocking all other true memories, so if a Legilimens, even a highly skilled one, were to attempt to read the mind, he or she would find false memories only and believe everything was right. The skills are first elaborated in Order of the Phoenix. Legilimency and Occlumency are not part of the normal curriculum at Hogwarts, and most students would graduate without learning them. Voldemort, Snape, and Dumbledore are all known to be skilled in Legilimency and Occlumency. Voldemort is said to be the master of Legilimency by Snape, as he, in almost all cases, immediately knows if someone lied to him. In addition, in Deathly Hallows, Voldemort repeatedly uses Legilimency to interrogate his victims. Voldemort practices Occlumency throughout the period of Half-Blood Prince to deny Harry access to his thoughts and emotions. However, in Deathly Hallows, Voldemort repeatedly loses grip, resulting in occasional but very powerful burst of thoughts, visions and emotions to be sent to Harry. Throughout the books, Snape is repeatedly said to be highly skilled in Occlumency. [17] This is how Snape was able to lie to Voldemort for years. Even before Order of the Phoenix, Harry repeatedly gets the impression that Snape can read minds. Bellatrix Lestrange and Draco also have skill in Occlumency, since Bellatrix was clearly said to have taught Draco to shield his thoughts from Snape. [HP6]During the Order of Phoenix Snape is instructed by Dumbledore to give Harry lessons in Occlumency. Whether as a result of Snape's poor instruction, or poor aptitude on Harry's part, Harry did not make any progress. (Only once did Harry manage to overcome Snape with the use of Occlumency.) [18] In Deathly Hallows, Harry finally masters Occlumency—shutting his mind to Voldemort—when Dobby dies. He realises that his grief—or as Dumbledore calls it, love—is what can block out the Dark Lord. Queenie Goldstein, in Fantastic Beasts and Where to Find Them, is shown to be a proficient Legilimens, as she was easily able to read the minds of Jacob Kowalski and others in the film, as well as sense and hear them through their thoughts. However, she says she has problems with Brits like Newt Scamander, because of the accent. Apparition and Disapparition [ edit]Apparition is a magical form of teleportation, through which a witch or wizard can disappear (\" Disapparate \") from one location and reappear (\" Apparate \") in another. It is sometimes accompanied by a distinctive cracking or popping sound, though the most skilled wizards can Apparate \"so suddenly and silently\" that they seem to have \"popped out of the ground\" (Dumbledore). The act is also accompanied by a very unpleasant squeezing sensation, as though being sent through a tight rubber tube, according to Harry. [HP6]The Ministry of Magic licenses Apparition. A witch or wizard must be 17 years old or older and have a licence to Apparate as a means of transportation in much the same way real-world governments require individuals to have a licence to drive a motor vehicle. Students at Hogwarts may attend Ministry-administered Apparition lessons during their sixth year, and take their examination once they turn seventeen. It is shown that although it is possible to Apparate without a licence, it is not usually done (unless in lessons) and is illegal. In Deathly Hallows, Harry does not possess a licence, but since his Trace has been lifted, the Ministry is likely unaware that he does it. Learning to Apparate is difficult, and students run the risk of splinching —being physically split between the origin and destination—which requires the assistance of the Ministry's Accidental Magic Reversal Squad to undo properly, although essence of dittany can also mend certain wounds. Splinching is quite common during lessons, and can be uncomfortable (and at times rather gruesome) depending on the body parts splinched, but is ultimately harmless if properly reversed. It is implied that though Ron can Apparate, he isn't terribly skilled at it, seeing as he splinches himself at least three times (once losing half an eyebrow, two fingernails and part of his arm. ); Harry and Hermione both pick up the skill quickly in comparison. As explained in the Half-Blood Prince, there is no word spell to Apparate or Disapparate, but the caster has to concentrate on the location on which he has to apparate, needs to be fully focused on the spell, and also has to \"feel\" it through the whole body. It has been indicated that it is considered rude to Apparate directly into a private area, such as a home. Dumbledore states in Half-Blood Prince that it would be \"quite as rude as kicking down the front door\". For this reason, and for reasons of security, many homes have Anti-Apparition spells protecting them from uninvited intrusions. The accepted way to travel to a home is to Apparate to a nearby location and continue to the final destination on foot. Apparition is considered unreliable over long distances, and even experienced users of the technique sometimes prefer other means of transport, such as broomsticks. Rowling has stated that Apparating over long distances depends on the skill of the wizard, and \"Cross-continental Apparition would almost certainly result in severe injury or death.\" [19] Indeed, even the prodigiously skilled Lord Voldemort elects to fly back to England after visiting the far-flung Nurmengard. For reasons of security, the grounds and buildings of Hogwarts are protected by ancient Anti-Apparition and Anti-Disapparition spells, which prevent humans from Apparating on the school grounds. There is also a spell that prevents individuals from Disapparating, which Dumbledore places on the Death Eaters captured at the Ministry in Order of the Phoenix; a sister spell, which allows one to Apparate into a location but prevents them from Disapparating out of it, is cast by the Death Eaters in Hogsmeade in concordance with the Caterwauling Charm. Dumbledore is the only person who can both Apparate and Disapparate from the school grounds, since he is the headmaster. A witch or wizard can use Side-Along Apparition to take others with them during Apparition. Dumbledore successfully transports Harry this way several times in Half-Blood Prince, and notably, Harry's first non-lesson attempt at the skill is the Side-Along Apparition with the weakened Dumbledore when they return from the seaside cave. In the Order of the Phoenix film, Death Eaters and Order members Apparate and Disapparate in clouds of smoke. Death Eaters appear and disappear in black smoke, Order members in white. In the film, both sides also appear to be able to \"half-apparate\" in which their bodies were made out of smoke, giving them the ability to fly. Interestingly, both times Fred and George apparated and disapparated, they did it with a pop as in the books. In the books, the words \"Apparate\" and \"Disapparate\", like many other neologisms used by Rowling, are capitalised, whereas established English words such as \"jinx\" and \"hex\" are not. The words themselves are most likely derived from the French apparaître and disparaître, meaning 'to appear' and 'to disappear'. Another possible derivation is from the English word \"apparition\", meaning \"a supernatural appearance of a person or thing; anything that appears, especially something remarkable or startling; an act of appearing\", which comes from the Latin \"apparitio\", meaning attendance. \"Disapparate\" probably comes from the same word but with the prefix: \"dis-\" expressing negation or reversal. Other teleportation [ edit]Some magical creatures have their own forms of instantaneous travel, such as a house elf's ability to teleport or a phoenix's ability to appear and disappear in a burst of flame. Unlike wizards, these creatures are not restricted by anti-Apparition magic. Dobby, Kreacher and the rest of the house-elf population can Apparate within the Hogwarts grounds, as is demonstrated on multiple occasions, most notably when Dobby visits Harry in the hospital wing, and when Dobby and Kreacher are summoned by Harry and assigned to tail Draco Malfoy. Fawkes disapparates from the headmaster's office at Hogwarts along with Dumbledore when the latter manages to evade arrest at the hands of Ministry officials in Order of the Phoenix. Some magical devices like the Floo Network, Portkeys and Vanishing Cabinets also provide forms of magical teleportation. Veela charm [ edit]An ability attributed to Veela and those of Veela heritage, such as Fleur Delacour. It is used to charm males, much like the Sirens in The Odyssey. Men who are exposed to it over time become more resistant to it, although the Veela charm takes full effect if the Veela surprises the man, as noted by Ron in Half-Blood Prince. As shown in Goblet of Fire, Veela hair can be used as cores to create magical wands. According to famed wandmaker Mr. Ollivander, these wands are a little \"temperamental\". Magical resistance [ edit]This refers to a certain degree of immunity against hexes and spells found in powerful creatures such as trolls, dragons, and giants. Hagrid is resistant to certain spells, like the Stunning Spell, due to his giant blood. This type of resistance is not insurmountable; if enough Stunning Spells, for example, are fired at a creature with magical resistance at once, the creature may still be rendered unconscious. Also, wizards and witches can resist certain spells with the power of their own sheer will, such as Harry did in Goblet of Fire, when Barty Crouch Jr. disguised as Alastor Moody tried to control Harry with the Imperius curse and Harry resisted. Subjects at Hogwarts [ edit]At Hogwarts, students must study a core group of subjects for the first two years, after which they must choose between several electives. During their final two years, students are permitted to take more specialized subjects such as Alchemy. Transfiguration, Defence Against the Dark Arts, Charms, Potions, Astronomy, History of Magic, and Herbology are compulsory subjects for the first five years, as well as flying lessons. At the end of their second year, students are required to add at least two optional subjects to their syllabus for the start of the third year. The five choices are Arithmancy, Muggle Studies, Divination, Study of Ancient Runes and Care of Magical Creatures. Very specialised subjects such as Alchemy are sometimes offered in the final two years, if there is sufficient demand. There is a total of twelve named Professors at Hogwarts, each specializing in one of these subjects. Transfiguration [ edit]Transfiguration is essentially the art of changing the properties of an object. [20] Transfiguration is a theory-based subject, including topics such as \"Switching Spells\" (altering only a part of some object, such as when Hagrid gave Dudley a pig tail); Vanishing Spells (causing an object to completely disappear); [Oot P Ch.13] and Conjuring Spells (creating objects out of thin air). [Oot P Ch.13] It is possible to change inanimate objects into animate ones and vice versa—Minerva Mc Gonagall, the class's teacher, transfigures her desk into a pig and back in Philosopher's Stone. [PS Ch.8]Defence Against the Dark Arts [ edit]Defence Against the Dark Arts, commonly shortened to D. A. D. A., [21] is the class that teaches students defensive techniques to defend against the Dark Arts, and to be protected from Dark creatures. In Harry Potter and the Deathly Hallows, with Death-Eaters in charge of the school, the subject is renamed the Dark Arts, and involves pupils practicing the Cruciatus Curse on those who have earned detentions. [DH Ch.29] The subject has an extraordinarily high turnover of staff members—throughout the series no Defence Against the Dark Arts teacher has retained the post for more than one school year. Harry is exceptionally skilled in this subject. During the period the story takes place, the class is taught by Quirinus Quirrell ( book one ), Gilderoy Lockhart ( book two ), Remus Lupin ( book three ), Bartemius Crouch Jr impersonating Alastor \"Mad-eye\" Moody ( book four ), Dolores Umbridge ( book five ), Severus Snape ( book six ), and Amycus Carrow ( book seven ). Hagrid suggests in Harry Potter and the Chamber of Secrets that \"They're startin' ter think the job's jinxed. No one's lasted long for a while now.\" In Half-Blood Prince, Dumbledore suggests that Voldemort cursed the position because his application for it was rejected. [HBP Ch.20] The existence of the jinx was eventually confirmed by Rowling. The position had also been coveted by Snape, but he was denied the position as well. Snape was finally appointed D. A. D. A. professor in Half-Blood Prince. Rowling announced in an interview that once Voldemort had died, the jinx he placed on the office was lifted and a permanent professor had been teaching the subject between the end of Deathly Hallows and the epilogue, set nineteen years afterwards. Furthermore, she imagines that Harry Potter occasionally comes to the class to give lectures on the subject. [22]Charms [ edit]Charms is the class that teaches how to develop incantations for the uses of bewitchment. Rowling has described Charms as a type of magic spell concerned with giving an object new and unexpected properties. [20] Charms classes are described as notoriously noisy and chaotic, as the lessons are largely practical. [Oot P Ch.18] Many of the exposition sequences in the books are set in Charms classes, which are on the second floor of Hogwarts. The class is taught by Filius Flitwick. Potions [ edit]Further information: Potions in Harry Potter Potions is described as the art of creating mixtures with magical effects. It requires the correct mixing and stirring of ingredients at the right times and temperatures. As to the question of whether a muggle could brew a potion, given the correct magical ingredients, Rowling has said, \"Potions seems, on the face of it, to be the most muggle-friendly subject. But there does come a point in which you need to do more than stir.\" [23] Rowling later confirmed on Pottermore that \"There is always some element of wandwork necessary to make a potion.\" [24] Snape's lessons are depicted as unhappy, oppressing times set in a gloomy dungeon in the basement of the castle, whilst Slughorn's, who replaces Snape as Potions Master, are shown as more cheerful and even fun at times. Astronomy [ edit]Astronomy classes take place in the Astronomy Tower, the tallest tower in Hogwarts, and are taught by Professor Aurora Sinistra. Lessons involve observations of the night skies with telescopes. No astronomy lessons are shown in the books, but they are frequently referenced. Rowling describes one of Harry's Astronomy exams in Harry Potter and the Order of the Phoenix. Also, bits of the Astronomy Tower are seen throughout the film series, such as HP2 and HP3, and featured in Half-Blood Prince, as the place where Dumbledore died, and seen in Deathly Hallows. Known student homework activities include learning the names of stars, constellations and planets, and their location, movements, and environments. History of Magic [ edit]History of Magic is the study of magical history. Cuthbert Binns ' lessons are depicted as some of the most boring at Hogwarts. They are only lectures, given without pause, about significant events in wizarding history. Topics have included goblin rebellions, giant wars, and the origins of wizarding secrecy. This is the only class at Hogwarts that is taught by a ghost, as the professor never noticed he had died and simply continued teaching as if nothing had changed. Herbology [ edit]Herbology is the study of magical plants and how to take care of, utilise and combat them. There are at least three greenhouses described in the books, holding a variety of magical plants. Herbology is also the only subject Neville excels in. The epilogue to Deathly Hallows explains that he later replaces Professor Sprout as the Herbology teacher. Arithmancy [ edit]Arithmancy is a branch of magic concerned with the magical properties of numbers. As neither Harry nor Ron take this class; almost nothing is known about it. It is, however, a favourite subject of Hermione. Arithmancy is reportedly difficult, as it requires memorising or working with many charts. In Order of the Phoenix, it is mentioned that the study of Arithmancy is required to become a Curse-Breaker for Gringotts. The subject is taught by Professor Septima Vector. Study of Ancient Runes [ edit]Study of Ancient Runes, more commonly known as Ancient Runes, is a generally theoretical subject that studies the ancient runic scripts. Because only Hermione studies it, little else is known about this subject, taught by Professor Bathsheba Babbling. [25] In Deathly Hallows Dumbledore bequeaths his copy of The Tales of Beedle the Bard, which is written in ancient runes, to Hermione. Divination [ edit]Divination is the art of predicting the future. Various methods are described, including tea leaves, fire omens, crystal balls, palmistry, cartomancy (including the reading of conventional playing cards and the tarot ), astrology, and dream interpretations. Divination is described by Professor Mc Gonagall as \"one of the most imprecise branches of magic\". [PA Ch.6] Supporters of the subject claim that it is an inexact science that requires innate gifts such as the \"Inner Eye\". Those opposed claim that the subject is irrelevant and fraudulent. Harry is first taught Divination by Professor Trelawney, and then later by Firenze after Trelawney is sacked by Dolores Umbridge in Harry's fifth year. In the sixth (and presumably seventh) year, Firenze and Professor Trelawney share Divination classes, divided by year. Care of Magical Creatures [ edit]Care of Magical Creatures is the class which instructs students on how to care for magical beasts. Classes are held outside the castle. In Harry's first two years, the class is taken by Professor Silvanus Kettleburn who then retires \"in order to enjoy more time with his remaining limbs\". Dumbledore then recruits the gamekeeper Rubeus Hagrid to accept a teaching position along with his gamekeeping duties. Although Hagrid is obviously very experienced and knowledgeable, he doesn't \"have a normal person's view of what's dangerous\", an example being that the Care of Magical Creatures students were required to get a literally ferocious textbook called the \"Monster Book of Monsters\", and so consistently misjudges the risk that the animals he uses in his lessons pose to his students [PA Ch.6] [GF Ch.13], which sometimes results in chaos. When Hagrid is absent, his lessons are taken over by Wilhelmina Grubbly-Plank, a witch and an acquaintance of Dumbledore's. Muggle Studies [ edit]Muggle Studies is a class which involves the study of the muggle (non-magical) culture \"from a wizarding point of view.\" The only need for witches and wizards to learn about muggle ways and means is to ensure they can blend in with muggles while needing to do so (for example, at the 1994 Quidditch World Cup). As the class is only mentioned as being taken by Hermione, and for just one year, little is known about its curriculum. In the opening chapter of the final book, Voldemort murders Professor Charity Burbage because she portrays muggles in a positive light and is opposed to limiting wizardry to only people of pure-blood origins. For the rest of the academic year covered by Deathly Hallows, the Death Eater Alecto Carrow teaches Muggle Studies. However, her lessons (which are made compulsory) mainly describe muggles and muggle-borns as subhuman and worthy of persecution. Alchemy [ edit]Alchemy classes are not mentioned in the Harry Potter series; however, Rowling has used Alchemy as an example of a 'specialized' subject offered when there is sufficient demand. Alchemy is a philosophical tradition searching for the philosopher's stone, which is said to have the power to turn base metals into gold and to contain the elixir of life, which makes or keeps the drinker young and immortal. As mentioned in Harry Potter and the Philosopher's Stone, Nicholas Flamel created a Philosopher's Stone, but it was destroyed at the end of Harry's first year. Flying [ edit]Flying is the class that teaches the use of broomsticks made for the use of flying and is taught only to Hogwarts first years by Rolanda Hooch. The subject is the only one that requires physicality. The only flying lesson depicted in the Harry Potter series is in Harry Potter and the Philosopher's Stone. Apparition [ edit]Apparition is an optional class for those in the sixth and seventh years at Hogwarts, in preparation for obtaining their licence. In Harry's sixth year, Wilkie Twycross, a Ministry of Magic Apparition instructor, teaches the lessons. Magical enchantments on Hogwarts castle and grounds prevent Apparition and Disapparition inside the castle; however Half-Blood Prince explains that these protections are temporarily relaxed within the Great Hall for short periods to permit students to practice. Students are warned, though, that they will not be able to Apparate outside of the Great Hall and that it would be unwise to try. Spell-like effects [ edit]Unbreakable Vow [ edit]The Unbreakable Vow is a voluntary agreement made between two witches or wizards. It must be performed with a witness (\"Bonder\") on hand, holding their wand on the agreeing persons' linked hands to bind them with magic as a tongue of flame. The Vow is not literally \"unbreakable\" as the person taking it is still able to go back on his or her word, but doing so will cause instant death. The Unbreakable Vow was first introduced in Half-Blood Prince, in which Snape made a promise to Narcissa Malfoy to protect Draco, with Bellatrix as the \"Bonder\", as her son attempted to fulfil the Dark Lord's task, and for Snape to fulfil the task if something should prevent Draco from doing it. Another example in Half-Blood Prince occurs when Ron tells Harry how Fred and George tried to make him undertake an Unbreakable Vow, but because of their father's intervention, they did not succeed. Priori Incantatem [ edit]Priori Incantatem, or the Reverse Spell Effect, is used to detect the spells cast by a wand. The spells cast by the wand will emerge in smoky or ghost-like replicas in reverse order, with the latest spell emerging first. It is first encountered in Goblet of Fire when the house elf Winky is found holding Harry's wand. This spell is used to reveal that it was indeed Harry's wand that cast the Dark Mark. In Harry Potter and the Half Blood Prince, it is revealed that the teenage Voldemort murdered his father and grandparents using his uncle Morfin's wand, knowing that, when examined, the wand would incriminate Morfin as the murderer. In Deathly Hallows, Harry fears that a Priori Incantatem spell will be used on Hermione's wand after the Death Eaters get hold of it. This would reveal that she had accidentally broken his holly-and-phoenix-feather wand when a curse misfired and they both narrowly escaped Voldemort earlier. As a result, the protection of the shared cores was lost and, worse still, this would now be made known to Voldemort. During the final duel between Harry and Voldemort, the latter mentions that he knows that the holly and phoenix wand is destroyed, implying that the Priori Incantatem has indeed been performed on Hermione's wand, as they had feared. Forcing two wands that share the source of their cores to do battle can also cause a more potent form of Priori Incantatem. The tips of the two wands will connect, forming a thick golden \"thread\" of energy, and the two wands' masters fight a battle of wills. The loser's wand will regurgitate shadows of spells that it has cast in reverse order. This phenomenon occurs during the duel between Harry and Voldemort at the end of Goblet of Fire. Their simultaneous spells (Harry and Voldemort cast \"Expelliarmus\" and \"Avada Kedavra\" respectively) trigger the threads, and as Voldemort loses the battle of wills, his wand regurgitates, in reverse order, echoes of the people his wand had last murdered: Cedric Diggory; Frank Bryce; Bertha Jorkins; as well as Harry's parents. Harry was previously informed by Mr. Ollivander that the holly wand that \"chose\" Harry was the \"brother\" of the yew wand that gave him the lightning-shaped scar on his forehead, although the significance of this was not discussed then. Dumbledore later reveals to Harry that his and Voldemort's wands both contain a tail feather given by Dumbledore's pet phoenix, Fawkes. Dark Arts [ edit]The Dark Arts are magical spells and practices that are usually used for malicious purposes. Practitioners of Dark Arts are referred to as Dark witches or wizards. The most prominent of these is Voldemort, known to them as the Dark Lord. His followers, known as Death Eaters, practice the Dark Arts while doing his bidding. The type of spells characteristic of Dark Arts are known as curses, [26] which usually cause harm to the target. All, to a certain degree, are in some circumstances justifiable. The motivation of the caster affects a curse's result. This is most notable in the case of Cruciatus: when cast by Harry, angered by the death of his godfather at Bellatrix's hands and desiring to punish her, it causes a short moment of pain. As Bellatrix herself comments, righteous anger does not allow the spell to work for long. When cast by figures such as Voldemort, who desire to inflict pain for its own sake, it causes intense agony that can last as long as the Dark witch or wizard desires. Use of Dark Magic can corrupt the soul and body; Voldemort has used such magic in his quest to prolong his life and obtain great power. The Dark Arts also cause Voldemort to look deformed and inhuman, a side effect of splitting his soul into Horcruxes. According to Snape, the Dark Arts \"are many, varied, ever-changing and eternal... unfixed, mutating, indestructible\". [27] In magical dueling, there are any number of spells that may be used to attack, immobilise, or disarm an opponent without causing pain or lasting harm; however, spells such as the Cruciatus Curse or Sectumsempra, judged to be Dark by reliable authorities, wound or seriously distress a victim in some way. Dark spells can be classified into three groups: jinxes, hexes & curses. In the wizarding world, use of the Dark Arts is strongly stigmatised and even illegal; however, these spells are prevalent enough that even before the rise of Voldemort, many schools, (including Hogwarts), taught Defence Against the Dark Arts as a standard subject. Techniques include anti-curses and simple spells to disable or disarm attackers or fight off certain creatures. Some schools, such as Durmstrang, teach Dark Magic. A Dark Arts class is also taught at Hogwarts while it is under Death Eater control. Unforgivable Curses [ edit]The Unforgivable Curses are some of the most powerful known Dark Arts spells. They were first classified as unforgivable in 1717. Used by the books' villains, such as Voldemort and the Death Eaters and in some cases the Ministry of Magic, their use inspires horror and great fear amongst others. The curses are so named because their use is forbidden and unforgivable in the wizarding world and is punishable by a life sentence in Azkaban. The only exception is if a person is proved to have done them under the influence of mind control. These curses are thus very rarely used openly. The Unforgivable Curses include: Avada Kedavra, the Killing Curse. The curse is used for murder. This is one of the most powerful curses. Normally, it cannot be stopped or deflected, but it can be dodged or obstructed with a physical object. The spell causes immediate, painless death, and cannot be reversed. Casting it requires immense magical power, so much so that the combined power of an entire class of 4th year students is not sufficient for it. The curse, when summoned, is shown as a bright green light (a bolt or beam of green light in the films). Harry Potter is the only person known to have survived (twice), nullified (once) and deflected (once) this curse. Crucio, the Cruciatus Curse. The curse is used for torturing a person by causing them physical pain and agony. The strength of the curse is determined by the person who casts it. The curse is so powerful that it can even torture a person to the point that they are exhausted to death, or in a more sadistic case, it causes permanent amnesia and insanity (the case of Neville's parents, who were tortured by Bellatrix Lestrange). Effective casting requires the caster to have sadistic desires. Harry finds out in Order of the Phoenix while attempting to use the Cruciatus Curse on Bellatrix that the caster must truly want their victim to suffer for the spell to work, and that his righteous anger is not enough. The curse, when summoned, is shown in a bright-faded blue light (though it is usually invisible or even a red bolt of light in the films). When Hogwarts was under Death Eater control, the Dark Arts teacher forced the students in his class to use the Cruciatus Curse on students who had been assigned detention. Imperio, the Imperius Curse. The curse is used for mind control or hypnosis and can force the victim to do things he/she would be unwilling to do or even incapable of under normal circumstances. The strength (and also the duration) of the curse is determined by the determination of the person who cast it, as well as by the level of resistance offered by the victim. The curse, when summoned, is shown in a bright haze (while it was either invisible or green, mist-like haze in the films). Harry Potter resisted an Imperius Curse cast by Voldemort. The use of the Unforgivable Curses was authorised against Voldemort and his followers by Bartemius Crouch Sr, during the First Wizarding War. (Shortly after his resurrection, Voldemort names two Death Eaters \"killed by Aurors \".) In addition, in Deathly Hallows, the Unforgivable Curses are used liberally by good characters, ranging from Professor Mc Gonagall with the Imperius Curse, to Harry effectively using the Cruciatus Curse. He also uses the Imperius Curse on a goblin and a suspicious Death Eater during their disguised attack upon Gringotts Bank. Dark Mark [ edit]The Dark Mark is the symbol of Voldemort and the Death Eaters and takes the form of a skull with a snake coming out of the mouth in place of a tongue. The mark is cast into the sky by Death Eaters whenever they have murdered someone. The spell used by Death Eaters to conjure the Mark is Morsmordre. It first appears in Goblet of Fire and is described as a \"colossal skull, composed of what looked like emerald stars, with a serpent protruding from its mouth like a tongue\". Once in the sky it was \"blazing in a haze of greenish smoke\". Dark Marks are also branded on the left forearm of the closest followers of Voldemort. The mark serves as a connection between Voldemort and each who bears it; he can summon them by touching his mark, causing it and those of his followers to burn and change colour. Death Eaters can summon Voldemort in the same fashion. Following Voldemort's ultimate defeat, the Dark Marks on his Death Eaters fade into a scar \"similar\" to Harry's. [14] In the books, the Dark Mark is described as green; however, in the films, it was only green at the Quidditch World Cup. In all other film appearances it has been grey. Inferius [ edit]Distinguish from Infernus. An Inferius (plural: Inferi) is a corpse controlled through a Dark wizard's spells. An Inferius is not alive, but a dead body that has been bewitched into acting like a puppet for the witch or wizard; this manifests itself as a white mist in the controlled corpse's eyes. They cannot think for themselves: they are created to perform a specific duty assigned by the Dark wizard who commands them, and as seen in the Inferi guarding Voldemort's Horcrux in a seaside cave, remain idle until their task can be performed. This task is then thoughtlessly carried out, whether or not it will produce any result. Inferi are difficult to harm by magic; however, they can be repelled by fire or any other forms of heat or light, as the Inferi in Voldemort's cave had never been exposed to either of these elements. When defeated, they return to their idle state. Inferi are considered dangerous and frightening enough by the magical world that impersonating an Inferius (as Mundungus Fletcher does in Half-Blood Prince) is an offence worthy of imprisonment in Azkaban. The Ministry of Magic fears that Voldemort is killing enough people to make an army of Inferi: as they are dead, they are very difficult to stop. When Voldemort was hiding one of his Horcruxes in the past, he filled a lake in a cave with many Inferi, which were to attack and drown anyone but Voldemort who came into the cavern and took the locket. When Harry and Dumbledore took the locket, the Inferi attacked Harry; Dumbledore repelled them with a rope of fire. It is also revealed that the Inferi almost killed Kreacher after he drank from the basin to help Voldemort hide his Horcruxes, but having been ordered to return to his master after his task with Voldemort was complete, he was able to apparate out of the cave. These Inferi later killed Regulus Black when he stole the Horcrux and ordered Kreacher to destroy it. In Latin, the word inferus (plural: inferi) means \"below\", often referring in the plural to \"the gods below\" (see di inferi) or the spirits of the dead. [28] Inferius is a neuter singular form of inferior, a comparative adjective meaning \"lower\". [28] [29]Horcrux [ edit]See also: Magical objects in Harry Potter § Horcruxes A horcrux is an object created using dark magic to attain effective immortality. The concept is first introduced in the sixth novel, Harry Potter and the Half-Blood Prince, although horcruxes are present in earlier novels without being described or expanded upon. To create a horcrux, a witch or wizard must first prepare the chosen object [30] in a ritual which is referred to as only “too horrible to go into detail about”. Following the preparation of the object, the witch or wizard must then take a life, an act which splits the soul. Following that, further dark rituals are required in order to remove the soul shard from the maker and place it into the prepared object. Once this is done, the Horcrux becomes impervious to almost all forms of destruction, requiring extremely powerful magic or substances to do so. Ordinarily, when one's body is killed, the soul departs for the next world. If, however, the body of a horcrux owner is killed, that portion of his soul which had remained in his body will not pass on to the next world, but will rather exist in a non-corporeal form capable of being resurrected by another wizard. If all of someone's horcruxes are destroyed, then his soul's only anchor in the material world would be his body, the destruction of which would then cause his final death. Portraits [ edit]In the Harry Potter series the subjects of magical portraits (even those of characters that are dead) can move, interact with living observers, speak and demonstrate apparent emotion and personality. Some can even move to other portraits to visit each other, or relay messages, or (if more than one painting of the subject exists) move between separate locations by way of their portraits. An example of this is Phineas Nigellus Black, who has a painting in the Headmaster's office and at Number 12 Grimmauld Place. Many such portraits are found on the walls of Hogwarts. Some portraits are used to conceal the entrance of a room or passageway. For example, the Fat Lady's portrait covers the entrance to the Gryffindor common room, and she can swing the portrait open when given the correct password or close to prevent entry. In Harry Potter and the Deathly Hallows, there is a portrait of Ariana Dumbledore in the Room of Requirement that conceals a secret passageway to the Hog's Head. There is also a painting of a large fruit bowl in front of the Hogwarts kitchen, which will swing open if the pear is tickled to reveal a hidden door. Portraits are enchanted to move by the artist, but the degree to which they can interact with others depends on the power of the subject. [31] Rowling has commented that a portrait is merely a faint imprint of the deceased subject, imitating their basic personality and thought patterns. They are therefore \"not as fully realised as ghosts\". [32] In Harry Potter and the Cursed Child the portrait of Albus Dumbledore describes himself as only \"paint and memory\" and Professor Mc Gonagall (his successor as headteacher of Hogwarts) comments that, although she speaks to Dumbledore to help her in making decisions, she is careful to remember that \"portraits don't represent even half of their subjects\". Portraits in the Headmaster's office [ edit]The portraits in the Headmaster's office depict all the former Heads of Hogwarts, with the exception of Dolores Umbridge. They advise the Headmaster and are \"honour-bound to give service to the present headmaster\" (according to Armando Dippet). Rowling has explained that portraits of past headteachers tend to be more realistic than most, as the subject in question usually imparts knowledge and teaches them how to behave before their death. [31]The Fat Lady [ edit]The portrait of the Fat Lady covers the door to Gryffindor Tower. She will open it (sometimes grudgingly) when the correct password is uttered. She is often upset after being awoken, and is sometimes seen drunk with her best friend, Violet. The Fat Lady has no other known name -- even the unfailingly polite Albus Dumbledore refers to her only as \"the Fat Lady\" -- and it may be that she does not represent a real person but is instead an invention of her portrait's artist. In Philosopher's Stone, she leaves her portrait in the middle of the night, locking Harry, Ron, Hermione, and Neville out of Gryffindor Tower, forcing them to run across the school. Luckily for them, when they return, she has returned to her portrait, allowing them to escape into Gryffindor Tower. In Prisoner of Azkaban, Sirius Black slashes the Fat Lady's portrait when she won't let him in without a password and it is some time before she dares to guard Gryffindor Tower again. After her portrait is restored, she requests protection in case someone tries to attack her portrait again. Thus, two security trolls are hired. In Half Blood Prince, she gets so annoyed with Harry's late return that she pretends the password has changed and tries to call him back when he heads off to talk to Dumbledore. When Harry later confirms Dumbledore's death, she lets out a sob and, for the only time in the series, she opens without the password for Harry in her grief. In the first film the Fat Lady is played by Elizabeth Spriggs, and by Dawn French in the third film. Photographs [ edit]Wizarding photographs of people have similar properties to magical painted portraits: the figures within move about or even sometimes leave the frame. They appear in wizard newspapers and other print media, as well as on Chocolate Frog cards. [HP1] Colin Creevey mentions in Chamber of Secrets that a boy in his dormitory said that if he develops the film from his Muggle camera 'in the right potion', the pictures will move. [33] However, unlike portraits, figures in wizarding pictures cannot speak and display little sentience. It appears that they do have some knowledge of current events, as in Order of the Phoenix, the family photograph on Arthur's desk shows everyone except Percy \"who appeared to have walked out of it\", [34] mirroring the deterioration of Percy's relationship with his family. It is also mentioned that in a photo taken by Colin Creevey of Gilderoy Lockhart and Harry, Harry's picture had walked out and was resisting all of Lockhart's efforts to pull him back in. References [ edit]^ \"FAQ jkrowling.com\". Archived from the original on 21 July 2011. Retrieved 8 May 2017.^ Harry Potter: A History of Magic. 28 October 2017. BBC.^ Flood, Alison (8 August 2016). \"Harry Potter's 20th birthday to be marked with British Library show\". The Guardian. Retrieved 30 November 2017.^ \"J. K Rowling Official Site\". Archived from the original on 26 September 2011. Retrieved 27 February 2008.^ [HP6], chapter 13^ \"2001: Accio Quote!, the largest archive of J. K Rowling interviews on the web\". Archived from the original on 27 August 2008. Retrieved 27 February 2008.^ \"History of Magic in North America\". Pottermore. Retrieved 5 May 2017.^ a b \"JKR quotes about \"the rules\" of Harry Potter's Wizarding World:\". Retrieved 27 February 2008.^ Harry Potter and Me. Accio Quote. 28 December 2001. BBC.^ Anelli, Melissa. \"More About that Veil\". Harry, A History. Archived from the original on 20 November 2008. Retrieved 8 May 2017.^ Rowling, J. K. Pottermore Presents: Short Stories from Hogwarts of Heroism, Hardship and Dangerous Hobbies. Pottermore. ISBN 978-1-78110-628-0.^ \"J. K. Rowling's Official Site, rumour section\". Archived from the original on 2011.^ Rowling, J. K.: \"Harry Potter and the Order of the Phoenix\", page 85. Scholastic, 2003^ a b \"J. K. Rowling Web Chat Transcript\". Archived from the original on 8 July 2012.^ \"Transcript of JK Rowling web chat—Harry Potter Beyond\". Archived from the original on 21 February 2008. Retrieved 27 February 2008.^ \"J. K Rowling at the Royal Albert Hall 26 June 2003\". Retrieved 27 February 2008.^ Prince, Alan (2011). The True Story of Severus Snape: An Essay About Harry Potter's Most Disputed Character, p. 52.^ [HP5], chapter 26^ Rowling, J. K. \"Welcome to my new website!\". jkrowling.com. Retrieved 5 May 2017.^ a b 1998: Accio Quote!, the Largest Archive of J. K. Rowling quotes on the web, quick-quote.quill.org^ Rowling, J. K. (2005). \"Silver and Opals\". Harry Potter and the Half-Blood Prince. Bloomsbury. ISBN 0747581088.^ Brown, Jen (24 July 2007). \"Stop your sobbing! More Potter to come\". TODAYshow.com. NBC. Retrieved 24 July 2007.^ 2006: Accio Quote!, the largest archive of J. K. Rowling interviews on the web, quick-quote.quill.org^ \"Potions\". Pottermore. Retrieved 5 May 2017.^ Steve Vander Ark. \"HP-lexicon.org\". HP-lexicon.org. Retrieved 16 July 2011.^ J. K. Rowling's Official Site Archived 24 January 2008 at the Wayback Machine.^ [HP6], chapter 9^ a b Lewis, Charlton T.; Short, Charles (1879). \"q.v., inferus, as positive noun I. B, as comparative adjective II. A\". A Latin Dictionary. Oxford: Clarendon Press.^ Morphology of inferius by The Perseus Project^ \" \" Potter Cast Interviews J. K. Rowling, part one.\" (2007), Accio Quote!\". www.accio-quote.org. Retrieved 2017-12-31.^ a b Rowling, J. K. \"Hogwarts Portraits\". Pottermore. Retrieved 9 May 2017.^ \"JK Rowling at the Edinburgh Book Festival\". J. K. Rowling Official Web Site. 15 August 2004. Archived from the original on 21 July 2011.^ [HP2], chapter 6^ [HP5], chapter 7Further reading [ edit]Highfield, Roger (2002). The Science of Harry Potter: How magic really works. New York: Viking. ISBN 978-0-670-03153-5. Teare, Elizabeth (2002). \"Harry Potter and the technology of magic\". In Whited, Lana A. The Ivory Tower and Harry Potter: Perspectives on a literary phenomenon. Columbia, Missouri: University of Missouri Press. pp. 29–342. ISBN 978-0-8262-1549-9. Black, Sharon (2003). \"The Magic of Harry Potter: Symbols and Heroes of Fantasy\". Children's Literature in Education. 34 (3): 237–247. doi: 10.1023/A:1025314919836. External links [ edit]Magic on Harry Potter Wiki, an external wiki [ hide]v t e The Harry Potter series by J. K. Rowling Novels The Philosopher's Stone (1997) The Chamber of Secrets (1998) The Prisoner of Azkaban (1999)The Goblet of Fire (2000) The Order of the Phoenix (2003) The Half-Blood Prince (2005) The Deathly Hallows (2007)Film series Films The Philosopher's Stone (2001) The Chamber of Secrets (2002) The Prisoner of Azkaban (2004)The Goblet of Fire (2005) The Order of the Phoenix (2007) The Half-Blood Prince (2009)The Deathly Hallows – Part 1 (2010) The Deathly Hallows – Part 2 (2011)Music The Philosopher's Stone The Chamber of Secrets The Prisoner of Azkaban The Goblet of Fire The Order of the Phoenix The Half-Blood Prince The Deathly Hallows – Part 1The Deathly Hallows – Part 2Related Cast members Production of The Deathly Hallows Characters Main Harry Potter Ron Weasley Hermione Granger Lord Voldemort Albus Dumbledore Severus Snape Rubeus Hagrid Draco Malfoy Supporting Ginny Weasley Fred and George Weasley Hogwarts staff Order of the Phoenix Dumbledore's Army Death Eaters Fictional universe Hogwarts Magic Magical creatures Magical objects Ministry of Magic Muggle Places Potions Quidditch Related works Fantastic Beasts and Where to Find Them Quidditch Through the Ages The Tales of Beedle the Bard Prequel Pottermore The Cursed Child Hogwarts: An Incomplete and Unreliable Guide Short Stories from Hogwarts of Power, Politics and Pesky Poltergeists Short Stories from Hogwarts of Heroism, Hardship and Dangerous Hobbies Games and toys Quidditch World Cup Lego Creator: Harry Potter Lego Harry Potter: Years 1–4 Lego Harry Potter: Years 5–7The Philosopher's Stone The Chamber of Secrets The Prisoner of Azkaban The Goblet of Fire The Order of the Phoenix The Half-Blood Prince The Deathly Hallows – Part 1 The Deathly Hallows – Part 2Book of Spells Book of Potions Trading Card Game Lego Harry Potter Hogwarts Mystery Wizards Unite Attractions The Wizarding World of Harry Potter Orlando Japan Hollywood Dragon Challenge Flight of the Hippogriff Harry Potter and the Escape from Gringotts Harry Potter and the Forbidden Journey Hogwarts Express Harry Potter Movie Magic Experience Warner Bros. Studio Tour London Fandom Harry Potter Alliance The Leaky Cauldron Muggle Net Leaky Con Wizard rock Wrockstock Severus Snape and the Marauders Voldemort: Origins of the Heir My Immortal Related Influences and analogues Legal disputes Parodies Politics Religious debates Translation A Very Potter Musical The Harry Potter Lexicon The Magical Worlds of Harry Potter Potter Puppet Pals Portkey Games Book Category Portal Categories: Fictional superhuman features or abilities Harry Potter universe Magic in fiction \n"
          ],
          "name": "stdout"
        }
      ]
    },
    {
      "cell_type": "code",
      "metadata": {
        "id": "bKFQBBJ2E2yZ"
      },
      "source": [
        "# Dictionary of english Contractions\n",
        "contractions_dict = { \"ain't\": \"are not\",\"'s\":\" is\",\"aren't\": \"are not\",\"can't\": \"can not\",\"can't've\": \"cannot have\",\n",
        "\"'cause\": \"because\",\"could've\": \"could have\",\"couldn't\": \"could not\",\"couldn't've\": \"could not have\",\n",
        "\"didn't\": \"did not\",\"doesn't\": \"does not\",\"don't\": \"do not\",\"hadn't\": \"had not\",\"hadn't've\": \"had not have\",\n",
        "\"hasn't\": \"has not\",\"haven't\": \"have not\",\"he'd\": \"he would\",\"he'd've\": \"he would have\",\"he'll\": \"he will\",\n",
        "\"he'll've\": \"he will have\",\"how'd\": \"how did\",\"how'd'y\": \"how do you\",\"how'll\": \"how will\",\"i'd\": \"i would\",\n",
        "\"i'd've\": \"i would have\",\"i'll\": \"i will\",\"i'll've\": \"i will have\",\"i'm\": \"i am\",\"i've\": \"i have\",\n",
        "\"isn't\": \"is not\",\"it'd\": \"it would\",\"it'd've\": \"it would have\",\"it'll\": \"it will\",\"it'll've\": \"it will have\",\n",
        "\"let's\": \"let us\",\"ma'am\": \"madam\",\"mayn't\": \"may not\",\"might've\": \"might have\",\"mightn't\": \"might not\",\n",
        "\"mightn't've\": \"might not have\",\"must've\": \"must have\",\"mustn't\": \"must not\",\"mustn't've\": \"must not have\",\n",
        "\"needn't\": \"need not\",\"needn't've\": \"need not have\",\"o'clock\": \"of the clock\",\"oughtn't\": \"ought not\",\n",
        "\"oughtn't've\": \"ought not have\",\"shan't\": \"shall not\",\"sha'n't\": \"shall not\",\n",
        "\"shan't've\": \"shall not have\",\"she'd\": \"she would\",\"she'd've\": \"she would have\",\"she'll\": \"she will\",\n",
        "\"she'll've\": \"she will have\",\"should've\": \"should have\",\"shouldn't\": \"should not\",\n",
        "\"shouldn't've\": \"should not have\",\"so've\": \"so have\",\"that'd\": \"that would\",\"that'd've\": \"that would have\",\n",
        "\"there'd\": \"there would\",\"there'd've\": \"there would have\",\n",
        "\"they'd\": \"they would\",\"they'd've\": \"they would have\",\"they'll\": \"they will\",\"they'll've\": \"they will have\",\n",
        "\"they're\": \"they are\",\"they've\": \"they have\",\"to've\": \"to have\",\"wasn't\": \"was not\",\"we'd\": \"we would\",\n",
        "\"we'd've\": \"we would have\",\"we'll\": \"we will\",\"we'll've\": \"we will have\",\"we're\": \"we are\",\"we've\": \"we have\",\n",
        "\"weren't\": \"were not\",\"what'll\": \"what will\",\"what'll've\": \"what will have\",\"what're\": \"what are\",\n",
        "\"what've\": \"what have\",\"when've\": \"when have\",\"where'd\": \"where did\",\n",
        "\"where've\": \"where have\",\"who'll\": \"who will\",\"who'll've\": \"who will have\",\"who've\": \"who have\",\n",
        "\"why've\": \"why have\",\"will've\": \"will have\",\"won't\": \"will not\",\"won't've\": \"will not have\",\n",
        "\"would've\": \"would have\",\"wouldn't\": \"would not\",\"wouldn't've\": \"would not have\",\"y'all\": \"you all\",\n",
        "\"y'all'd\": \"you all would\",\"y'all'd've\": \"you all would have\",\"y'all're\": \"you all are\",\"y'all've\": \"you all have\",\n",
        "\"you'd\": \"you would\",\"you'd've\": \"you would have\",\"you'll\": \"you will\",\"you'll've\": \"you will have\",\n",
        "\"you're\": \"you are\",\"you've\": \"you have\"}\n",
        "\n",
        "# Regular expression for finding contractions\n",
        "contractions_re=re.compile('(%s)' % '|'.join(contractions_dict.keys()))\n",
        "\n",
        "# Function for expanding contractions\n",
        "def expand_contractions(text,contractions_dict=contractions_dict):\n",
        "    def replace(match):\n",
        "        return contractions_dict[match.group(0)]\n",
        "    return contractions_re.sub(replace, text)\n",
        "\n",
        "# Expanding Contractions\n",
        "training_corpus['cleaned']=training_corpus['cleaned'].apply(lambda x:expand_contractions(x), meta=('Object'))\n",
        "testing_corpus['cleaned']=testing_corpus['cleaned'].apply(lambda x:expand_contractions(x), meta=('Object'))"
      ],
      "execution_count": null,
      "outputs": []
    },
    {
      "cell_type": "code",
      "metadata": {
        "id": "EoKKd2L7MGPG"
      },
      "source": [
        "# Function for Cleaning Text\n",
        "def clean_text(text):\n",
        "    text=re.sub('\\w*\\d\\w*','', text)\n",
        "    text=re.sub('\\n',' ',text)\n",
        "    text=re.sub(r\"http\\S+\", \"\", text)\n",
        "    text=re.sub('[^a-z]',' ',text)\n",
        "    return text\n",
        " \n",
        "# Cleaning corpus using RegEx\n",
        "training_corpus['cleaned']=training_corpus['cleaned'].apply(lambda x: clean_text(x), meta=('Object'))\n",
        "testing_corpus['cleaned']=testing_corpus['cleaned'].apply(lambda x: clean_text(x), meta=('Object'))"
      ],
      "execution_count": null,
      "outputs": []
    },
    {
      "cell_type": "code",
      "metadata": {
        "id": "PmTcRYpHNmkZ"
      },
      "source": [
        "# Removing extra spaces\n",
        "training_corpus['cleaned']=training_corpus['cleaned'].apply(lambda x: re.sub(' +',' ',x), meta=('Object'))\n",
        "testing_corpus['cleaned']=testing_corpus['cleaned'].apply(lambda x: re.sub(' +',' ',x), meta=('Object'))"
      ],
      "execution_count": null,
      "outputs": []
    },
    {
      "cell_type": "code",
      "metadata": {
        "colab": {
          "base_uri": "https://localhost:8080/"
        },
        "id": "5fDJyuD1N1Xg",
        "outputId": "3b4bf831-79ac-4fca-9b58-8121fd5c55f9"
      },
      "source": [
        "tet=training_corpus.partitions[1]\n",
        "tet=tet.compute()\n",
        "tet=tet.sample(1)\n",
        "print('ClenedBody: \\n',tet['cleaned'].values[0])\n",
        "print('IS THERE ANY # ------- Let Check ! The Second Time Yep Chama')\n",
        "print('Body:\\n',tet.body.values[0])"
      ],
      "execution_count": null,
      "outputs": [
        {
          "output_type": "stream",
          "text": [
            "ClenedBody: \n",
            " caldwell county texas from wikipedia the free encyclopedianavigation search not to be confused with caldwell texas caldwell county texas the caldwell county courthouse in lockhart location in the u s state of texas texas is location in the u s founded for mathew caldwell seat lockhart largest city lockhart area total sq mi km land sq mi km water sq mi km population density sq mi km congressional districts time zone central utc co caldwell tx us caldwell county is a county in the u s state of texas as of the census the population was its county seat is lockhart the county was founded in and named after mathew caldwell a ranger captain who fought in the battle of plum creek against the comanches and against santa anna is armies during the texas revolution caldwell was also a signer of the texas declaration of independence caldwell county is part of the greater austin metropolitan area major adjacent unincorporated ghost see external links history edit this section is in a list format that may be better presented using prose you can help by converting this section to prose if appropriate editing help is available december b c paleo indians hunter gatherers and later tonkawa karankawa and comanche first inhabitants caldwell county is part of green de witt is petition for a land grant to establish a colony in texas is approved by the mexican government edmund bellinger becomes the first settler of prairie lea the county s oldest town sam houston names the town for his future wife margaret lea houston march the legislature forms caldwell county from bastrop and gonzales counties the county seat is called lockhart county population is there are slaves community of fentress is established originally as riverside later changed to fentress to honor the town s first physician james fentress county votes in favor of secession from the union several hundred men from caldwell county serve in the confederate states army s st john colony established by former slaves town of luling is established john and james merriwether and leonidas hardeman build a gristmill and a sawmill later to be known as zedler s mills the missouri kansas and texas completes its track between lockhart and san marcos the san antonio and aransas pass railway connects lockhart and luling to shiner the missouri kansas and texas lays track from lockhart east to smithville tenant farming accounts for nearly half of all the county is farming and as much as percent of the farms the southwest texas sacred harp singing convention is established in mc mahan august edgar b davis discovers the luling oilfield the luling foundation is established by edgar b davis to teach diversity in agriculture and improve the lives of farm and ranch families lockhart state park opens to the public luling establishes its annual watermelon thump celebration geography edit according to the u s census bureau the county has a total area of square miles km of which square miles km is land and square miles km is water major highways edit interstate s highway s highway highway highway counties edit travis county north bastrop county northeast fayette county southeast gonzales county south guadalupe county southwest hays county northwest demographics edit historical population census pop est u s decennial census as of the united states census there were people residing in the county were white black or african asian native american of some other race and of two or more races were hispanic or latino of any race as of the census of there were people households and families residing in the county the population density was people per square mile km there were housing units at an average density of per square mile km the racial makeup of the county was white black or african american native american asian pacific islander from other races and from two or more races of the population were hispanic or latino of any race there were households out of which had children under the age of living with them were married couples living together had a female householder with no husband present and were non families of all households were made up of individuals and had someone living alone who was years of age or older the average household size was and the average family size was a williams institute analysis of census data found there were about same sex couples per households in the county in the county the population was spread out with under the age of from to from to from to and who were years of age or older the median age was years for every females there were males for every females age and over there were males the median income for a household in the county was and the median income for a family was males had a median income of versus for females the per capita income for the county was about of families and of the population were below the poverty line including of those under age and of those age or over communities edit cities edit lockhart county seat luling small part in guadalupe county martindale mustang ridge mostly in travis county and a small part in bastrop county niederwald mostly in hays county san marcos mostly in hays county and a small part in guadalupe county uhland mostly in hays county unincorporated communities edit brownsboro dale delhi elm grove fentress joliet lytton springs maxwell mc mahan mc neil mendoza pettytown partly in bastrop county prairie lea reedville saint johns colony seawillow soda springs stairtown taylorsville tilmon ghost towns edit atlanta holmes mackiesville polonia rest rogers ranch politics edit presidential elections results year republican democratic third also edit austin portal texas portal list of museums in central texas national register of historic places listings in caldwell county texas recorded texas historic landmarks in caldwell county references edit a b state county quick facts united states census bureau retrieved december find a county national association of counties archived from the original on retrieved a b c d e f g h smyrl vivian elizabeth caldwell county texas handbook of texas online texas state historical association retrieved december stock barbara prairie lea handbook of texas online texas state historical association retrieved december prairie lea texas texas escapes texas escapes blueprints for travel llc retrieved december lockhart texas texas escapes texas escapes blueprints for travel llc retrieved december fentress texas texas escapes texas escapes blueprints for travel llc retrieved december st john colony texas texas escapes texas escapes blueprints for travel llc retrieved december luling texas texas escapes texas escapes blueprints for travel llc retrieved december zedler is mills texas escapes texas escapes blueprints for travel llc retrieved december mc mahan texas escapes texas escapes blueprints for travel llc retrieved december smyrl vivian elizabeth luling oilfield handbook of texas online texas state historical association retrieved december parsons chuck luling main street agriculture and the foundation farm luling images of america arcadia publishing pp isbn taylor tom molloy johnny lockhart state park trail hikes within miles san antonio and austin menasha ridge press p isbn pohlen jerome oddball texas a guide to some really strange places chicago review press p isbn census gazetteer files united states census bureau august retrieved april population and housing unit estimates retrieved june u s decennial census united states census bureau archived from the original on may retrieved april texas almanac population history of counties from pdf texas almanac retrieved april american fact finder united states census bureau archived from the original on retrieved where same sex couples live june retrieved july links edit county of caldwell caldwell county in handbook of texas online at the university of texas places adjacent to caldwell county texas hays county travis county bastrop county caldwell county texas guadalupe county gonzales county fayette countyv t e municipalities and communities of caldwell county texas united states county seat lockhart cities lockhart luling martindale mustang ridge niederwald san marcos uhland unincorporated communities brownsboro dale delhi elm grove fentress joliet lytton springs maxwell mc mahan mc neil mendoza pettytown prairie lea reedville saint johns colony seawillow soda springs stairtown taylorsville tilmon ghost towns atlanta holmes mackiesville polonia rest rogers ranch footnotes this populated place also has portions in an adjacent county or countiesv t e counties of texas anderson andrews angelina aransas archer armstrong atascosa austin bailey bandera bastrop baylor bee bell bexar blanco borden bosque bowie brazoria brazos brewster briscoe brooks brown burleson burnet caldwell calhoun callahan cameron camp carson cass castro chambers cherokee childress clay cochran coke coleman collin collingsworth colorado comal comanche concho cooke coryell cottle crane crockett crosby culberson dallam dallas dawson deaf smith delta denton de witt dickens dimmit donley duval eastland ector edwards el paso ellis erath falls fannin fayette fisher floyd foard fort bend franklin freestone frio gaines galveston garza gillespie glasscock goliad gonzales gray grayson gregg grimes guadalupe hale hall hamilton hansford hardeman hardin harris harrison hartley haskell hays hemphill henderson hidalgo hill hockley hood hopkins houston howard hudspeth hunt hutchinson irion jack jackson jasper jeff davis jefferson jim hogg jim wells johnson jones karnes kaufman kendall kenedy kent kerr kimble king kinney kleberg knox la salle lamar lamb lampasas lavaca lee leon liberty limestone lipscomb live oak llano loving lubbock lynn madison marion martin mason matagorda maverick mc culloch mc lennan mc mullen medina menard midland milam mills mitchell montague montgomery moore morris motley nacogdoches navarro newton nolan nueces ochiltree oldham orange palo pinto panola parker parmer pecos polk potter presidio rains randall reagan real red river reeves refugio roberts robertson rockwall runnels rusk sabine san augustine san jacinto san patricio san saba schleicher scurry shackelford shelby sherman smith somervell starr stephens sterling stonewall sutton swisher tarrant taylor terrell terry throckmorton titus tom green travis trinity tyler upshur upton uvalde val verde van zandt victoria walker waller ward washington webb wharton wheeler wichita wilbarger willacy williamson wilson winkler wise wood yoakum young zapata zavalav t e state of texas austin capital topics architecture climate cuisine geography government healthcare history languages law literature media newspapers radio tvnational historic landmarks recorded texas historic landmarks national register of historic places sites sports symbols texans tourist attractions transportation seal of texas society culture crime demographics economy education gambling politics regions ark la tex big bend blackland prairies brazos valley central texas coastal bend concho valley cross timbers deep east texas east texas edwards plateau golden triangle hill country llano estacado northeast texas north texas osage plains panhandle permian basin piney woods rio grande valley southeast texas south plains south texas texoma trans pecos west texas metropolitan areas abilene amarillo austin round rock beaumont port arthur brownsville harlingen college station bryan corpus christi dallas fort worth arlington el paso houston the woodlands sugar land killeen temple laredo longview lubbock mc allen edinburg mission midland odessa san angelo san antonio new braunfels sherman denison texarkana tyler victoria waco wichita falls counties see list of counties in texas coordinates n wcategories texas counties caldwell county texas establishments in texas populated places established in \n",
            "IS THERE ANY # ------- Let Check ! The Second Time Yep Chama\n",
            "Body:\n",
            " Caldwell County, Texas From Wikipedia, the free encyclopedianavigation search Not to be confused with Caldwell, Texas. Caldwell County, Texas The Caldwell County Courthouse in Lockhart Location in the U. S. state of Texas Texas's location in the U. S. Founded 1848Named for Mathew Caldwell Seat Lockhart Largest city Lockhart Area• Total 547 sq mi (1,417 km 2)• Land 545 sq mi (1,412 km 2)• Water 1.9 sq mi (5 km 2 ), 0.3%Population• ( 2010) 38,066• Density 70/sq mi (30/km 2)Congressional districts 27th, 35th Time zone Central: UTC−6 / −5Website co .caldwell .tx .us Caldwell County is a county in the U. S. state of Texas. As of the 2010 census, the population was 38,066. [1] Its county seat is Lockhart. [2] The county was founded in 1848 and named after Mathew Caldwell, a ranger captain who fought in the Battle of Plum Creek against the Comanches and against Santa Anna's armies during the Texas Revolution. Caldwell was also a signer of the Texas Declaration of Independence. Caldwell County is part of the Greater Austin metropolitan area. Contents1 History2 Geography2.1 Major highways2.2 Adjacent counties3 Demographics4 Communities4.1 Cities4.2 Unincorporated communities4.3 Ghost Towns5 Politics6 See also7 References8 External links History [ edit]This section is in a list format that may be better presented using prose. You can help by converting this section to prose, if appropriate. Editing help is available. (December 2013)8000 b.c. Paleo-Indians Hunter-gatherers, and later Tonkawa, Karankawa .and Comanche, first inhabitants. [3]1825 Caldwell County is part of Green De Witt's petition for a land grant to establish a colony in Texas is approved by the Mexican government.1839 Edmund Bellinger becomes the first settler of Prairie Lea, the county’s oldest town. Sam Houston names the town for his future wife Margaret Lea Houston. [4] [5]1848 March - The legislature forms Caldwell County from Bastrop and Gonzales counties. The county seat is called Lockhart. [3] [6]1860 County population is 2,871. There are 1,610 slaves. [3] Community of Fentress is established, originally as Riverside, later changed to Fentress to honor the town’s first physician James Fentress. [7]1861 County votes 434-188 in favor of secession from the Union. Several hundred men from Caldwell County serve in the Confederate States Army. [3]1870’s St. John Colony established by former slaves. [8]1874 Town of Luling is established. [9] John and James Merriwether and Leonidas Hardeman build a gristmill and a sawmill, later to be known as Zedler’s Mills. [10]1887 The Missouri, Kansas and Texas completes its track between Lockhart and San Marcos. [3]1889 The San Antonio and Aransas Pass Railway connects Lockhart and Luling to Shiner. [3]1892 The Missouri, Kansas and Texas lays track from Lockhart east to Smithville. [3]1880-1900 Tenant farming accounts for nearly half of all the county's farming and as much as 75 percent of the 3,149 farms. [3]1902 The Southwest Texas Sacred Harp Singing Convention is established in Mc Mahan. [11]1922, August 9 – Edgar B. Davis discovers the Luling Oilfield. [12]1927 The Luling Foundation is established by Edgar B. Davis to teach diversity in agriculture and improve the lives of farm and ranch families. [13]1948 Lockhart State Park opens to the public. [14]1953 Luling establishes its annual Watermelon Thump celebration. [15]Geography [ edit]According to the U. S. Census Bureau, the county has a total area of 547 square miles (1,420 km 2 ), of which 545 square miles (1,410 km 2) is land and 1.9 square miles (4.9 km 2) (0.3%) is water. [16]Major highways [ edit]Interstate 10U. S. Highway 90U. S. Highway 183State Highway 80State Highway 130Adjacent counties [ edit]Travis County (north)Bastrop County (northeast)Fayette County (southeast)Gonzales County (south)Guadalupe County (southwest)Hays County (northwest)Demographics [ edit]Historical population Census Pop. %±1850 1,329 —1860 4,481 237.2%1870 6,572 46.7%1880 11,757 78.9%1890 15,769 34.1%1900 21,765 38.0%1910 24,237 11.4%1920 25,160 3.8%1930 31,397 24.8%1940 24,893 −20.7%1950 19,350 −22.3%1960 17,222 −11.0%1970 21,178 23.0%1980 23,637 11.6%1990 26,392 11.7%2000 32,194 22.0%2010 38,066 18.2%Est. 2016 41,161 [17] 8.1%U. S. Decennial Census [18] 1850–2010 [19] 2010–2014 [1]As of the 2010 United States Census, there were 38,066 people residing in the county. 75.8% were White, 6.8% Black or African, 0.9% Asian, 0.8% Native American, 13.1% of some other race and 2.5% of two or more races. 47.1% were Hispanic or Latino (of any race). As of the census [20] of 2000, there were 32,194 people, 10,816 households, and 8,079 families residing in the county. The population density was 59 people per square mile (23/km²). There were 11,901 housing units at an average density of 22 per square mile (8/km²). The racial makeup of the county was 70.13% White, 8.50% Black or African American, 0.61% Native American, 0.34% Asian, 0.03% Pacific Islander, 17.66% from other races, and 2.74% from two or more races. 40.44% of the population were Hispanic or Latino of any race. There were 10,816 households out of which 37.00% had children under the age of 18 living with them, 56.00% were married couples living together, 13.30% had a female householder with no husband present, and 25.30% were non-families. 21.20% of all households were made up of individuals and 9.40% had someone living alone who was 65 years of age or older. The average household size was 2.82 and the average family size was 3.28. A Williams Institute analysis of 2010 census data found there were about 5.8 same-sex couples per 1,000 households in the county. [21]In the county, the population was spread out with 28.30% under the age of 18, 8.50% from 18 to 24, 29.80% from 25 to 44, 20.80% from 45 to 64, and 12.50% who were 65 years of age or older. The median age was 34 years. For every 100 females there were 97.50 males. For every 100 females age 18 and over, there were 92.70 males. The median income for a household in the county was $36,573, and the median income for a family was $41,300. Males had a median income of $29,295 versus $21,595 for females. The per capita income for the county was $15,099. About 10.40% of families and 13.10% of the population were below the poverty line, including 15.10% of those under age 18 and 15.40% of those age 65 or over. Communities [ edit]Cities [ edit]Lockhart (county seat)Luling (small part in Guadalupe County)Martindale Mustang Ridge (mostly in Travis County and a small part in Bastrop County)Niederwald (mostly in Hays County)San Marcos (mostly in Hays County and a small part in Guadalupe County)Uhland (mostly in Hays County)Unincorporated communities [ edit]Brownsboro Dale Delhi Elm Grove Fentress Joliet Lytton Springs Maxwell Mc Mahan Mc Neil Mendoza Pettytown (partly in Bastrop County)Prairie Lea Reedville Saint Johns Colony Seawillow Soda Springs Stairtown Taylorsville Tilmon Ghost Towns [ edit]Atlanta Holmes Mackiesville Polonia Rest Rogers Ranch Politics [ edit]Presidential Elections Results [22]Year Republican Democratic Third Parties2016 54.9% 6,691 39.4% 4,795 5.7% 6922012 54.4% 6,021 43.3% 4,791 2.3% 2562008 52.4% 6,107 46.4% 5,403 1.2% 1382004 55.6% 6,436 43.6% 5,052 0.9% 992000 55.3% 5,216 41.1% 3,872 3.6% 3371996 41.4% 3,239 50.7% 3,961 7.9% 6211992 33.0% 2,749 45.5% 3,794 21.6% 1,8011988 43.0% 3,553 56.3% 4,649 0.7% 601984 55.8% 4,315 44.0% 3,401 0.2% 161980 46.6% 2,879 51.0% 3,155 2.4% 1501976 37.8% 2,235 61.6% 3,647 0.7% 391972 61.5% 3,171 38.3% 1,974 0.3% 151968 27.3% 1,402 56.3% 2,889 16.4% 8391964 22.6% 1,046 77.3% 3,580 0.1% 31960 35.1% 1,482 64.6% 2,729 0.3% 111956 41.0% 1,747 58.9% 2,513 0.1% 51952 41.5% 2,052 58.4% 2,887 0.0% 21948 17.2% 623 77.2% 2,792 5.6% 2011944 18.1% 704 75.0% 2,916 6.9% 2681940 15.9% 659 84.1% 3,499 0.0% 11936 7.5% 247 91.7% 3,019 0.8% 251932 8.1% 291 91.9% 3,317 0.1% 21928 49.5% 1,189 50.5% 1,2111924 14.3% 399 78.4% 2,194 7.3% 2041920 13.0% 269 60.0% 1,240 27.0% 5581916 15.4% 225 83.4% 1,216 1.2% 171912 4.6% 56 88.5% 1,068 6.9% 83See also [ edit]Austin portal Texas portal List of museums in Central Texas National Register of Historic Places listings in Caldwell County, Texas Recorded Texas Historic Landmarks in Caldwell County References [ edit]^ a b \"State & County Quick Facts\". United States Census Bureau. Retrieved December 9, 2013.^ \"Find a County\". National Association of Counties. Archived from the original on 2011-05-31. Retrieved 2011-06-07.^ a b c d e f g h Smyrl, Vivian Elizabeth. \"Caldwell County, Texas\". Handbook of Texas Online. Texas State Historical Association. Retrieved 1 December 2010.^ Stock, Barbara. \"Prairie Lea\". Handbook of Texas Online. Texas State Historical Association. Retrieved 1 December 2010.^ \"Prairie Lea, Texas\". Texas Escapes. Texas Escapes - Blueprints For Travel, LLC. Retrieved 1 December 2010.^ \"Lockhart, Texas\". Texas Escapes. Texas Escapes - Blueprints For Travel, LLC. Retrieved 1 December 2010.^ \"Fentress, Texas\". Texas Escapes. Texas Escapes - Blueprints For Travel, LLC. Retrieved 1 December 2010.^ \"St John Colony, Texas\". Texas Escapes. Texas Escapes - Blueprints For Travel, LLC. Retrieved 1 December 2010.^ \"Luling, Texas\". Texas Escapes. Texas Escapes - Blueprints For Travel, LLC. Retrieved 1 December 2010.^ \"Zedler's Mills\". Texas Escapes. Texas Escapes - Blueprints For Travel, LLC. Retrieved 1 December 2010.^ \"Mc Mahan\". Texas Escapes. Texas Escapes - Blueprints For Travel, LLC. Retrieved 1 December 2010.^ Smyrl, Vivian Elizabeth. \"Luling Oilfield\". Handbook of Texas Online. Texas State Historical Association. Retrieved 1 December 2010.^ Parsons, Chuck; Luling Main Street (2009). \"Agriculture and the Foundation Farm\". Luling (Images of America). Arcadia Publishing. pp. 101–106. ISBN 978-0-7385-7145-4.^ Taylor, Tom; Molloy, Johnny (2003). \"Lockhart State Park Trail\". 60 Hikes within 60 Miles: San Antonio and Austin. Menasha Ridge Press. p. 88. ISBN 978-0-89732-533-2.^ Pohlen, Jerome (2006). Oddball Texas: A Guide to Some Really Strange Places. Chicago Review Press. p. 160. ISBN 978-1-55652-583-4.^ \"2010 Census Gazetteer Files\". United States Census Bureau. August 22, 2012. Retrieved April 20, 2015.^ \"Population and Housing Unit Estimates\". Retrieved June 9, 2017.^ \"U. S. Decennial Census\". United States Census Bureau. Archived from the original on May 12, 2015. Retrieved April 20, 2015.^ \"Texas Almanac: Population History of Counties from 1850–2010\" (PDF). Texas Almanac. Retrieved April 20, 2015.^ \"American Fact Finder\". United States Census Bureau. Archived from the original on 2013-09-11. Retrieved 2011-05-14.^ Where Same-Sex Couples Live, June 26, 2015, retrieved July 6, 2015^ http://uselectionatlas.org/RESULTSExternal links [ edit]County of Caldwell Caldwell County in Handbook of Texas Online at the University of Texas. Places adjacent to Caldwell County, Texas Hays County Travis County Bastrop County Caldwell County, Texas Guadalupe County Gonzales County Fayette Countyv t e Municipalities and communities of Caldwell County, Texas, United States County seat: Lockhart Cities Lockhart Luling ‡ Martindale Mustang Ridge ‡ Niederwald ‡ San Marcos ‡ Uhland ‡Unincorporated communities Brownsboro Dale Delhi Elm Grove Fentress Joliet Lytton Springs Maxwell Mc Mahan Mc Neil Mendoza Pettytown ‡ Prairie Lea Reedville Saint Johns Colony Seawillow Soda Springs Stairtown Taylorsville Tilmon Ghost towns Atlanta Holmes Mackiesville Polonia Rest Rogers Ranch Footnotes ‡This populated place also has portions in an adjacent county or countiesv t e Counties of Texas Anderson Andrews Angelina Aransas Archer Armstrong Atascosa Austin Bailey Bandera Bastrop Baylor Bee Bell Bexar Blanco Borden Bosque Bowie Brazoria Brazos Brewster Briscoe Brooks Brown Burleson Burnet Caldwell Calhoun Callahan Cameron Camp Carson Cass Castro Chambers Cherokee Childress Clay Cochran Coke Coleman Collin Collingsworth Colorado Comal Comanche Concho Cooke Coryell Cottle Crane Crockett Crosby Culberson Dallam Dallas Dawson Deaf Smith Delta Denton De Witt Dickens Dimmit Donley Duval Eastland Ector Edwards El Paso Ellis Erath Falls Fannin Fayette Fisher Floyd Foard Fort Bend Franklin Freestone Frio Gaines Galveston Garza Gillespie Glasscock Goliad Gonzales Gray Grayson Gregg Grimes Guadalupe Hale Hall Hamilton Hansford Hardeman Hardin Harris Harrison Hartley Haskell Hays Hemphill Henderson Hidalgo Hill Hockley Hood Hopkins Houston Howard Hudspeth Hunt Hutchinson Irion Jack Jackson Jasper Jeff Davis Jefferson Jim Hogg Jim Wells Johnson Jones Karnes Kaufman Kendall Kenedy Kent Kerr Kimble King Kinney Kleberg Knox La Salle Lamar Lamb Lampasas Lavaca Lee Leon Liberty Limestone Lipscomb Live Oak Llano Loving Lubbock Lynn Madison Marion Martin Mason Matagorda Maverick Mc Culloch Mc Lennan Mc Mullen Medina Menard Midland Milam Mills Mitchell Montague Montgomery Moore Morris Motley Nacogdoches Navarro Newton Nolan Nueces Ochiltree Oldham Orange Palo Pinto Panola Parker Parmer Pecos Polk Potter Presidio Rains Randall Reagan Real Red River Reeves Refugio Roberts Robertson Rockwall Runnels Rusk Sabine San Augustine San Jacinto San Patricio San Saba Schleicher Scurry Shackelford Shelby Sherman Smith Somervell Starr Stephens Sterling Stonewall Sutton Swisher Tarrant Taylor Terrell Terry Throckmorton Titus Tom Green Travis Trinity Tyler Upshur Upton Uvalde Val Verde Van Zandt Victoria Walker Waller Ward Washington Webb Wharton Wheeler Wichita Wilbarger Willacy Williamson Wilson Winkler Wise Wood Yoakum Young Zapata Zavalav t e State of Texas Austin (capital)Topics Architecture Climate Cuisine Geography Government Healthcare History Languages Law Literature Media Newspapers Radio TVNational Historic Landmarks Recorded Texas Historic Landmarks National Register of Historic Places Sites Sports Symbols Texans Tourist attractions Transportation Seal of Texas Society Culture Crime Demographics Economy Education Gambling Politics Regions Ark‑La‑Tex Big Bend Blackland Prairies Brazos Valley Central Texas Coastal Bend Concho Valley Cross Timbers Deep East Texas East Texas Edwards Plateau Golden Triangle Hill Country Llano Estacado Northeast Texas North Texas Osage Plains Panhandle Permian Basin Piney Woods Rio Grande Valley Southeast Texas South Plains South Texas Texoma Trans-Pecos West Texas Metropolitan areas Abilene Amarillo Austin – Round Rock Beaumont – Port Arthur Brownsville – Harlingen College Station – Bryan Corpus Christi Dallas – Fort Worth – Arlington El Paso Houston – The Woodlands – Sugar Land Killeen – Temple Laredo Longview Lubbock Mc Allen – Edinburg – Mission Midland Odessa San Angelo San Antonio – New Braunfels Sherman – Denison Texarkana Tyler Victoria Waco Wichita Falls Counties See: List of counties in Texas Coordinates: 29.84°N 97.61°WCategories: Texas counties Caldwell County, Texas 1848 establishments in Texas Populated places established in 1848 \n"
          ],
          "name": "stdout"
        }
      ]
    },
    {
      "cell_type": "code",
      "metadata": {
        "id": "VoD_RNL6O6jA"
      },
      "source": [
        "# Stopwords removal & Lemmatizing tokens using SpaCy\n",
        "import spacy\n",
        "nlp = spacy.load('en_core_web_sm',disable=['ner','parser'])\n",
        "nlp.max_length=5000000\n",
        "\n",
        "# Removing Stopwords and Lemmatizing words\n",
        "training_corpus['lemmatized']=training_corpus['cleaned'].apply(lambda x: ' '.join([token.lemma_ for token in list(nlp(x)) if (token.is_stop==False)]), meta=('Object'))\n",
        "testing_corpus['lemmatized']=testing_corpus['cleaned'].apply(lambda x: ' '.join([token.lemma_ for token in list(nlp(x)) if (token.is_stop==False)]), meta=('Object'))\n"
      ],
      "execution_count": null,
      "outputs": []
    },
    {
      "cell_type": "code",
      "metadata": {
        "colab": {
          "base_uri": "https://localhost:8080/"
        },
        "id": "w1Xj0g6QPxKt",
        "outputId": "9fb8c912-488e-4ede-af27-ecf8d78b85dd"
      },
      "source": [
        "tet=training_corpus.partitions[1]\n",
        "tet=tet.compute()\n",
        "tet=tet.sample(1)\n",
        "print('Lemmatization: \\n',tet['lemmatized'].values)\n",
        "print('IS THERE ANY # ------- Let Check ! The Second Time Yep Chama')\n",
        "print('Body:\\n',tet.body.values[0])"
      ],
      "execution_count": null,
      "outputs": [
        {
          "output_type": "stream",
          "text": [
            "Lemmatization: \n",
            " ['thyroid cancer diagnosis test exam diagnose thyroid cancer write bridget brady md facsin order accurately diagnose treat thyroid cancer doctor thoroughly review complete medical history include information family member thyroid cancer benign tumor multiple endocrine neoplasia doctor perform physical examination order test blood work physical exam doctor palpate feel neck require swallow flex bend neck pay particular attention thyroid gland surround tissue lymph nod number size shape firmness nodule s carefully examine doctor correlate physical finding medical history report symptom pain hoarseness fact american thyroid association report thyroid lump nodule common few cancer history thyroid cancer diagnosis family history medullary thyroid cancer doctor test blood calcitonin calcium level calcitonin hormone important calcium phosphorus metabolism bone growth elevated calcitonin level indicate cancer laboratory test diagnose thyroid cancer blood draw test thyroid gland function result thyroid stimulate hormone tsh test confirm rule hypothyroidism low hyperthyroidism high level thyroid gland function normally free triiodothyronine thyroxine test run determine thyroid hormone activity level important remember thyroid function test indicator thyroid cancer people thyroid cancer normal thyroid function thyroid scan thyroid scan nuclear medicine scan test gland function radioactive tracer inject special camera capture image thyroid gland measure dye gland nodule absorb normal abnormal test result report function normal cold underactive hot overactive suspicious cold nodule evaluate procedure call fine needle aspiration needle biopsy hot nodule generally require biopsy ultrasound guide biopsy fine needle aspiration fna fine needle aspiration fna way diagnose thyroid cancer local anesthetic inject neck area ultrasound guide needle placement doctor take sample nodule tumor sample send pathology microscopic evaluation fine needle aspiration biopsy result indeterminate mean exactly know nodule tumor benign noncancerous malignant cancer help patient avoid unnecessary thyroid surgery new molecular testing gene expression classification perform help confirm accurate diagnosis undergoing fna distressing time patient question want ask doctor help mind ease fna perform long test fna painful procedure perform month risk bleed infection stop take counter prescription medication test soon result test thyroid cancer imaging study result image study assist doctor confirm thyroid cancer diagnosis different type imaging study include x ray compute tomography ct scan magnetic resonance imaging mri positron emission tomography pet scan laryngoscopy depend tumor characteristic close proximity thyroid gland voice box larynx doctor recommend laryngoscopy laryngoscope lighted flexible tube magnification examine larynx draw conclusion doctor evaluate piece information health include test result make diagnosis outline treatment plan thyroid cancer bridget brady md facs fellowship train endocrine surgeon austin texas passion expertise disease thyroid parathyroid adrenal glands dr brady perform thousand thyroidectomy parathryoidectomie focus minimally invasive technique optimize patient medical cosmetic outcome update read thyroid tumor staging view source']\n",
            "IS THERE ANY # ------- Let Check ! The Second Time Yep Chama\n",
            "Body:\n",
            " Thyroid Cancer Diagnosis Tests and Exams to Diagnose Thyroid Cancer Written by Bridget Brady MD, FACSIn order to accurately diagnose and treat thyroid cancer, your doctor thoroughly reviews your complete medical history, which may include information about family members who may have had a thyroid cancer, benign tumor, or multiple endocrine neoplasia. The doctor performs a physical examination and orders tests such as blood work. During the physical exam, the doctor palpates (feels) your neck, which may require you to swallow and flex and bend your neck. He or she will pay particular attention to the thyroid gland and surrounding tissues, such as the lymph nodes. The number, size, shape, and firmness of the nodule (s) are carefully examined. The doctor correlates the physical findings with your medical history and reported symptoms, such as pain or hoarseness. Fact: The American Thyroid Association reports that while thyroid lumps (nodules) are common, fewer than 1 in 10 is cancer. 1Family History as Part of Thyroid Cancer Diagnosis If you have a family history of medullary thyroid cancer, the doctor will test your blood calcitonin and calcium levels. Calcitonin is a hormone important to calcium and phosphorus metabolism and bone growth. An elevated calcitonin level can indicate cancer. Laboratory Tests to Diagnose Thyroid Cancer Blood is drawn to test your thyroid gland function. Results from a thyroid-stimulating hormone (TSH) test either confirms or rules out hypothyroidism (too low) or hyperthyroidism (too high) levels. If your thyroid gland does not function normally, a T3 or Free T3 (triiodothyronine) and T4 (thyroxine) test is run to determine your thyroid hormone activity levels. It is important to remember that thyroid function tests are not indicators of thyroid cancer and most people with thyroid cancer have normal thyroid function. Thyroid Scan A thyroid scan, or nuclear medicine scan, tests the gland's function. After a radioactive tracer is injected, a special camera captures images of the thyroid gland and measures the amount of dye the gland (nodules) absorbs. Normal and abnormal test results are reported as functioning (normal), cold (underactive), or hot (overactive). Suspicious cold nodules can be further evaluated by a procedure called fine needle aspiration (needle biopsy). Hot nodules do not generally require biopsy. Ultrasound Guided Biopsy Fine Needle Aspiration (FNA) Fine needle aspiration (FNA) is one way of diagnosing thyroid cancer. A local anesthetic may be injected into/around the neck area. Using ultrasound to guide needle placement, your doctor takes several samples of the nodule or tumor. The samples are sent to pathology for microscopic evaluation. Some fine needle aspiration biopsy results are indeterminate. This means it is not exactly known if the nodule or tumor is benign (noncancerous) or malignant (cancer). To help patients avoid unnecessary thyroid surgery, new molecular testing (gene expression classification) may be performed to help confirm an accurate diagnosis. Undergoing FNA can be a distressing time for patients. Questions you may want to ask your doctor can help put your mind at ease. Where will my FNA be performed? How long does the test take? Is FNA painful? How many of these procedures do you performed each month? What are the risks? Bleeding, infection? Should I stop taking any over-the-counter or prescription medications before the test? How soon until I have the results of the test? If I have thyroid cancer, what's next? Imaging Studies Results from imaging studies may assist your doctor in confirming your thyroid cancer diagnosis. Different types of imaging studies include x-ray, computed tomography (CT scan), magnetic resonance imaging (MRI), and positron emission tomography (PET scan). Laryngoscopy Depending on your tumor's characteristics, and the close proximity of your thyroid gland to your voice box (larynx), your doctor may recommend laryngoscopy. A laryngoscope is a lighted and flexible tube with magnification used to examine your larynx. Drawing Conclusions After your doctor has evaluated each piece of information about your health, including test results, he makes his diagnosis and outlines a treatment plan for your thyroid cancer. Bridget Brady, MD, FACS is the first fellowship-trained endocrine surgeon in Austin, Texas. She has a passion for and expertise in disease of the thyroid, parathyroid, and adrenal glands. Dr. Brady has performed thousands of thyroidectomies and parathryoidectomies with a focus on minimally invasive techniques to optimize patients' medical and cosmetic outcomes. Updated on: 07/06/16Continue Reading Thyroid Tumor Staging View Sources \n"
          ],
          "name": "stdout"
        }
      ]
    },
    {
      "cell_type": "code",
      "metadata": {
        "colab": {
          "base_uri": "https://localhost:8080/"
        },
        "id": "d25lFgWOWeuU",
        "outputId": "2904f26f-daa9-4f05-a8c8-1f5b6fb4a108"
      },
      "source": [
        "# Lowercasing the text\n",
        "training_queries['cleaned']=training_queries['query'].apply(lambda x:x.lower())\n",
        "testing_queries['cleaned']=testing_queries['query'].apply(lambda x:x.lower())\n",
        "\n",
        "# Expanding contractions\n",
        "training_queries['cleaned']=training_queries['cleaned'].apply(lambda x:expand_contractions(x))\n",
        "testing_queries['cleaned']=testing_queries['cleaned'].apply(lambda x:expand_contractions(x))\n",
        "\n",
        "# Cleaning queries using RegEx\n",
        "training_queries['cleaned']=training_queries['cleaned'].apply(lambda x: clean_text(x))\n",
        "testing_queries['cleaned']=testing_queries['cleaned'].apply(lambda x: clean_text(x))\n",
        "\n",
        "# Removing extra spaces\n",
        "training_queries['cleaned']=training_queries['cleaned'].apply(lambda x: re.sub(' +',' ',x))\n",
        "testing_queries['cleaned']=testing_queries['cleaned'].apply(lambda x: re.sub(' +',' ',x))"
      ],
      "execution_count": null,
      "outputs": [
        {
          "output_type": "stream",
          "text": [
            "/usr/local/lib/python3.6/dist-packages/ipykernel_launcher.py:2: SettingWithCopyWarning: \n",
            "A value is trying to be set on a copy of a slice from a DataFrame.\n",
            "Try using .loc[row_indexer,col_indexer] = value instead\n",
            "\n",
            "See the caveats in the documentation: https://pandas.pydata.org/pandas-docs/stable/user_guide/indexing.html#returning-a-view-versus-a-copy\n",
            "  \n",
            "/usr/local/lib/python3.6/dist-packages/ipykernel_launcher.py:3: SettingWithCopyWarning: \n",
            "A value is trying to be set on a copy of a slice from a DataFrame.\n",
            "Try using .loc[row_indexer,col_indexer] = value instead\n",
            "\n",
            "See the caveats in the documentation: https://pandas.pydata.org/pandas-docs/stable/user_guide/indexing.html#returning-a-view-versus-a-copy\n",
            "  This is separate from the ipykernel package so we can avoid doing imports until\n",
            "/usr/local/lib/python3.6/dist-packages/ipykernel_launcher.py:6: SettingWithCopyWarning: \n",
            "A value is trying to be set on a copy of a slice from a DataFrame.\n",
            "Try using .loc[row_indexer,col_indexer] = value instead\n",
            "\n",
            "See the caveats in the documentation: https://pandas.pydata.org/pandas-docs/stable/user_guide/indexing.html#returning-a-view-versus-a-copy\n",
            "  \n",
            "/usr/local/lib/python3.6/dist-packages/ipykernel_launcher.py:7: SettingWithCopyWarning: \n",
            "A value is trying to be set on a copy of a slice from a DataFrame.\n",
            "Try using .loc[row_indexer,col_indexer] = value instead\n",
            "\n",
            "See the caveats in the documentation: https://pandas.pydata.org/pandas-docs/stable/user_guide/indexing.html#returning-a-view-versus-a-copy\n",
            "  import sys\n",
            "/usr/local/lib/python3.6/dist-packages/ipykernel_launcher.py:10: SettingWithCopyWarning: \n",
            "A value is trying to be set on a copy of a slice from a DataFrame.\n",
            "Try using .loc[row_indexer,col_indexer] = value instead\n",
            "\n",
            "See the caveats in the documentation: https://pandas.pydata.org/pandas-docs/stable/user_guide/indexing.html#returning-a-view-versus-a-copy\n",
            "  # Remove the CWD from sys.path while we load stuff.\n",
            "/usr/local/lib/python3.6/dist-packages/ipykernel_launcher.py:11: SettingWithCopyWarning: \n",
            "A value is trying to be set on a copy of a slice from a DataFrame.\n",
            "Try using .loc[row_indexer,col_indexer] = value instead\n",
            "\n",
            "See the caveats in the documentation: https://pandas.pydata.org/pandas-docs/stable/user_guide/indexing.html#returning-a-view-versus-a-copy\n",
            "  # This is added back by InteractiveShellApp.init_path()\n",
            "/usr/local/lib/python3.6/dist-packages/ipykernel_launcher.py:14: SettingWithCopyWarning: \n",
            "A value is trying to be set on a copy of a slice from a DataFrame.\n",
            "Try using .loc[row_indexer,col_indexer] = value instead\n",
            "\n",
            "See the caveats in the documentation: https://pandas.pydata.org/pandas-docs/stable/user_guide/indexing.html#returning-a-view-versus-a-copy\n",
            "  \n",
            "/usr/local/lib/python3.6/dist-packages/ipykernel_launcher.py:15: SettingWithCopyWarning: \n",
            "A value is trying to be set on a copy of a slice from a DataFrame.\n",
            "Try using .loc[row_indexer,col_indexer] = value instead\n",
            "\n",
            "See the caveats in the documentation: https://pandas.pydata.org/pandas-docs/stable/user_guide/indexing.html#returning-a-view-versus-a-copy\n",
            "  from ipykernel import kernelapp as app\n"
          ],
          "name": "stderr"
        }
      ]
    },
    {
      "cell_type": "code",
      "metadata": {
        "colab": {
          "base_uri": "https://localhost:8080/",
          "height": 391
        },
        "id": "mFtbHNm7mug4",
        "outputId": "935c8229-e191-40b5-8665-153dc353426d"
      },
      "source": [
        "training_queries"
      ],
      "execution_count": null,
      "outputs": [
        {
          "output_type": "execute_result",
          "data": {
            "text/html": [
              "<div>\n",
              "<style scoped>\n",
              "    .dataframe tbody tr th:only-of-type {\n",
              "        vertical-align: middle;\n",
              "    }\n",
              "\n",
              "    .dataframe tbody tr th {\n",
              "        vertical-align: top;\n",
              "    }\n",
              "\n",
              "    .dataframe thead th {\n",
              "        text-align: right;\n",
              "    }\n",
              "</style>\n",
              "<table border=\"1\" class=\"dataframe\">\n",
              "  <thead>\n",
              "    <tr style=\"text-align: right;\">\n",
              "      <th></th>\n",
              "      <th>qid</th>\n",
              "      <th>query</th>\n",
              "      <th>cleaned</th>\n",
              "    </tr>\n",
              "  </thead>\n",
              "  <tbody>\n",
              "    <tr>\n",
              "      <th>0</th>\n",
              "      <td>687888</td>\n",
              "      <td>what is a jpe</td>\n",
              "      <td>what is a jpe</td>\n",
              "    </tr>\n",
              "    <tr>\n",
              "      <th>1</th>\n",
              "      <td>480210</td>\n",
              "      <td>price for asphalt driveway</td>\n",
              "      <td>price for asphalt driveway</td>\n",
              "    </tr>\n",
              "    <tr>\n",
              "      <th>2</th>\n",
              "      <td>591004</td>\n",
              "      <td>what causes pressure skin bruising</td>\n",
              "      <td>what causes pressure skin bruising</td>\n",
              "    </tr>\n",
              "    <tr>\n",
              "      <th>3</th>\n",
              "      <td>260536</td>\n",
              "      <td>how long drive from flagstaff to grand canyon</td>\n",
              "      <td>how long drive from flagstaff to grand canyon</td>\n",
              "    </tr>\n",
              "    <tr>\n",
              "      <th>4</th>\n",
              "      <td>39422</td>\n",
              "      <td>average number of bowel movements per day for ...</td>\n",
              "      <td>average number of bowel movements per day for ...</td>\n",
              "    </tr>\n",
              "    <tr>\n",
              "      <th>...</th>\n",
              "      <td>...</td>\n",
              "      <td>...</td>\n",
              "      <td>...</td>\n",
              "    </tr>\n",
              "    <tr>\n",
              "      <th>995</th>\n",
              "      <td>89597</td>\n",
              "      <td>cell voltage mv meaning</td>\n",
              "      <td>cell voltage mv meaning</td>\n",
              "    </tr>\n",
              "    <tr>\n",
              "      <th>996</th>\n",
              "      <td>1167043</td>\n",
              "      <td>what an ip address</td>\n",
              "      <td>what an ip address</td>\n",
              "    </tr>\n",
              "    <tr>\n",
              "      <th>997</th>\n",
              "      <td>737304</td>\n",
              "      <td>what is daily max citizens atm</td>\n",
              "      <td>what is daily max citizens atm</td>\n",
              "    </tr>\n",
              "    <tr>\n",
              "      <th>998</th>\n",
              "      <td>156934</td>\n",
              "      <td>do i need a florida commercial driver license</td>\n",
              "      <td>do i need a florida commercial driver license</td>\n",
              "    </tr>\n",
              "    <tr>\n",
              "      <th>999</th>\n",
              "      <td>654329</td>\n",
              "      <td>what does tv on cameras stand for</td>\n",
              "      <td>what does tv on cameras stand for</td>\n",
              "    </tr>\n",
              "  </tbody>\n",
              "</table>\n",
              "<p>1000 rows × 3 columns</p>\n",
              "</div>"
            ],
            "text/plain": [
              "         qid  ...                                            cleaned\n",
              "0     687888  ...                                      what is a jpe\n",
              "1     480210  ...                         price for asphalt driveway\n",
              "2     591004  ...                 what causes pressure skin bruising\n",
              "3     260536  ...      how long drive from flagstaff to grand canyon\n",
              "4      39422  ...  average number of bowel movements per day for ...\n",
              "..       ...  ...                                                ...\n",
              "995    89597  ...                            cell voltage mv meaning\n",
              "996  1167043  ...                                 what an ip address\n",
              "997   737304  ...                     what is daily max citizens atm\n",
              "998   156934  ...      do i need a florida commercial driver license\n",
              "999   654329  ...                  what does tv on cameras stand for\n",
              "\n",
              "[1000 rows x 3 columns]"
            ]
          },
          "metadata": {
            "tags": []
          },
          "execution_count": 33
        }
      ]
    },
    {
      "cell_type": "code",
      "metadata": {
        "id": "xTirUh9atLIp"
      },
      "source": [
        "combined_training=dd.concat([training_corpus.rename(columns={'lemmatized':'text'})['text'],\\\n",
        "                             training_queries.rename(columns={'cleaned':'text'})['text']])\\\n",
        "                             .sample(frac=1).reset_index(drop=True)"
      ],
      "execution_count": null,
      "outputs": []
    },
    {
      "cell_type": "code",
      "metadata": {
        "colab": {
          "base_uri": "https://localhost:8080/"
        },
        "id": "fFjfI2ccwYIK",
        "outputId": "b1139199-8956-4418-cd61-9f318757d5c9"
      },
      "source": [
        "combined_training.size.compute()"
      ],
      "execution_count": null,
      "outputs": [
        {
          "output_type": "execute_result",
          "data": {
            "text/plain": [
              "20505"
            ]
          },
          "metadata": {
            "tags": []
          },
          "execution_count": 35
        }
      ]
    },
    {
      "cell_type": "code",
      "metadata": {
        "id": "nQtwywiSwhBX"
      },
      "source": [
        "from gensim.models import Word2Vec\n",
        "\n",
        "# Creating data for the model training\n",
        "train_data=[]\n",
        "for i in combined_training:\n",
        "    train_data.append(i.split())\n",
        "\n",
        "# Training a word2vec model from the given data set\n",
        "w2v_model = Word2Vec(train_data, size=300, min_count=2,window=5, sg=1,workers=4)"
      ],
      "execution_count": null,
      "outputs": []
    },
    {
      "cell_type": "code",
      "metadata": {
        "colab": {
          "base_uri": "https://localhost:8080/"
        },
        "id": "rvu-j4WlE_-s",
        "outputId": "98d29f22-8a90-437b-d6c6-a45d608fcb5c"
      },
      "source": [
        "# Vocabulary size\n",
        "print('Vocabulary size:', len(w2v_model.wv.vocab))"
      ],
      "execution_count": null,
      "outputs": [
        {
          "output_type": "stream",
          "text": [
            "Vocabulary size: 198281\n"
          ],
          "name": "stdout"
        }
      ]
    },
    {
      "cell_type": "code",
      "metadata": {
        "colab": {
          "base_uri": "https://localhost:8080/"
        },
        "id": "8TgTpxvrTVRZ",
        "outputId": "cf4aff06-2137-4f72-ac6f-30c44ebbd605"
      },
      "source": [
        "# Function returning vector reperesentation of a document\n",
        "def get_embedding_w2v(doc_tokens):\n",
        "    embeddings = []\n",
        "    if len(doc_tokens)<1:\n",
        "        return np.zeros(300)\n",
        "    else:\n",
        "        for tok in doc_tokens:\n",
        "            if tok in w2v_model.wv.vocab:\n",
        "                embeddings.append(w2v_model.wv.word_vec(tok))\n",
        "            else:\n",
        "                embeddings.append(np.random.rand(300))\n",
        "        # mean the vectors of individual words to get the vector of the document\n",
        "        return np.mean(embeddings, axis=0)\n",
        "\n",
        "# Getting Word2Vec Vectors for Testing Corpus and Queries\n",
        "testing_corpus['vector']=testing_corpus['lemmatized'].apply(lambda x :get_embedding_w2v(x.split()),meta=(\"Object\"))\n",
        "testing_queries['vector']=testing_queries['cleaned'].apply(lambda x :get_embedding_w2v(x.split()))\n"
      ],
      "execution_count": null,
      "outputs": [
        {
          "output_type": "stream",
          "text": [
            "/usr/local/lib/python3.6/dist-packages/ipykernel_launcher.py:17: SettingWithCopyWarning: \n",
            "A value is trying to be set on a copy of a slice from a DataFrame.\n",
            "Try using .loc[row_indexer,col_indexer] = value instead\n",
            "\n",
            "See the caveats in the documentation: https://pandas.pydata.org/pandas-docs/stable/user_guide/indexing.html#returning-a-view-versus-a-copy\n"
          ],
          "name": "stderr"
        }
      ]
    },
    {
      "cell_type": "code",
      "metadata": {
        "colab": {
          "base_uri": "https://localhost:8080/",
          "height": 361
        },
        "id": "f79_Ei4KThXx",
        "outputId": "130a3ccb-6eaa-45da-e9c8-f311c3132500"
      },
      "source": [
        "from sklearn.metrics.pairwise import cosine_similarity\n",
        "######################################################tHIS TAKES TOO MUCH TIME TO RUN \n",
        "# Function for calculating average precision for a query\n",
        "def average_precision(qid,qvector):\n",
        "  \n",
        "  # Getting the ground truth and document vectors\n",
        "  qresult=testing_result.loc[testing_result['qid']==qid,['docid','rel']]\n",
        "  qcorpus=testing_corpus.loc[testing_corpus['docid'].isin(qresult['docid']),['docid','vector']]\n",
        "  qresult=dd.merge(qresult,qcorpus,on='docid')\n",
        "\n",
        "  \n",
        "  # Ranking documents for the query\n",
        "  \n",
        "  \n",
        "  qresult['similarity']=qresult['vector'].apply(lambda x: cosine_similarity(np.array(qvector).reshape(1, -1),np.array(x).reshape(1, -1)).item(),meta=(\"Object\"))\n",
        "  qresult['similarity']=qresult['similarity'].astype(\"float\")\n",
        "  ranking=qresult.nlargest(n=10,columns ='similarity')\n",
        "  \n",
        "  #ranking.head()\n",
        "  # Taking Top 10 documents for the evaluation\n",
        "  ranked=ranking.head(10)['rel'].values\n",
        "  \n",
        "  # Calculating precision\n",
        "\n",
        "  precision=[]\n",
        "  for i in range(1,11):\n",
        "    if ranked[i-1]:\n",
        "      precision.append(np.sum(ranked[:i])/i)\n",
        "  \n",
        "  # If no relevant document in list then return 0\n",
        "  if precision==[]:\n",
        "    return 0\n",
        "\n",
        "  return np.mean(precision)\n",
        "\n",
        "# Calculating average precision for all queries in the test set\n",
        "testing_queries['AP']=testing_queries.apply(lambda x: average_precision(x['qid'],x['vector']),axis=1)\n",
        "\n",
        "# Finding Mean Average Precision\n",
        "print('Mean Average Precision=>',testing_queries['AP'].mean())"
      ],
      "execution_count": null,
      "outputs": [
        {
          "output_type": "error",
          "ename": "KeyboardInterrupt",
          "evalue": "ignored",
          "traceback": [
            "\u001b[0;31m---------------------------------------------------------------------------\u001b[0m",
            "\u001b[0;31mKeyboardInterrupt\u001b[0m                         Traceback (most recent call last)",
            "\u001b[0;32m<ipython-input-84-3cb670a13d1a>\u001b[0m in \u001b[0;36m<module>\u001b[0;34m()\u001b[0m\n\u001b[1;32m     35\u001b[0m \u001b[0;34m\u001b[0m\u001b[0m\n\u001b[1;32m     36\u001b[0m \u001b[0;31m# Calculating average precision for all queries in the test set\u001b[0m\u001b[0;34m\u001b[0m\u001b[0;34m\u001b[0m\u001b[0;34m\u001b[0m\u001b[0m\n\u001b[0;32m---> 37\u001b[0;31m \u001b[0mtesting_queries\u001b[0m\u001b[0;34m[\u001b[0m\u001b[0;34m'AP'\u001b[0m\u001b[0;34m]\u001b[0m\u001b[0;34m=\u001b[0m\u001b[0mtesting_queries\u001b[0m\u001b[0;34m.\u001b[0m\u001b[0mapply\u001b[0m\u001b[0;34m(\u001b[0m\u001b[0;32mlambda\u001b[0m \u001b[0mx\u001b[0m\u001b[0;34m:\u001b[0m \u001b[0maverage_precision\u001b[0m\u001b[0;34m(\u001b[0m\u001b[0mx\u001b[0m\u001b[0;34m[\u001b[0m\u001b[0;34m'qid'\u001b[0m\u001b[0;34m]\u001b[0m\u001b[0;34m,\u001b[0m\u001b[0mx\u001b[0m\u001b[0;34m[\u001b[0m\u001b[0;34m'vector'\u001b[0m\u001b[0;34m]\u001b[0m\u001b[0;34m)\u001b[0m\u001b[0;34m,\u001b[0m\u001b[0maxis\u001b[0m\u001b[0;34m=\u001b[0m\u001b[0;36m1\u001b[0m\u001b[0;34m)\u001b[0m\u001b[0;34m\u001b[0m\u001b[0;34m\u001b[0m\u001b[0m\n\u001b[0m\u001b[1;32m     38\u001b[0m \u001b[0;34m\u001b[0m\u001b[0m\n\u001b[1;32m     39\u001b[0m \u001b[0;31m# Finding Mean Average Precision\u001b[0m\u001b[0;34m\u001b[0m\u001b[0;34m\u001b[0m\u001b[0;34m\u001b[0m\u001b[0m\n",
            "\u001b[0;32m/usr/local/lib/python3.6/dist-packages/pandas/core/frame.py\u001b[0m in \u001b[0;36mapply\u001b[0;34m(self, func, axis, raw, result_type, args, **kwds)\u001b[0m\n\u001b[1;32m   7550\u001b[0m             \u001b[0mkwds\u001b[0m\u001b[0;34m=\u001b[0m\u001b[0mkwds\u001b[0m\u001b[0;34m,\u001b[0m\u001b[0;34m\u001b[0m\u001b[0;34m\u001b[0m\u001b[0m\n\u001b[1;32m   7551\u001b[0m         )\n\u001b[0;32m-> 7552\u001b[0;31m         \u001b[0;32mreturn\u001b[0m \u001b[0mop\u001b[0m\u001b[0;34m.\u001b[0m\u001b[0mget_result\u001b[0m\u001b[0;34m(\u001b[0m\u001b[0;34m)\u001b[0m\u001b[0;34m\u001b[0m\u001b[0;34m\u001b[0m\u001b[0m\n\u001b[0m\u001b[1;32m   7553\u001b[0m \u001b[0;34m\u001b[0m\u001b[0m\n\u001b[1;32m   7554\u001b[0m     \u001b[0;32mdef\u001b[0m \u001b[0mapplymap\u001b[0m\u001b[0;34m(\u001b[0m\u001b[0mself\u001b[0m\u001b[0;34m,\u001b[0m \u001b[0mfunc\u001b[0m\u001b[0;34m)\u001b[0m \u001b[0;34m->\u001b[0m \u001b[0;34m\"DataFrame\"\u001b[0m\u001b[0;34m:\u001b[0m\u001b[0;34m\u001b[0m\u001b[0;34m\u001b[0m\u001b[0m\n",
            "\u001b[0;32m/usr/local/lib/python3.6/dist-packages/pandas/core/apply.py\u001b[0m in \u001b[0;36mget_result\u001b[0;34m(self)\u001b[0m\n\u001b[1;32m    183\u001b[0m             \u001b[0;32mreturn\u001b[0m \u001b[0mself\u001b[0m\u001b[0;34m.\u001b[0m\u001b[0mapply_raw\u001b[0m\u001b[0;34m(\u001b[0m\u001b[0;34m)\u001b[0m\u001b[0;34m\u001b[0m\u001b[0;34m\u001b[0m\u001b[0m\n\u001b[1;32m    184\u001b[0m \u001b[0;34m\u001b[0m\u001b[0m\n\u001b[0;32m--> 185\u001b[0;31m         \u001b[0;32mreturn\u001b[0m \u001b[0mself\u001b[0m\u001b[0;34m.\u001b[0m\u001b[0mapply_standard\u001b[0m\u001b[0;34m(\u001b[0m\u001b[0;34m)\u001b[0m\u001b[0;34m\u001b[0m\u001b[0;34m\u001b[0m\u001b[0m\n\u001b[0m\u001b[1;32m    186\u001b[0m \u001b[0;34m\u001b[0m\u001b[0m\n\u001b[1;32m    187\u001b[0m     \u001b[0;32mdef\u001b[0m \u001b[0mapply_empty_result\u001b[0m\u001b[0;34m(\u001b[0m\u001b[0mself\u001b[0m\u001b[0;34m)\u001b[0m\u001b[0;34m:\u001b[0m\u001b[0;34m\u001b[0m\u001b[0;34m\u001b[0m\u001b[0m\n",
            "\u001b[0;32m/usr/local/lib/python3.6/dist-packages/pandas/core/apply.py\u001b[0m in \u001b[0;36mapply_standard\u001b[0;34m(self)\u001b[0m\n\u001b[1;32m    274\u001b[0m \u001b[0;34m\u001b[0m\u001b[0m\n\u001b[1;32m    275\u001b[0m     \u001b[0;32mdef\u001b[0m \u001b[0mapply_standard\u001b[0m\u001b[0;34m(\u001b[0m\u001b[0mself\u001b[0m\u001b[0;34m)\u001b[0m\u001b[0;34m:\u001b[0m\u001b[0;34m\u001b[0m\u001b[0;34m\u001b[0m\u001b[0m\n\u001b[0;32m--> 276\u001b[0;31m         \u001b[0mresults\u001b[0m\u001b[0;34m,\u001b[0m \u001b[0mres_index\u001b[0m \u001b[0;34m=\u001b[0m \u001b[0mself\u001b[0m\u001b[0;34m.\u001b[0m\u001b[0mapply_series_generator\u001b[0m\u001b[0;34m(\u001b[0m\u001b[0;34m)\u001b[0m\u001b[0;34m\u001b[0m\u001b[0;34m\u001b[0m\u001b[0m\n\u001b[0m\u001b[1;32m    277\u001b[0m \u001b[0;34m\u001b[0m\u001b[0m\n\u001b[1;32m    278\u001b[0m         \u001b[0;31m# wrap results\u001b[0m\u001b[0;34m\u001b[0m\u001b[0;34m\u001b[0m\u001b[0;34m\u001b[0m\u001b[0m\n",
            "\u001b[0;32m/usr/local/lib/python3.6/dist-packages/pandas/core/apply.py\u001b[0m in \u001b[0;36mapply_series_generator\u001b[0;34m(self)\u001b[0m\n\u001b[1;32m    303\u001b[0m                 \u001b[0;32mfor\u001b[0m \u001b[0mi\u001b[0m\u001b[0;34m,\u001b[0m \u001b[0mv\u001b[0m \u001b[0;32min\u001b[0m \u001b[0menumerate\u001b[0m\u001b[0;34m(\u001b[0m\u001b[0mseries_gen\u001b[0m\u001b[0;34m)\u001b[0m\u001b[0;34m:\u001b[0m\u001b[0;34m\u001b[0m\u001b[0;34m\u001b[0m\u001b[0m\n\u001b[1;32m    304\u001b[0m                     \u001b[0;31m# ignore SettingWithCopy here in case the user mutates\u001b[0m\u001b[0;34m\u001b[0m\u001b[0;34m\u001b[0m\u001b[0;34m\u001b[0m\u001b[0m\n\u001b[0;32m--> 305\u001b[0;31m                     \u001b[0mresults\u001b[0m\u001b[0;34m[\u001b[0m\u001b[0mi\u001b[0m\u001b[0;34m]\u001b[0m \u001b[0;34m=\u001b[0m \u001b[0mself\u001b[0m\u001b[0;34m.\u001b[0m\u001b[0mf\u001b[0m\u001b[0;34m(\u001b[0m\u001b[0mv\u001b[0m\u001b[0;34m)\u001b[0m\u001b[0;34m\u001b[0m\u001b[0;34m\u001b[0m\u001b[0m\n\u001b[0m\u001b[1;32m    306\u001b[0m                     \u001b[0;32mif\u001b[0m \u001b[0misinstance\u001b[0m\u001b[0;34m(\u001b[0m\u001b[0mresults\u001b[0m\u001b[0;34m[\u001b[0m\u001b[0mi\u001b[0m\u001b[0;34m]\u001b[0m\u001b[0;34m,\u001b[0m \u001b[0mABCSeries\u001b[0m\u001b[0;34m)\u001b[0m\u001b[0;34m:\u001b[0m\u001b[0;34m\u001b[0m\u001b[0;34m\u001b[0m\u001b[0m\n\u001b[1;32m    307\u001b[0m                         \u001b[0;31m# If we have a view on v, we need to make a copy because\u001b[0m\u001b[0;34m\u001b[0m\u001b[0;34m\u001b[0m\u001b[0;34m\u001b[0m\u001b[0m\n",
            "\u001b[0;32m<ipython-input-84-3cb670a13d1a>\u001b[0m in \u001b[0;36m<lambda>\u001b[0;34m(x)\u001b[0m\n\u001b[1;32m     35\u001b[0m \u001b[0;34m\u001b[0m\u001b[0m\n\u001b[1;32m     36\u001b[0m \u001b[0;31m# Calculating average precision for all queries in the test set\u001b[0m\u001b[0;34m\u001b[0m\u001b[0;34m\u001b[0m\u001b[0;34m\u001b[0m\u001b[0m\n\u001b[0;32m---> 37\u001b[0;31m \u001b[0mtesting_queries\u001b[0m\u001b[0;34m[\u001b[0m\u001b[0;34m'AP'\u001b[0m\u001b[0;34m]\u001b[0m\u001b[0;34m=\u001b[0m\u001b[0mtesting_queries\u001b[0m\u001b[0;34m.\u001b[0m\u001b[0mapply\u001b[0m\u001b[0;34m(\u001b[0m\u001b[0;32mlambda\u001b[0m \u001b[0mx\u001b[0m\u001b[0;34m:\u001b[0m \u001b[0maverage_precision\u001b[0m\u001b[0;34m(\u001b[0m\u001b[0mx\u001b[0m\u001b[0;34m[\u001b[0m\u001b[0;34m'qid'\u001b[0m\u001b[0;34m]\u001b[0m\u001b[0;34m,\u001b[0m\u001b[0mx\u001b[0m\u001b[0;34m[\u001b[0m\u001b[0;34m'vector'\u001b[0m\u001b[0;34m]\u001b[0m\u001b[0;34m)\u001b[0m\u001b[0;34m,\u001b[0m\u001b[0maxis\u001b[0m\u001b[0;34m=\u001b[0m\u001b[0;36m1\u001b[0m\u001b[0;34m)\u001b[0m\u001b[0;34m\u001b[0m\u001b[0;34m\u001b[0m\u001b[0m\n\u001b[0m\u001b[1;32m     38\u001b[0m \u001b[0;34m\u001b[0m\u001b[0m\n\u001b[1;32m     39\u001b[0m \u001b[0;31m# Finding Mean Average Precision\u001b[0m\u001b[0;34m\u001b[0m\u001b[0;34m\u001b[0m\u001b[0;34m\u001b[0m\u001b[0m\n",
            "\u001b[0;32m<ipython-input-84-3cb670a13d1a>\u001b[0m in \u001b[0;36maverage_precision\u001b[0;34m(qid, qvector)\u001b[0m\n\u001b[1;32m     19\u001b[0m   \u001b[0;31m#ranking.head()\u001b[0m\u001b[0;34m\u001b[0m\u001b[0;34m\u001b[0m\u001b[0;34m\u001b[0m\u001b[0m\n\u001b[1;32m     20\u001b[0m   \u001b[0;31m# Taking Top 10 documents for the evaluation\u001b[0m\u001b[0;34m\u001b[0m\u001b[0;34m\u001b[0m\u001b[0;34m\u001b[0m\u001b[0m\n\u001b[0;32m---> 21\u001b[0;31m   \u001b[0mranked\u001b[0m\u001b[0;34m=\u001b[0m\u001b[0mranking\u001b[0m\u001b[0;34m.\u001b[0m\u001b[0mhead\u001b[0m\u001b[0;34m(\u001b[0m\u001b[0;36m10\u001b[0m\u001b[0;34m)\u001b[0m\u001b[0;34m[\u001b[0m\u001b[0;34m'rel'\u001b[0m\u001b[0;34m]\u001b[0m\u001b[0;34m.\u001b[0m\u001b[0mvalues\u001b[0m\u001b[0;34m\u001b[0m\u001b[0;34m\u001b[0m\u001b[0m\n\u001b[0m\u001b[1;32m     22\u001b[0m \u001b[0;34m\u001b[0m\u001b[0m\n\u001b[1;32m     23\u001b[0m   \u001b[0;31m# Calculating precision\u001b[0m\u001b[0;34m\u001b[0m\u001b[0;34m\u001b[0m\u001b[0;34m\u001b[0m\u001b[0m\n",
            "\u001b[0;32m/usr/local/lib/python3.6/dist-packages/dask/dataframe/core.py\u001b[0m in \u001b[0;36mhead\u001b[0;34m(self, n, npartitions, compute)\u001b[0m\n\u001b[1;32m    996\u001b[0m             \u001b[0mWhether\u001b[0m \u001b[0mto\u001b[0m \u001b[0mcompute\u001b[0m \u001b[0mthe\u001b[0m \u001b[0mresult\u001b[0m\u001b[0;34m,\u001b[0m \u001b[0mdefault\u001b[0m \u001b[0;32mis\u001b[0m \u001b[0;32mTrue\u001b[0m\u001b[0;34m.\u001b[0m\u001b[0;34m\u001b[0m\u001b[0;34m\u001b[0m\u001b[0m\n\u001b[1;32m    997\u001b[0m         \"\"\"\n\u001b[0;32m--> 998\u001b[0;31m         \u001b[0;32mreturn\u001b[0m \u001b[0mself\u001b[0m\u001b[0;34m.\u001b[0m\u001b[0m_head\u001b[0m\u001b[0;34m(\u001b[0m\u001b[0mn\u001b[0m\u001b[0;34m=\u001b[0m\u001b[0mn\u001b[0m\u001b[0;34m,\u001b[0m \u001b[0mnpartitions\u001b[0m\u001b[0;34m=\u001b[0m\u001b[0mnpartitions\u001b[0m\u001b[0;34m,\u001b[0m \u001b[0mcompute\u001b[0m\u001b[0;34m=\u001b[0m\u001b[0mcompute\u001b[0m\u001b[0;34m,\u001b[0m \u001b[0msafe\u001b[0m\u001b[0;34m=\u001b[0m\u001b[0;32mTrue\u001b[0m\u001b[0;34m)\u001b[0m\u001b[0;34m\u001b[0m\u001b[0;34m\u001b[0m\u001b[0m\n\u001b[0m\u001b[1;32m    999\u001b[0m \u001b[0;34m\u001b[0m\u001b[0m\n\u001b[1;32m   1000\u001b[0m     \u001b[0;32mdef\u001b[0m \u001b[0m_head\u001b[0m\u001b[0;34m(\u001b[0m\u001b[0mself\u001b[0m\u001b[0;34m,\u001b[0m \u001b[0mn\u001b[0m\u001b[0;34m,\u001b[0m \u001b[0mnpartitions\u001b[0m\u001b[0;34m,\u001b[0m \u001b[0mcompute\u001b[0m\u001b[0;34m,\u001b[0m \u001b[0msafe\u001b[0m\u001b[0;34m)\u001b[0m\u001b[0;34m:\u001b[0m\u001b[0;34m\u001b[0m\u001b[0;34m\u001b[0m\u001b[0m\n",
            "\u001b[0;32m/usr/local/lib/python3.6/dist-packages/dask/dataframe/core.py\u001b[0m in \u001b[0;36m_head\u001b[0;34m(self, n, npartitions, compute, safe)\u001b[0m\n\u001b[1;32m   1029\u001b[0m \u001b[0;34m\u001b[0m\u001b[0m\n\u001b[1;32m   1030\u001b[0m         \u001b[0;32mif\u001b[0m \u001b[0mcompute\u001b[0m\u001b[0;34m:\u001b[0m\u001b[0;34m\u001b[0m\u001b[0;34m\u001b[0m\u001b[0m\n\u001b[0;32m-> 1031\u001b[0;31m             \u001b[0mresult\u001b[0m \u001b[0;34m=\u001b[0m \u001b[0mresult\u001b[0m\u001b[0;34m.\u001b[0m\u001b[0mcompute\u001b[0m\u001b[0;34m(\u001b[0m\u001b[0;34m)\u001b[0m\u001b[0;34m\u001b[0m\u001b[0;34m\u001b[0m\u001b[0m\n\u001b[0m\u001b[1;32m   1032\u001b[0m         \u001b[0;32mreturn\u001b[0m \u001b[0mresult\u001b[0m\u001b[0;34m\u001b[0m\u001b[0;34m\u001b[0m\u001b[0m\n\u001b[1;32m   1033\u001b[0m \u001b[0;34m\u001b[0m\u001b[0m\n",
            "\u001b[0;32m/usr/local/lib/python3.6/dist-packages/dask/base.py\u001b[0m in \u001b[0;36mcompute\u001b[0;34m(self, **kwargs)\u001b[0m\n\u001b[1;32m    164\u001b[0m         \u001b[0mdask\u001b[0m\u001b[0;34m.\u001b[0m\u001b[0mbase\u001b[0m\u001b[0;34m.\u001b[0m\u001b[0mcompute\u001b[0m\u001b[0;34m\u001b[0m\u001b[0;34m\u001b[0m\u001b[0m\n\u001b[1;32m    165\u001b[0m         \"\"\"\n\u001b[0;32m--> 166\u001b[0;31m         \u001b[0;34m(\u001b[0m\u001b[0mresult\u001b[0m\u001b[0;34m,\u001b[0m\u001b[0;34m)\u001b[0m \u001b[0;34m=\u001b[0m \u001b[0mcompute\u001b[0m\u001b[0;34m(\u001b[0m\u001b[0mself\u001b[0m\u001b[0;34m,\u001b[0m \u001b[0mtraverse\u001b[0m\u001b[0;34m=\u001b[0m\u001b[0;32mFalse\u001b[0m\u001b[0;34m,\u001b[0m \u001b[0;34m**\u001b[0m\u001b[0mkwargs\u001b[0m\u001b[0;34m)\u001b[0m\u001b[0;34m\u001b[0m\u001b[0;34m\u001b[0m\u001b[0m\n\u001b[0m\u001b[1;32m    167\u001b[0m         \u001b[0;32mreturn\u001b[0m \u001b[0mresult\u001b[0m\u001b[0;34m\u001b[0m\u001b[0;34m\u001b[0m\u001b[0m\n\u001b[1;32m    168\u001b[0m \u001b[0;34m\u001b[0m\u001b[0m\n",
            "\u001b[0;32m/usr/local/lib/python3.6/dist-packages/dask/base.py\u001b[0m in \u001b[0;36mcompute\u001b[0;34m(*args, **kwargs)\u001b[0m\n\u001b[1;32m    435\u001b[0m     \u001b[0mkeys\u001b[0m \u001b[0;34m=\u001b[0m \u001b[0;34m[\u001b[0m\u001b[0mx\u001b[0m\u001b[0;34m.\u001b[0m\u001b[0m__dask_keys__\u001b[0m\u001b[0;34m(\u001b[0m\u001b[0;34m)\u001b[0m \u001b[0;32mfor\u001b[0m \u001b[0mx\u001b[0m \u001b[0;32min\u001b[0m \u001b[0mcollections\u001b[0m\u001b[0;34m]\u001b[0m\u001b[0;34m\u001b[0m\u001b[0;34m\u001b[0m\u001b[0m\n\u001b[1;32m    436\u001b[0m     \u001b[0mpostcomputes\u001b[0m \u001b[0;34m=\u001b[0m \u001b[0;34m[\u001b[0m\u001b[0mx\u001b[0m\u001b[0;34m.\u001b[0m\u001b[0m__dask_postcompute__\u001b[0m\u001b[0;34m(\u001b[0m\u001b[0;34m)\u001b[0m \u001b[0;32mfor\u001b[0m \u001b[0mx\u001b[0m \u001b[0;32min\u001b[0m \u001b[0mcollections\u001b[0m\u001b[0;34m]\u001b[0m\u001b[0;34m\u001b[0m\u001b[0;34m\u001b[0m\u001b[0m\n\u001b[0;32m--> 437\u001b[0;31m     \u001b[0mresults\u001b[0m \u001b[0;34m=\u001b[0m \u001b[0mschedule\u001b[0m\u001b[0;34m(\u001b[0m\u001b[0mdsk\u001b[0m\u001b[0;34m,\u001b[0m \u001b[0mkeys\u001b[0m\u001b[0;34m,\u001b[0m \u001b[0;34m**\u001b[0m\u001b[0mkwargs\u001b[0m\u001b[0;34m)\u001b[0m\u001b[0;34m\u001b[0m\u001b[0;34m\u001b[0m\u001b[0m\n\u001b[0m\u001b[1;32m    438\u001b[0m     \u001b[0;32mreturn\u001b[0m \u001b[0mrepack\u001b[0m\u001b[0;34m(\u001b[0m\u001b[0;34m[\u001b[0m\u001b[0mf\u001b[0m\u001b[0;34m(\u001b[0m\u001b[0mr\u001b[0m\u001b[0;34m,\u001b[0m \u001b[0;34m*\u001b[0m\u001b[0ma\u001b[0m\u001b[0;34m)\u001b[0m \u001b[0;32mfor\u001b[0m \u001b[0mr\u001b[0m\u001b[0;34m,\u001b[0m \u001b[0;34m(\u001b[0m\u001b[0mf\u001b[0m\u001b[0;34m,\u001b[0m \u001b[0ma\u001b[0m\u001b[0;34m)\u001b[0m \u001b[0;32min\u001b[0m \u001b[0mzip\u001b[0m\u001b[0;34m(\u001b[0m\u001b[0mresults\u001b[0m\u001b[0;34m,\u001b[0m \u001b[0mpostcomputes\u001b[0m\u001b[0;34m)\u001b[0m\u001b[0;34m]\u001b[0m\u001b[0;34m)\u001b[0m\u001b[0;34m\u001b[0m\u001b[0;34m\u001b[0m\u001b[0m\n\u001b[1;32m    439\u001b[0m \u001b[0;34m\u001b[0m\u001b[0m\n",
            "\u001b[0;32m/usr/local/lib/python3.6/dist-packages/dask/threaded.py\u001b[0m in \u001b[0;36mget\u001b[0;34m(dsk, result, cache, num_workers, pool, **kwargs)\u001b[0m\n\u001b[1;32m     82\u001b[0m         \u001b[0mget_id\u001b[0m\u001b[0;34m=\u001b[0m\u001b[0m_thread_get_id\u001b[0m\u001b[0;34m,\u001b[0m\u001b[0;34m\u001b[0m\u001b[0;34m\u001b[0m\u001b[0m\n\u001b[1;32m     83\u001b[0m         \u001b[0mpack_exception\u001b[0m\u001b[0;34m=\u001b[0m\u001b[0mpack_exception\u001b[0m\u001b[0;34m,\u001b[0m\u001b[0;34m\u001b[0m\u001b[0;34m\u001b[0m\u001b[0m\n\u001b[0;32m---> 84\u001b[0;31m         \u001b[0;34m**\u001b[0m\u001b[0mkwargs\u001b[0m\u001b[0;34m\u001b[0m\u001b[0;34m\u001b[0m\u001b[0m\n\u001b[0m\u001b[1;32m     85\u001b[0m     )\n\u001b[1;32m     86\u001b[0m \u001b[0;34m\u001b[0m\u001b[0m\n",
            "\u001b[0;32m/usr/local/lib/python3.6/dist-packages/dask/local.py\u001b[0m in \u001b[0;36mget_async\u001b[0;34m(apply_async, num_workers, dsk, result, cache, get_id, rerun_exceptions_locally, pack_exception, raise_exception, callbacks, dumps, loads, **kwargs)\u001b[0m\n\u001b[1;32m    473\u001b[0m             \u001b[0;31m# Main loop, wait on tasks to finish, insert new ones\u001b[0m\u001b[0;34m\u001b[0m\u001b[0;34m\u001b[0m\u001b[0;34m\u001b[0m\u001b[0m\n\u001b[1;32m    474\u001b[0m             \u001b[0;32mwhile\u001b[0m \u001b[0mstate\u001b[0m\u001b[0;34m[\u001b[0m\u001b[0;34m\"waiting\"\u001b[0m\u001b[0;34m]\u001b[0m \u001b[0;32mor\u001b[0m \u001b[0mstate\u001b[0m\u001b[0;34m[\u001b[0m\u001b[0;34m\"ready\"\u001b[0m\u001b[0;34m]\u001b[0m \u001b[0;32mor\u001b[0m \u001b[0mstate\u001b[0m\u001b[0;34m[\u001b[0m\u001b[0;34m\"running\"\u001b[0m\u001b[0;34m]\u001b[0m\u001b[0;34m:\u001b[0m\u001b[0;34m\u001b[0m\u001b[0;34m\u001b[0m\u001b[0m\n\u001b[0;32m--> 475\u001b[0;31m                 \u001b[0mkey\u001b[0m\u001b[0;34m,\u001b[0m \u001b[0mres_info\u001b[0m\u001b[0;34m,\u001b[0m \u001b[0mfailed\u001b[0m \u001b[0;34m=\u001b[0m \u001b[0mqueue_get\u001b[0m\u001b[0;34m(\u001b[0m\u001b[0mqueue\u001b[0m\u001b[0;34m)\u001b[0m\u001b[0;34m\u001b[0m\u001b[0;34m\u001b[0m\u001b[0m\n\u001b[0m\u001b[1;32m    476\u001b[0m                 \u001b[0;32mif\u001b[0m \u001b[0mfailed\u001b[0m\u001b[0;34m:\u001b[0m\u001b[0;34m\u001b[0m\u001b[0;34m\u001b[0m\u001b[0m\n\u001b[1;32m    477\u001b[0m                     \u001b[0mexc\u001b[0m\u001b[0;34m,\u001b[0m \u001b[0mtb\u001b[0m \u001b[0;34m=\u001b[0m \u001b[0mloads\u001b[0m\u001b[0;34m(\u001b[0m\u001b[0mres_info\u001b[0m\u001b[0;34m)\u001b[0m\u001b[0;34m\u001b[0m\u001b[0;34m\u001b[0m\u001b[0m\n",
            "\u001b[0;32m/usr/local/lib/python3.6/dist-packages/dask/local.py\u001b[0m in \u001b[0;36mqueue_get\u001b[0;34m(q)\u001b[0m\n\u001b[1;32m    131\u001b[0m \u001b[0;34m\u001b[0m\u001b[0m\n\u001b[1;32m    132\u001b[0m     \u001b[0;32mdef\u001b[0m \u001b[0mqueue_get\u001b[0m\u001b[0;34m(\u001b[0m\u001b[0mq\u001b[0m\u001b[0;34m)\u001b[0m\u001b[0;34m:\u001b[0m\u001b[0;34m\u001b[0m\u001b[0;34m\u001b[0m\u001b[0m\n\u001b[0;32m--> 133\u001b[0;31m         \u001b[0;32mreturn\u001b[0m \u001b[0mq\u001b[0m\u001b[0;34m.\u001b[0m\u001b[0mget\u001b[0m\u001b[0;34m(\u001b[0m\u001b[0;34m)\u001b[0m\u001b[0;34m\u001b[0m\u001b[0;34m\u001b[0m\u001b[0m\n\u001b[0m\u001b[1;32m    134\u001b[0m \u001b[0;34m\u001b[0m\u001b[0m\n\u001b[1;32m    135\u001b[0m \u001b[0;34m\u001b[0m\u001b[0m\n",
            "\u001b[0;32m/usr/lib/python3.6/queue.py\u001b[0m in \u001b[0;36mget\u001b[0;34m(self, block, timeout)\u001b[0m\n\u001b[1;32m    162\u001b[0m             \u001b[0;32melif\u001b[0m \u001b[0mtimeout\u001b[0m \u001b[0;32mis\u001b[0m \u001b[0;32mNone\u001b[0m\u001b[0;34m:\u001b[0m\u001b[0;34m\u001b[0m\u001b[0;34m\u001b[0m\u001b[0m\n\u001b[1;32m    163\u001b[0m                 \u001b[0;32mwhile\u001b[0m \u001b[0;32mnot\u001b[0m \u001b[0mself\u001b[0m\u001b[0;34m.\u001b[0m\u001b[0m_qsize\u001b[0m\u001b[0;34m(\u001b[0m\u001b[0;34m)\u001b[0m\u001b[0;34m:\u001b[0m\u001b[0;34m\u001b[0m\u001b[0;34m\u001b[0m\u001b[0m\n\u001b[0;32m--> 164\u001b[0;31m                     \u001b[0mself\u001b[0m\u001b[0;34m.\u001b[0m\u001b[0mnot_empty\u001b[0m\u001b[0;34m.\u001b[0m\u001b[0mwait\u001b[0m\u001b[0;34m(\u001b[0m\u001b[0;34m)\u001b[0m\u001b[0;34m\u001b[0m\u001b[0;34m\u001b[0m\u001b[0m\n\u001b[0m\u001b[1;32m    165\u001b[0m             \u001b[0;32melif\u001b[0m \u001b[0mtimeout\u001b[0m \u001b[0;34m<\u001b[0m \u001b[0;36m0\u001b[0m\u001b[0;34m:\u001b[0m\u001b[0;34m\u001b[0m\u001b[0;34m\u001b[0m\u001b[0m\n\u001b[1;32m    166\u001b[0m                 \u001b[0;32mraise\u001b[0m \u001b[0mValueError\u001b[0m\u001b[0;34m(\u001b[0m\u001b[0;34m\"'timeout' must be a non-negative number\"\u001b[0m\u001b[0;34m)\u001b[0m\u001b[0;34m\u001b[0m\u001b[0;34m\u001b[0m\u001b[0m\n",
            "\u001b[0;32m/usr/lib/python3.6/threading.py\u001b[0m in \u001b[0;36mwait\u001b[0;34m(self, timeout)\u001b[0m\n\u001b[1;32m    293\u001b[0m         \u001b[0;32mtry\u001b[0m\u001b[0;34m:\u001b[0m    \u001b[0;31m# restore state no matter what (e.g., KeyboardInterrupt)\u001b[0m\u001b[0;34m\u001b[0m\u001b[0;34m\u001b[0m\u001b[0m\n\u001b[1;32m    294\u001b[0m             \u001b[0;32mif\u001b[0m \u001b[0mtimeout\u001b[0m \u001b[0;32mis\u001b[0m \u001b[0;32mNone\u001b[0m\u001b[0;34m:\u001b[0m\u001b[0;34m\u001b[0m\u001b[0;34m\u001b[0m\u001b[0m\n\u001b[0;32m--> 295\u001b[0;31m                 \u001b[0mwaiter\u001b[0m\u001b[0;34m.\u001b[0m\u001b[0macquire\u001b[0m\u001b[0;34m(\u001b[0m\u001b[0;34m)\u001b[0m\u001b[0;34m\u001b[0m\u001b[0;34m\u001b[0m\u001b[0m\n\u001b[0m\u001b[1;32m    296\u001b[0m                 \u001b[0mgotit\u001b[0m \u001b[0;34m=\u001b[0m \u001b[0;32mTrue\u001b[0m\u001b[0;34m\u001b[0m\u001b[0;34m\u001b[0m\u001b[0m\n\u001b[1;32m    297\u001b[0m             \u001b[0;32melse\u001b[0m\u001b[0;34m:\u001b[0m\u001b[0;34m\u001b[0m\u001b[0;34m\u001b[0m\u001b[0m\n",
            "\u001b[0;31mKeyboardInterrupt\u001b[0m: "
          ]
        }
      ]
    },
    {
      "cell_type": "code",
      "metadata": {
        "id": "fnx_da0Bgep0"
      },
      "source": [
        "def ranking_ir(query):\n",
        "  \n",
        "  # pre-process Query\n",
        "  query=query.lower()\n",
        "  query=expand_contractions(query)\n",
        "  query=clean_text(query)\n",
        "  query=re.sub(' +',' ',query)\n",
        "\n",
        "  # generating vector\n",
        "  vector=get_embedding_w2v(query.split())\n",
        "\n",
        "  # ranking documents\n",
        "  documents=testing_corpus[['docid','title','body']].copy()\n",
        "  documents['similarity']=testing_corpus['vector'].apply(lambda x: cosine_similarity(np.array(vector).reshape(1, -1),np.array(x).reshape(1, -1)).item(),meta=('Object'))\n",
        "  #documents.sort_values(by='similarity',ascending=False,inplace=True)\n",
        " \n",
        "  return documents.nlargest(n=10,columns ='similarity').head(10)"
      ],
      "execution_count": null,
      "outputs": []
    },
    {
      "cell_type": "code",
      "metadata": {
        "colab": {
          "base_uri": "https://localhost:8080/",
          "height": 335
        },
        "id": "GedKxv4Z093F",
        "outputId": "6c184f1e-3e08-4ab0-f3b5-102cf16ac1cc"
      },
      "source": [
        "ranking_ir('michael jordan')"
      ],
      "execution_count": null,
      "outputs": [
        {
          "output_type": "execute_result",
          "data": {
            "text/html": [
              "<div>\n",
              "<style scoped>\n",
              "    .dataframe tbody tr th:only-of-type {\n",
              "        vertical-align: middle;\n",
              "    }\n",
              "\n",
              "    .dataframe tbody tr th {\n",
              "        vertical-align: top;\n",
              "    }\n",
              "\n",
              "    .dataframe thead th {\n",
              "        text-align: right;\n",
              "    }\n",
              "</style>\n",
              "<table border=\"1\" class=\"dataframe\">\n",
              "  <thead>\n",
              "    <tr style=\"text-align: right;\">\n",
              "      <th></th>\n",
              "      <th>docid</th>\n",
              "      <th>title</th>\n",
              "      <th>body</th>\n",
              "      <th>similarity</th>\n",
              "    </tr>\n",
              "  </thead>\n",
              "  <tbody>\n",
              "    <tr>\n",
              "      <th>11</th>\n",
              "      <td>D2962495</td>\n",
              "      <td>How Much Is Air Jordan Net Worth</td>\n",
              "      <td>Profession: Basketball player, Actor, Athlete,...</td>\n",
              "      <td>0.858728</td>\n",
              "    </tr>\n",
              "    <tr>\n",
              "      <th>34</th>\n",
              "      <td>D3140874</td>\n",
              "      <td>Michael Jordan Net Worth</td>\n",
              "      <td>Michael Jordan Net Worth· In Athletes, NBAMich...</td>\n",
              "      <td>0.792597</td>\n",
              "    </tr>\n",
              "    <tr>\n",
              "      <th>1</th>\n",
              "      <td>D2218024</td>\n",
              "      <td>What draft round was Michael Jordan picked?</td>\n",
              "      <td>Answers.com ® Wiki Answers ® Categories Entert...</td>\n",
              "      <td>0.783932</td>\n",
              "    </tr>\n",
              "    <tr>\n",
              "      <th>28</th>\n",
              "      <td>D1656700</td>\n",
              "      <td>What nba team did Michael Jordan get drafted to?</td>\n",
              "      <td>What nba team did Michael Jordan get drafted t...</td>\n",
              "      <td>0.782568</td>\n",
              "    </tr>\n",
              "    <tr>\n",
              "      <th>27</th>\n",
              "      <td>D2796474</td>\n",
              "      <td>How many championships does Michael Jordan have?</td>\n",
              "      <td>Jim Schiller 1 Contribution How many champions...</td>\n",
              "      <td>0.780309</td>\n",
              "    </tr>\n",
              "    <tr>\n",
              "      <th>28</th>\n",
              "      <td>D2688388</td>\n",
              "      <td>How many career points did Michael Jordan score?</td>\n",
              "      <td>Yaaaaa23 2 Contributions How many career point...</td>\n",
              "      <td>0.768375</td>\n",
              "    </tr>\n",
              "    <tr>\n",
              "      <th>23</th>\n",
              "      <td>D3492208</td>\n",
              "      <td>How many NBA championships did Michael Jordan ...</td>\n",
              "      <td>Flyinryan 16 Contributions How many NBA champi...</td>\n",
              "      <td>0.766328</td>\n",
              "    </tr>\n",
              "    <tr>\n",
              "      <th>27</th>\n",
              "      <td>D842657</td>\n",
              "      <td>How many NBA championships did Michael Jordan ...</td>\n",
              "      <td>Answers.com ® Wiki Answers ® Categories Sports...</td>\n",
              "      <td>0.765038</td>\n",
              "    </tr>\n",
              "    <tr>\n",
              "      <th>24</th>\n",
              "      <td>D2785629</td>\n",
              "      <td>What is the name of a basketball team that is ...</td>\n",
              "      <td>Answers.com ® Wiki Answers ® Categories Entert...</td>\n",
              "      <td>0.760559</td>\n",
              "    </tr>\n",
              "    <tr>\n",
              "      <th>42</th>\n",
              "      <td>D1900195</td>\n",
              "      <td>What year did Michael Jordan play baseball?</td>\n",
              "      <td>Answers.com ® Wiki Answers ® Categories Entert...</td>\n",
              "      <td>0.754815</td>\n",
              "    </tr>\n",
              "  </tbody>\n",
              "</table>\n",
              "</div>"
            ],
            "text/plain": [
              "       docid  ... similarity\n",
              "11  D2962495  ...   0.858728\n",
              "34  D3140874  ...   0.792597\n",
              "1   D2218024  ...   0.783932\n",
              "28  D1656700  ...   0.782568\n",
              "27  D2796474  ...   0.780309\n",
              "28  D2688388  ...   0.768375\n",
              "23  D3492208  ...   0.766328\n",
              "27   D842657  ...   0.765038\n",
              "24  D2785629  ...   0.760559\n",
              "42  D1900195  ...   0.754815\n",
              "\n",
              "[10 rows x 4 columns]"
            ]
          },
          "metadata": {
            "tags": []
          },
          "execution_count": 94
        }
      ]
    }
  ]
}